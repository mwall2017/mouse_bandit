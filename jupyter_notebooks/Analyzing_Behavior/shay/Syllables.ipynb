{
 "cells": [
  {
   "cell_type": "markdown",
   "metadata": {},
   "source": [
    "# Extracting 'syllables' "
   ]
  },
  {
   "cell_type": "code",
   "execution_count": 1,
   "metadata": {
    "collapsed": false
   },
   "outputs": [],
   "source": [
    "import sys\n",
    "sys.path.append('/Users/shayneufeld/GitHub/mouse_bandit/data_preprocessing_code')\n",
    "sys.path.append('/Users/shayneufeld/GitHub/mouse_bandit')\n",
    "import support_functions as sf\n",
    "import numpy as np\n",
    "import matplotlib.pyplot as plt\n",
    "import seaborn as sns\n",
    "import pandas as pd\n",
    "import scipy as sp\n",
    "import bandit_preprocessing as bp\n",
    "import sys\n",
    "import os\n",
    "%matplotlib inline "
   ]
  },
  {
   "cell_type": "markdown",
   "metadata": {},
   "source": [
    "## load in csv files (from running exportTrials.m)"
   ]
  },
  {
   "cell_type": "markdown",
   "metadata": {},
   "source": [
    "### Mouse data"
   ]
  },
  {
   "cell_type": "code",
   "execution_count": 2,
   "metadata": {
    "collapsed": false
   },
   "outputs": [],
   "source": [
    "data90 = pd.read_csv('/Users/shayneufeld/GitHub/mouse_bandit/data/processed_data/full_9010_02192017.csv',index_col=0)\n",
    "data80 = pd.read_csv('/Users/shayneufeld/GitHub/mouse_bandit/data/processed_data/full_8020_02192017.csv',index_col=0)\n",
    "data70 = pd.read_csv('/Users/shayneufeld/GitHub/mouse_bandit/data/processed_data/full_7030_02192017.csv',index_col=0)"
   ]
  },
  {
   "cell_type": "markdown",
   "metadata": {},
   "source": [
    "### HMM data"
   ]
  },
  {
   "cell_type": "code",
   "execution_count": 84,
   "metadata": {
    "collapsed": true
   },
   "outputs": [],
   "source": [
    "data90 = pd.read_csv('/Users/shayneufeld/GitHub/mouse_bandit/data/processed_data/hmm_matrix_full_9010.csv',index_col=0)\n",
    "data80 = pd.read_csv('/Users/shayneufeld/GitHub/mouse_bandit/data/processed_data/hmm_matrix_full_8020.csv',index_col=0)\n",
    "data70 = pd.read_csv('/Users/shayneufeld/GitHub/mouse_bandit/data/processed_data/hmm_matrix_full_7030.csv',index_col=0)"
   ]
  },
  {
   "cell_type": "code",
   "execution_count": 3,
   "metadata": {
    "collapsed": false,
    "scrolled": true
   },
   "outputs": [],
   "source": [
    "data90['Condition'] = '90-10'\n",
    "data80['Condition'] = '80-20'\n",
    "data70['Condition'] = '70-30'"
   ]
  },
  {
   "cell_type": "code",
   "execution_count": 4,
   "metadata": {
    "collapsed": false,
    "scrolled": true
   },
   "outputs": [],
   "source": [
    "data = data90.append(data80)\n",
    "data = data.append(data70)"
   ]
  },
  {
   "cell_type": "code",
   "execution_count": 5,
   "metadata": {
    "collapsed": false
   },
   "outputs": [
    {
     "data": {
      "text/plain": [
       "(77487, 51)"
      ]
     },
     "execution_count": 5,
     "metadata": {},
     "output_type": "execute_result"
    }
   ],
   "source": [
    "data.shape"
   ]
  },
  {
   "cell_type": "markdown",
   "metadata": {},
   "source": [
    "# Looking at syllables"
   ]
  },
  {
   "cell_type": "code",
   "execution_count": 6,
   "metadata": {
    "collapsed": false
   },
   "outputs": [
    {
     "data": {
      "text/html": [
       "<div>\n",
       "<table border=\"1\" class=\"dataframe\">\n",
       "  <thead>\n",
       "    <tr style=\"text-align: right;\">\n",
       "      <th></th>\n",
       "      <th>Mouse ID</th>\n",
       "      <th>Session ID</th>\n",
       "      <th>Block Trial</th>\n",
       "      <th>Port Streak</th>\n",
       "      <th>Reward Streak</th>\n",
       "      <th>10_Port</th>\n",
       "      <th>10_Reward</th>\n",
       "      <th>10_ITI</th>\n",
       "      <th>10_trialDuration</th>\n",
       "      <th>9_Port</th>\n",
       "      <th>...</th>\n",
       "      <th>1_Port</th>\n",
       "      <th>1_Reward</th>\n",
       "      <th>1_ITI</th>\n",
       "      <th>1_trialDuration</th>\n",
       "      <th>0_ITI</th>\n",
       "      <th>Decision</th>\n",
       "      <th>Switch</th>\n",
       "      <th>Higher p port</th>\n",
       "      <th>Reward</th>\n",
       "      <th>Condition</th>\n",
       "    </tr>\n",
       "  </thead>\n",
       "  <tbody>\n",
       "    <tr>\n",
       "      <th>0</th>\n",
       "      <td>K1</td>\n",
       "      <td>11042016_K1</td>\n",
       "      <td>11.0</td>\n",
       "      <td>9.0</td>\n",
       "      <td>-1.0</td>\n",
       "      <td>0.0</td>\n",
       "      <td>0.0</td>\n",
       "      <td>15.781</td>\n",
       "      <td>1.542</td>\n",
       "      <td>1.0</td>\n",
       "      <td>...</td>\n",
       "      <td>1.0</td>\n",
       "      <td>0.0</td>\n",
       "      <td>1.346</td>\n",
       "      <td>0.674</td>\n",
       "      <td>1.087</td>\n",
       "      <td>1.0</td>\n",
       "      <td>0.0</td>\n",
       "      <td>1.0</td>\n",
       "      <td>1.0</td>\n",
       "      <td>90-10</td>\n",
       "    </tr>\n",
       "    <tr>\n",
       "      <th>1</th>\n",
       "      <td>K1</td>\n",
       "      <td>11042016_K1</td>\n",
       "      <td>12.0</td>\n",
       "      <td>10.0</td>\n",
       "      <td>1.0</td>\n",
       "      <td>1.0</td>\n",
       "      <td>1.0</td>\n",
       "      <td>3.252</td>\n",
       "      <td>0.880</td>\n",
       "      <td>1.0</td>\n",
       "      <td>...</td>\n",
       "      <td>1.0</td>\n",
       "      <td>1.0</td>\n",
       "      <td>1.087</td>\n",
       "      <td>0.574</td>\n",
       "      <td>1.584</td>\n",
       "      <td>1.0</td>\n",
       "      <td>0.0</td>\n",
       "      <td>1.0</td>\n",
       "      <td>1.0</td>\n",
       "      <td>90-10</td>\n",
       "    </tr>\n",
       "    <tr>\n",
       "      <th>2</th>\n",
       "      <td>K1</td>\n",
       "      <td>11042016_K1</td>\n",
       "      <td>13.0</td>\n",
       "      <td>10.0</td>\n",
       "      <td>2.0</td>\n",
       "      <td>1.0</td>\n",
       "      <td>1.0</td>\n",
       "      <td>1.294</td>\n",
       "      <td>0.805</td>\n",
       "      <td>1.0</td>\n",
       "      <td>...</td>\n",
       "      <td>1.0</td>\n",
       "      <td>1.0</td>\n",
       "      <td>1.584</td>\n",
       "      <td>0.646</td>\n",
       "      <td>5.985</td>\n",
       "      <td>1.0</td>\n",
       "      <td>0.0</td>\n",
       "      <td>1.0</td>\n",
       "      <td>1.0</td>\n",
       "      <td>90-10</td>\n",
       "    </tr>\n",
       "    <tr>\n",
       "      <th>3</th>\n",
       "      <td>K1</td>\n",
       "      <td>11042016_K1</td>\n",
       "      <td>14.0</td>\n",
       "      <td>10.0</td>\n",
       "      <td>3.0</td>\n",
       "      <td>1.0</td>\n",
       "      <td>1.0</td>\n",
       "      <td>2.992</td>\n",
       "      <td>0.787</td>\n",
       "      <td>1.0</td>\n",
       "      <td>...</td>\n",
       "      <td>1.0</td>\n",
       "      <td>1.0</td>\n",
       "      <td>5.985</td>\n",
       "      <td>0.552</td>\n",
       "      <td>1.062</td>\n",
       "      <td>1.0</td>\n",
       "      <td>0.0</td>\n",
       "      <td>1.0</td>\n",
       "      <td>1.0</td>\n",
       "      <td>90-10</td>\n",
       "    </tr>\n",
       "    <tr>\n",
       "      <th>4</th>\n",
       "      <td>K1</td>\n",
       "      <td>11042016_K1</td>\n",
       "      <td>15.0</td>\n",
       "      <td>10.0</td>\n",
       "      <td>4.0</td>\n",
       "      <td>1.0</td>\n",
       "      <td>1.0</td>\n",
       "      <td>1.058</td>\n",
       "      <td>0.689</td>\n",
       "      <td>1.0</td>\n",
       "      <td>...</td>\n",
       "      <td>1.0</td>\n",
       "      <td>1.0</td>\n",
       "      <td>1.062</td>\n",
       "      <td>0.664</td>\n",
       "      <td>1.122</td>\n",
       "      <td>1.0</td>\n",
       "      <td>0.0</td>\n",
       "      <td>1.0</td>\n",
       "      <td>0.0</td>\n",
       "      <td>90-10</td>\n",
       "    </tr>\n",
       "  </tbody>\n",
       "</table>\n",
       "<p>5 rows × 51 columns</p>\n",
       "</div>"
      ],
      "text/plain": [
       "  Mouse ID   Session ID  Block Trial  Port Streak  Reward Streak  10_Port  \\\n",
       "0       K1  11042016_K1         11.0          9.0           -1.0      0.0   \n",
       "1       K1  11042016_K1         12.0         10.0            1.0      1.0   \n",
       "2       K1  11042016_K1         13.0         10.0            2.0      1.0   \n",
       "3       K1  11042016_K1         14.0         10.0            3.0      1.0   \n",
       "4       K1  11042016_K1         15.0         10.0            4.0      1.0   \n",
       "\n",
       "   10_Reward  10_ITI  10_trialDuration  9_Port    ...      1_Port  1_Reward  \\\n",
       "0        0.0  15.781             1.542     1.0    ...         1.0       0.0   \n",
       "1        1.0   3.252             0.880     1.0    ...         1.0       1.0   \n",
       "2        1.0   1.294             0.805     1.0    ...         1.0       1.0   \n",
       "3        1.0   2.992             0.787     1.0    ...         1.0       1.0   \n",
       "4        1.0   1.058             0.689     1.0    ...         1.0       1.0   \n",
       "\n",
       "   1_ITI  1_trialDuration  0_ITI  Decision  Switch  Higher p port  Reward  \\\n",
       "0  1.346            0.674  1.087       1.0     0.0            1.0     1.0   \n",
       "1  1.087            0.574  1.584       1.0     0.0            1.0     1.0   \n",
       "2  1.584            0.646  5.985       1.0     0.0            1.0     1.0   \n",
       "3  5.985            0.552  1.062       1.0     0.0            1.0     1.0   \n",
       "4  1.062            0.664  1.122       1.0     0.0            1.0     0.0   \n",
       "\n",
       "   Condition  \n",
       "0      90-10  \n",
       "1      90-10  \n",
       "2      90-10  \n",
       "3      90-10  \n",
       "4      90-10  \n",
       "\n",
       "[5 rows x 51 columns]"
      ]
     },
     "execution_count": 6,
     "metadata": {},
     "output_type": "execute_result"
    }
   ],
   "source": [
    "data.head(5)"
   ]
  },
  {
   "cell_type": "markdown",
   "metadata": {},
   "source": [
    "# Syllables (including port)"
   ]
  },
  {
   "cell_type": "code",
   "execution_count": 167,
   "metadata": {
    "collapsed": false,
    "scrolled": false
   },
   "outputs": [],
   "source": [
    "columns = data.columns.values\n",
    "combos = []\n",
    "df_combos = pd.DataFrame(data = None,index=np.arange(0,data.shape[0]),columns=['Syllable','Decision','Mouse ID','Condition'])\n",
    "for row in range(data.shape[0]):\n",
    "    trial = data.iloc[row]\n",
    "    c = np.zeros(10)\n",
    "\n",
    "    for j,i in enumerate(np.arange(1,11)):\n",
    "        i_str = str(i) + '_'\n",
    "        matching = [s for s in columns if ((i_str in s) & ((('Port') in s) or ('Reward' in s)))]\n",
    "\n",
    "        if (np.array_equal(trial[matching].values,[0,0])):\n",
    "            c[j] = -1\n",
    "        elif (np.array_equal(trial[matching].values,[1,0])):\n",
    "            c[j] = -2\n",
    "        elif (np.array_equal(trial[matching].values,[0,1])):\n",
    "            c[j] = 1\n",
    "        elif (np.array_equal(trial[matching].values,[1,1])):\n",
    "            c[j] = 2\n",
    "\n",
    "    c = np.flipud(c)\n",
    "    \n",
    "    df_combos.iloc[row]['Syllable'] = str(c)[1:-1]\n",
    "    df_combos.iloc[row]['Decision'] = trial['Decision']\n",
    "    df_combos.iloc[row]['Mouse ID'] = trial['Mouse ID']\n",
    "    df_combos.iloc[row]['Condition'] = trial['Condition']"
   ]
  },
  {
   "cell_type": "markdown",
   "metadata": {},
   "source": [
    "# Syllables (Reward only)"
   ]
  },
  {
   "cell_type": "code",
   "execution_count": 174,
   "metadata": {
    "collapsed": false
   },
   "outputs": [],
   "source": [
    "columns = data.columns.values\n",
    "combos = []\n",
    "df_combos = pd.DataFrame(data = None,index=np.arange(0,data.shape[0]),columns=['Syllable','Decision','Mouse ID','Condition'])\n",
    "for row in range(data.shape[0]):\n",
    "    trial = data.iloc[row]\n",
    "    c = np.zeros(10)\n",
    "    \n",
    "    #only consider instances where the mouse has not switched in the past 5 trials\n",
    "    if trial['Port Streak'] >= 5:\n",
    "        for j,i in enumerate(np.arange(1,11)):\n",
    "            i_str = str(i) + '_'\n",
    "\n",
    "            matching = [s for s in columns if ((i_str in s) & ('Reward' in s))]\n",
    "\n",
    "            c[j] = trial[matching].values\n",
    "\n",
    "        c = np.flipud(c)\n",
    "\n",
    "        df_combos.iloc[row]['Syllable'] = str(c)[1:-1]\n",
    "        df_combos.iloc[row]['Decision'] = trial['Decision']\n",
    "        df_combos.iloc[row]['Mouse ID'] = trial['Mouse ID']\n",
    "        df_combos.iloc[row]['Condition'] = trial['Condition']\n"
   ]
  },
  {
   "cell_type": "markdown",
   "metadata": {},
   "source": [
    "## Load in df_combos (if already computed -- it takes a while)"
   ]
  },
  {
   "cell_type": "code",
   "execution_count": 7,
   "metadata": {
    "collapsed": false
   },
   "outputs": [
    {
     "data": {
      "text/plain": [
       "(77487, 6)"
      ]
     },
     "execution_count": 7,
     "metadata": {},
     "output_type": "execute_result"
    }
   ],
   "source": [
    "df_combos = pd.read_csv('/Users/shayneufeld/GitHub/mouse_bandit/data/syllables.csv',index_col=0)\n",
    "df_combos.shape"
   ]
  },
  {
   "cell_type": "markdown",
   "metadata": {},
   "source": [
    "## Add 'switch' parameter"
   ]
  },
  {
   "cell_type": "code",
   "execution_count": 8,
   "metadata": {
    "collapsed": true
   },
   "outputs": [],
   "source": [
    "df_combos['Switch'] = data['Switch'].values"
   ]
  },
  {
   "cell_type": "markdown",
   "metadata": {},
   "source": [
    "## Add 'port streak' parameter"
   ]
  },
  {
   "cell_type": "code",
   "execution_count": 15,
   "metadata": {
    "collapsed": true
   },
   "outputs": [],
   "source": [
    "df_combos['Port Streak'] = data['Port Streak'].values\n",
    "df = df_combos[df_combos['Port Streak'] >= 10].copy()"
   ]
  },
  {
   "cell_type": "markdown",
   "metadata": {},
   "source": [
    "## Unique syllables"
   ]
  },
  {
   "cell_type": "code",
   "execution_count": 16,
   "metadata": {
    "collapsed": false,
    "scrolled": false
   },
   "outputs": [
    {
     "data": {
      "text/plain": [
       "(1009,)"
      ]
     },
     "execution_count": 16,
     "metadata": {},
     "output_type": "execute_result"
    }
   ],
   "source": [
    "unique = np.unique(df['Syllable'].values)\n",
    "unique.shape"
   ]
  },
  {
   "cell_type": "markdown",
   "metadata": {},
   "source": [
    "## p(switch) for each syllable"
   ]
  },
  {
   "cell_type": "code",
   "execution_count": 17,
   "metadata": {
    "collapsed": false
   },
   "outputs": [],
   "source": [
    "u_switch = []\n",
    "for u in unique:\n",
    "    u_switch.append(df_combos[df_combos['Syllable'] == u]['Switch'].mean())"
   ]
  },
  {
   "cell_type": "markdown",
   "metadata": {},
   "source": [
    "## variance for each syllable\n",
    "\n",
    "since switching is a binary variable, it takes on a Bernoulli distribution (ie probability distribution of a random variable which takes the value 1 (ie switch) with probability *p* (ie u_switch) and the value 0 (stay) with probability *q* = 1-*p*\n",
    "\n",
    "variance = p(1-p) = pq"
   ]
  },
  {
   "cell_type": "code",
   "execution_count": 19,
   "metadata": {
    "collapsed": true
   },
   "outputs": [],
   "source": [
    "v = np.zeros(len(u_switch))\n",
    "\n",
    "for i,u in enumerate(u_switch):\n",
    "    v[i] = u*(1-u)"
   ]
  },
  {
   "cell_type": "code",
   "execution_count": 21,
   "metadata": {
    "collapsed": false
   },
   "outputs": [
    {
     "data": {
      "text/plain": [
       "<matplotlib.text.Text at 0x10ffec860>"
      ]
     },
     "execution_count": 21,
     "metadata": {},
     "output_type": "execute_result"
    },
    {
     "data": {
      "image/png": "[encoded data removed]",
      "text/plain": [
       "<matplotlib.figure.Figure at 0x111759e80>"
      ]
     },
     "metadata": {},
     "output_type": "display_data"
    }
   ],
   "source": [
    "plt.hist(v,bins=20)\n",
    "plt.xlabel('variance')\n",
    "plt.ylabel('Syllable Count')"
   ]
  },
  {
   "cell_type": "code",
   "execution_count": 18,
   "metadata": {
    "collapsed": false
   },
   "outputs": [
    {
     "data": {
      "text/plain": [
       "<matplotlib.text.Text at 0x11049f978>"
      ]
     },
     "execution_count": 18,
     "metadata": {},
     "output_type": "execute_result"
    },
    {
     "data": {
      "image/png": "[encoded data removed]",
      "text/plain": [
       "<matplotlib.figure.Figure at 0x110668ac8>"
      ]
     },
     "metadata": {},
     "output_type": "display_data"
    }
   ],
   "source": [
    "plt.hist(u_switch,bins=20)\n",
    "plt.xlabel('p(switch)')\n",
    "plt.ylabel('Syllable Count')"
   ]
  },
  {
   "cell_type": "code",
   "execution_count": 23,
   "metadata": {
    "collapsed": true
   },
   "outputs": [],
   "source": [
    "u_switch = np.asarray(u_switch)"
   ]
  },
  {
   "cell_type": "code",
   "execution_count": 66,
   "metadata": {
    "collapsed": false,
    "scrolled": false
   },
   "outputs": [
    {
     "data": {
      "text/plain": [
       "<seaborn.axisgrid.JointGrid at 0x1106c9d68>"
      ]
     },
     "execution_count": 66,
     "metadata": {},
     "output_type": "execute_result"
    },
    {
     "data": {
      "text/plain": [
       "<matplotlib.figure.Figure at 0x1106c9f60>"
      ]
     },
     "metadata": {},
     "output_type": "display_data"
    },
    {
     "data": {
      "image/png": "[encoded data removed]",
      "text/plain": [
       "<matplotlib.figure.Figure at 0x11f65e748>"
      ]
     },
     "metadata": {},
     "output_type": "display_data"
    }
   ],
   "source": [
    "b = pd.DataFrame(data = {'syllable':unique,'p(switch)':u_switch,'variance':v})\n",
    "plt.figure(figsize=(10,10))\n",
    "sns.jointplot(x='p(switch)',y='variance',data=b)"
   ]
  },
  {
   "cell_type": "code",
   "execution_count": 49,
   "metadata": {
    "collapsed": false
   },
   "outputs": [
    {
     "data": {
      "text/html": [
       "<div>\n",
       "<table border=\"1\" class=\"dataframe\">\n",
       "  <thead>\n",
       "    <tr style=\"text-align: right;\">\n",
       "      <th></th>\n",
       "      <th>p(switch)</th>\n",
       "      <th>syllable</th>\n",
       "      <th>variance</th>\n",
       "    </tr>\n",
       "  </thead>\n",
       "  <tbody>\n",
       "    <tr>\n",
       "      <th>66</th>\n",
       "      <td>0.548387</td>\n",
       "      <td>0.  0.  0.  1.  0.  0.  1.  0.  0.  0.</td>\n",
       "      <td>0.247659</td>\n",
       "    </tr>\n",
       "    <tr>\n",
       "      <th>97</th>\n",
       "      <td>0.538462</td>\n",
       "      <td>0.  0.  0.  1.  1.  0.  1.  0.  0.  0.</td>\n",
       "      <td>0.248521</td>\n",
       "    </tr>\n",
       "    <tr>\n",
       "      <th>112</th>\n",
       "      <td>0.541667</td>\n",
       "      <td>0.  0.  0.  1.  1.  1.  1.  0.  0.  0.</td>\n",
       "      <td>0.248264</td>\n",
       "    </tr>\n",
       "    <tr>\n",
       "      <th>166</th>\n",
       "      <td>0.545455</td>\n",
       "      <td>0.  0.  1.  0.  1.  1.  0.  0.  0.  0.</td>\n",
       "      <td>0.247934</td>\n",
       "    </tr>\n",
       "    <tr>\n",
       "      <th>197</th>\n",
       "      <td>0.571429</td>\n",
       "      <td>0.  0.  1.  1.  0.  1.  0.  0.  0.  0.</td>\n",
       "      <td>0.244898</td>\n",
       "    </tr>\n",
       "    <tr>\n",
       "      <th>229</th>\n",
       "      <td>0.511628</td>\n",
       "      <td>0.  0.  1.  1.  1.  1.  0.  0.  0.  0.</td>\n",
       "      <td>0.249865</td>\n",
       "    </tr>\n",
       "    <tr>\n",
       "      <th>245</th>\n",
       "      <td>0.533333</td>\n",
       "      <td>0.  1.  0.  0.  0.  0.  0.  0.  0.  0.</td>\n",
       "      <td>0.248889</td>\n",
       "    </tr>\n",
       "    <tr>\n",
       "      <th>506</th>\n",
       "      <td>0.560976</td>\n",
       "      <td>1.  0.  0.  0.  0.  0.  1.  0.  0.  0.</td>\n",
       "      <td>0.246282</td>\n",
       "    </tr>\n",
       "    <tr>\n",
       "      <th>538</th>\n",
       "      <td>0.521739</td>\n",
       "      <td>1.  0.  0.  0.  1.  0.  1.  0.  0.  0.</td>\n",
       "      <td>0.249527</td>\n",
       "    </tr>\n",
       "    <tr>\n",
       "      <th>562</th>\n",
       "      <td>0.527778</td>\n",
       "      <td>1.  0.  0.  1.  0.  0.  0.  0.  0.  0.</td>\n",
       "      <td>0.249228</td>\n",
       "    </tr>\n",
       "    <tr>\n",
       "      <th>777</th>\n",
       "      <td>0.525000</td>\n",
       "      <td>1.  1.  0.  0.  0.  1.  1.  0.  0.  0.</td>\n",
       "      <td>0.249375</td>\n",
       "    </tr>\n",
       "    <tr>\n",
       "      <th>785</th>\n",
       "      <td>0.522727</td>\n",
       "      <td>1.  1.  0.  0.  1.  0.  0.  0.  0.  0.</td>\n",
       "      <td>0.249483</td>\n",
       "    </tr>\n",
       "    <tr>\n",
       "      <th>913</th>\n",
       "      <td>0.508197</td>\n",
       "      <td>1.  1.  1.  0.  1.  0.  0.  0.  0.  0.</td>\n",
       "      <td>0.249933</td>\n",
       "    </tr>\n",
       "  </tbody>\n",
       "</table>\n",
       "</div>"
      ],
      "text/plain": [
       "     p(switch)                                 syllable  variance\n",
       "66    0.548387   0.  0.  0.  1.  0.  0.  1.  0.  0.  0.  0.247659\n",
       "97    0.538462   0.  0.  0.  1.  1.  0.  1.  0.  0.  0.  0.248521\n",
       "112   0.541667   0.  0.  0.  1.  1.  1.  1.  0.  0.  0.  0.248264\n",
       "166   0.545455   0.  0.  1.  0.  1.  1.  0.  0.  0.  0.  0.247934\n",
       "197   0.571429   0.  0.  1.  1.  0.  1.  0.  0.  0.  0.  0.244898\n",
       "229   0.511628   0.  0.  1.  1.  1.  1.  0.  0.  0.  0.  0.249865\n",
       "245   0.533333   0.  1.  0.  0.  0.  0.  0.  0.  0.  0.  0.248889\n",
       "506   0.560976   1.  0.  0.  0.  0.  0.  1.  0.  0.  0.  0.246282\n",
       "538   0.521739   1.  0.  0.  0.  1.  0.  1.  0.  0.  0.  0.249527\n",
       "562   0.527778   1.  0.  0.  1.  0.  0.  0.  0.  0.  0.  0.249228\n",
       "777   0.525000   1.  1.  0.  0.  0.  1.  1.  0.  0.  0.  0.249375\n",
       "785   0.522727   1.  1.  0.  0.  1.  0.  0.  0.  0.  0.  0.249483\n",
       "913   0.508197   1.  1.  1.  0.  1.  0.  0.  0.  0.  0.  0.249933"
      ]
     },
     "execution_count": 49,
     "metadata": {},
     "output_type": "execute_result"
    }
   ],
   "source": [
    "b[b['p(switch)'] > 0.5]"
   ]
  },
  {
   "cell_type": "code",
   "execution_count": 65,
   "metadata": {
    "collapsed": false
   },
   "outputs": [
    {
     "data": {
      "text/html": [
       "<div>\n",
       "<table border=\"1\" class=\"dataframe\">\n",
       "  <thead>\n",
       "    <tr style=\"text-align: right;\">\n",
       "      <th></th>\n",
       "      <th>p(switch)</th>\n",
       "      <th>syllable</th>\n",
       "      <th>variance</th>\n",
       "    </tr>\n",
       "  </thead>\n",
       "  <tbody>\n",
       "    <tr>\n",
       "      <th>0</th>\n",
       "      <td>0.355263</td>\n",
       "      <td>0.  0.  0.  0.  0.  0.  0.  0.  0.  0.</td>\n",
       "      <td>0.229051</td>\n",
       "    </tr>\n",
       "  </tbody>\n",
       "</table>\n",
       "</div>"
      ],
      "text/plain": [
       "   p(switch)                                 syllable  variance\n",
       "0   0.355263   0.  0.  0.  0.  0.  0.  0.  0.  0.  0.  0.229051"
      ]
     },
     "execution_count": 65,
     "metadata": {},
     "output_type": "execute_result"
    }
   ],
   "source": [
    "b[b['syllable'] == ' 0.  0.  0.  0.  0.  0.  0.  0.  0.  0.']"
   ]
  },
  {
   "cell_type": "code",
   "execution_count": 71,
   "metadata": {
    "collapsed": false
   },
   "outputs": [
    {
     "data": {
      "text/html": [
       "<div>\n",
       "<table border=\"1\" class=\"dataframe\">\n",
       "  <thead>\n",
       "    <tr style=\"text-align: right;\">\n",
       "      <th></th>\n",
       "      <th>p(switch)</th>\n",
       "      <th>syllable</th>\n",
       "      <th>variance</th>\n",
       "    </tr>\n",
       "  </thead>\n",
       "  <tbody>\n",
       "    <tr>\n",
       "      <th>881</th>\n",
       "      <td>0.369863</td>\n",
       "      <td>1.  1.  1.  0.  0.  0.  0.  0.  0.  0.</td>\n",
       "      <td>0.233064</td>\n",
       "    </tr>\n",
       "  </tbody>\n",
       "</table>\n",
       "</div>"
      ],
      "text/plain": [
       "     p(switch)                                 syllable  variance\n",
       "881   0.369863   1.  1.  1.  0.  0.  0.  0.  0.  0.  0.  0.233064"
      ]
     },
     "execution_count": 71,
     "metadata": {},
     "output_type": "execute_result"
    }
   ],
   "source": [
    "b[b['syllable'] == ' 1.  1.  1.  0.  0.  0.  0.  0.  0.  0.']"
   ]
  },
  {
   "cell_type": "code",
   "execution_count": 137,
   "metadata": {
    "collapsed": false
   },
   "outputs": [
    {
     "data": {
      "text/plain": [
       "(1009, 3)"
      ]
     },
     "execution_count": 137,
     "metadata": {},
     "output_type": "execute_result"
    }
   ],
   "source": [
    "b.shape"
   ]
  },
  {
   "cell_type": "markdown",
   "metadata": {},
   "source": [
    "## Save df_combos"
   ]
  },
  {
   "cell_type": "code",
   "execution_count": 227,
   "metadata": {
    "collapsed": false
   },
   "outputs": [],
   "source": [
    "df_combos.to_csv('/Users/shayneufeld/GitHub/mouse_bandit/data/syllables.csv')"
   ]
  },
  {
   "cell_type": "code",
   "execution_count": 49,
   "metadata": {
    "collapsed": false,
    "scrolled": true
   },
   "outputs": [
    {
     "data": {
      "text/html": [
       "<div>\n",
       "<table border=\"1\" class=\"dataframe\">\n",
       "  <thead>\n",
       "    <tr style=\"text-align: right;\">\n",
       "      <th></th>\n",
       "      <th>Mouse ID</th>\n",
       "      <th>Session ID</th>\n",
       "      <th>Block Trial</th>\n",
       "      <th>Port Streak</th>\n",
       "      <th>Reward Streak</th>\n",
       "      <th>10_Port</th>\n",
       "      <th>10_Reward</th>\n",
       "      <th>10_ITI</th>\n",
       "      <th>10_trialDuration</th>\n",
       "      <th>9_Port</th>\n",
       "      <th>...</th>\n",
       "      <th>1_Port</th>\n",
       "      <th>1_Reward</th>\n",
       "      <th>1_ITI</th>\n",
       "      <th>1_trialDuration</th>\n",
       "      <th>0_ITI</th>\n",
       "      <th>Decision</th>\n",
       "      <th>Switch</th>\n",
       "      <th>Higher p port</th>\n",
       "      <th>Reward</th>\n",
       "      <th>Condition</th>\n",
       "    </tr>\n",
       "  </thead>\n",
       "  <tbody>\n",
       "    <tr>\n",
       "      <th>0</th>\n",
       "      <td>K1</td>\n",
       "      <td>11042016_K1</td>\n",
       "      <td>11.0</td>\n",
       "      <td>9.0</td>\n",
       "      <td>-1.0</td>\n",
       "      <td>0.0</td>\n",
       "      <td>0.0</td>\n",
       "      <td>15.781</td>\n",
       "      <td>1.542</td>\n",
       "      <td>1.0</td>\n",
       "      <td>...</td>\n",
       "      <td>1.0</td>\n",
       "      <td>0.0</td>\n",
       "      <td>1.346</td>\n",
       "      <td>0.674</td>\n",
       "      <td>1.087</td>\n",
       "      <td>1.0</td>\n",
       "      <td>0.0</td>\n",
       "      <td>1.0</td>\n",
       "      <td>1.0</td>\n",
       "      <td>90-10</td>\n",
       "    </tr>\n",
       "    <tr>\n",
       "      <th>1</th>\n",
       "      <td>K1</td>\n",
       "      <td>11042016_K1</td>\n",
       "      <td>12.0</td>\n",
       "      <td>10.0</td>\n",
       "      <td>1.0</td>\n",
       "      <td>1.0</td>\n",
       "      <td>1.0</td>\n",
       "      <td>3.252</td>\n",
       "      <td>0.880</td>\n",
       "      <td>1.0</td>\n",
       "      <td>...</td>\n",
       "      <td>1.0</td>\n",
       "      <td>1.0</td>\n",
       "      <td>1.087</td>\n",
       "      <td>0.574</td>\n",
       "      <td>1.584</td>\n",
       "      <td>1.0</td>\n",
       "      <td>0.0</td>\n",
       "      <td>1.0</td>\n",
       "      <td>1.0</td>\n",
       "      <td>90-10</td>\n",
       "    </tr>\n",
       "    <tr>\n",
       "      <th>2</th>\n",
       "      <td>K1</td>\n",
       "      <td>11042016_K1</td>\n",
       "      <td>13.0</td>\n",
       "      <td>10.0</td>\n",
       "      <td>2.0</td>\n",
       "      <td>1.0</td>\n",
       "      <td>1.0</td>\n",
       "      <td>1.294</td>\n",
       "      <td>0.805</td>\n",
       "      <td>1.0</td>\n",
       "      <td>...</td>\n",
       "      <td>1.0</td>\n",
       "      <td>1.0</td>\n",
       "      <td>1.584</td>\n",
       "      <td>0.646</td>\n",
       "      <td>5.985</td>\n",
       "      <td>1.0</td>\n",
       "      <td>0.0</td>\n",
       "      <td>1.0</td>\n",
       "      <td>1.0</td>\n",
       "      <td>90-10</td>\n",
       "    </tr>\n",
       "    <tr>\n",
       "      <th>3</th>\n",
       "      <td>K1</td>\n",
       "      <td>11042016_K1</td>\n",
       "      <td>14.0</td>\n",
       "      <td>10.0</td>\n",
       "      <td>3.0</td>\n",
       "      <td>1.0</td>\n",
       "      <td>1.0</td>\n",
       "      <td>2.992</td>\n",
       "      <td>0.787</td>\n",
       "      <td>1.0</td>\n",
       "      <td>...</td>\n",
       "      <td>1.0</td>\n",
       "      <td>1.0</td>\n",
       "      <td>5.985</td>\n",
       "      <td>0.552</td>\n",
       "      <td>1.062</td>\n",
       "      <td>1.0</td>\n",
       "      <td>0.0</td>\n",
       "      <td>1.0</td>\n",
       "      <td>1.0</td>\n",
       "      <td>90-10</td>\n",
       "    </tr>\n",
       "    <tr>\n",
       "      <th>4</th>\n",
       "      <td>K1</td>\n",
       "      <td>11042016_K1</td>\n",
       "      <td>15.0</td>\n",
       "      <td>10.0</td>\n",
       "      <td>4.0</td>\n",
       "      <td>1.0</td>\n",
       "      <td>1.0</td>\n",
       "      <td>1.058</td>\n",
       "      <td>0.689</td>\n",
       "      <td>1.0</td>\n",
       "      <td>...</td>\n",
       "      <td>1.0</td>\n",
       "      <td>1.0</td>\n",
       "      <td>1.062</td>\n",
       "      <td>0.664</td>\n",
       "      <td>1.122</td>\n",
       "      <td>1.0</td>\n",
       "      <td>0.0</td>\n",
       "      <td>1.0</td>\n",
       "      <td>0.0</td>\n",
       "      <td>90-10</td>\n",
       "    </tr>\n",
       "  </tbody>\n",
       "</table>\n",
       "<p>5 rows × 51 columns</p>\n",
       "</div>"
      ],
      "text/plain": [
       "  Mouse ID   Session ID  Block Trial  Port Streak  Reward Streak  10_Port  \\\n",
       "0       K1  11042016_K1         11.0          9.0           -1.0      0.0   \n",
       "1       K1  11042016_K1         12.0         10.0            1.0      1.0   \n",
       "2       K1  11042016_K1         13.0         10.0            2.0      1.0   \n",
       "3       K1  11042016_K1         14.0         10.0            3.0      1.0   \n",
       "4       K1  11042016_K1         15.0         10.0            4.0      1.0   \n",
       "\n",
       "   10_Reward  10_ITI  10_trialDuration  9_Port    ...      1_Port  1_Reward  \\\n",
       "0        0.0  15.781             1.542     1.0    ...         1.0       0.0   \n",
       "1        1.0   3.252             0.880     1.0    ...         1.0       1.0   \n",
       "2        1.0   1.294             0.805     1.0    ...         1.0       1.0   \n",
       "3        1.0   2.992             0.787     1.0    ...         1.0       1.0   \n",
       "4        1.0   1.058             0.689     1.0    ...         1.0       1.0   \n",
       "\n",
       "   1_ITI  1_trialDuration  0_ITI  Decision  Switch  Higher p port  Reward  \\\n",
       "0  1.346            0.674  1.087       1.0     0.0            1.0     1.0   \n",
       "1  1.087            0.574  1.584       1.0     0.0            1.0     1.0   \n",
       "2  1.584            0.646  5.985       1.0     0.0            1.0     1.0   \n",
       "3  5.985            0.552  1.062       1.0     0.0            1.0     1.0   \n",
       "4  1.062            0.664  1.122       1.0     0.0            1.0     0.0   \n",
       "\n",
       "   Condition  \n",
       "0      90-10  \n",
       "1      90-10  \n",
       "2      90-10  \n",
       "3      90-10  \n",
       "4      90-10  \n",
       "\n",
       "[5 rows x 51 columns]"
      ]
     },
     "execution_count": 49,
     "metadata": {},
     "output_type": "execute_result"
    }
   ],
   "source": [
    "data[data['Switch']==1]['1_']"
   ]
  },
  {
   "cell_type": "markdown",
   "metadata": {},
   "source": [
    "### Fraction of ports included when only considering port streak >= 01"
   ]
  },
  {
   "cell_type": "code",
   "execution_count": 74,
   "metadata": {
    "collapsed": false
   },
   "outputs": [
    {
     "data": {
      "text/plain": [
       "0.5285144604901467"
      ]
     },
     "execution_count": 74,
     "metadata": {},
     "output_type": "execute_result"
    }
   ],
   "source": [
    "data[data['Port Streak'] == 10].shape[0] / data.shape[0]"
   ]
  },
  {
   "cell_type": "markdown",
   "metadata": {},
   "source": [
    "# Breaking it down by mouse"
   ]
  },
  {
   "cell_type": "code",
   "execution_count": 75,
   "metadata": {
    "collapsed": false,
    "scrolled": true
   },
   "outputs": [
    {
     "data": {
      "text/html": [
       "<div>\n",
       "<table border=\"1\" class=\"dataframe\">\n",
       "  <thead>\n",
       "    <tr style=\"text-align: right;\">\n",
       "      <th></th>\n",
       "      <th>Syllable</th>\n",
       "      <th>Decision</th>\n",
       "      <th>Mouse ID</th>\n",
       "      <th>Condition</th>\n",
       "      <th>Switch</th>\n",
       "      <th>Port Streak</th>\n",
       "    </tr>\n",
       "  </thead>\n",
       "  <tbody>\n",
       "    <tr>\n",
       "      <th>0</th>\n",
       "      <td>0.  1.  1.  1.  1.  1.  1.  1.  1.  0.</td>\n",
       "      <td>1.0</td>\n",
       "      <td>K1</td>\n",
       "      <td>90-10</td>\n",
       "      <td>0.0</td>\n",
       "      <td>9.0</td>\n",
       "    </tr>\n",
       "    <tr>\n",
       "      <th>1</th>\n",
       "      <td>1.  1.  1.  1.  1.  1.  1.  1.  0.  1.</td>\n",
       "      <td>1.0</td>\n",
       "      <td>K1</td>\n",
       "      <td>90-10</td>\n",
       "      <td>0.0</td>\n",
       "      <td>10.0</td>\n",
       "    </tr>\n",
       "    <tr>\n",
       "      <th>2</th>\n",
       "      <td>1.  1.  1.  1.  1.  1.  1.  0.  1.  1.</td>\n",
       "      <td>1.0</td>\n",
       "      <td>K1</td>\n",
       "      <td>90-10</td>\n",
       "      <td>0.0</td>\n",
       "      <td>10.0</td>\n",
       "    </tr>\n",
       "    <tr>\n",
       "      <th>3</th>\n",
       "      <td>1.  1.  1.  1.  1.  1.  0.  1.  1.  1.</td>\n",
       "      <td>1.0</td>\n",
       "      <td>K1</td>\n",
       "      <td>90-10</td>\n",
       "      <td>0.0</td>\n",
       "      <td>10.0</td>\n",
       "    </tr>\n",
       "    <tr>\n",
       "      <th>4</th>\n",
       "      <td>1.  1.  1.  1.  1.  0.  1.  1.  1.  1.</td>\n",
       "      <td>1.0</td>\n",
       "      <td>K1</td>\n",
       "      <td>90-10</td>\n",
       "      <td>0.0</td>\n",
       "      <td>10.0</td>\n",
       "    </tr>\n",
       "  </tbody>\n",
       "</table>\n",
       "</div>"
      ],
      "text/plain": [
       "                                  Syllable  Decision Mouse ID Condition  \\\n",
       "0   0.  1.  1.  1.  1.  1.  1.  1.  1.  0.       1.0       K1     90-10   \n",
       "1   1.  1.  1.  1.  1.  1.  1.  1.  0.  1.       1.0       K1     90-10   \n",
       "2   1.  1.  1.  1.  1.  1.  1.  0.  1.  1.       1.0       K1     90-10   \n",
       "3   1.  1.  1.  1.  1.  1.  0.  1.  1.  1.       1.0       K1     90-10   \n",
       "4   1.  1.  1.  1.  1.  0.  1.  1.  1.  1.       1.0       K1     90-10   \n",
       "\n",
       "   Switch  Port Streak  \n",
       "0     0.0          9.0  \n",
       "1     0.0         10.0  \n",
       "2     0.0         10.0  \n",
       "3     0.0         10.0  \n",
       "4     0.0         10.0  "
      ]
     },
     "execution_count": 75,
     "metadata": {},
     "output_type": "execute_result"
    }
   ],
   "source": [
    "df_combos.head(5)"
   ]
  },
  {
   "cell_type": "code",
   "execution_count": 92,
   "metadata": {
    "collapsed": false
   },
   "outputs": [],
   "source": [
    "syllables = np.unique(df_combos['Syllable'].values)\n",
    "mice = np.unique(df_combos['Mouse ID'].values)\n",
    "conditions = np.unique(df_combos['Condition'].values)\n",
    "\n",
    "u_switch = []\n",
    "mice_list = []\n",
    "syllable_list = []\n",
    "N = []\n",
    "condition_list = []\n",
    "\n",
    "for syllable in syllables:\n",
    "    for condition in conditions:\n",
    "        for mouse in mice:\n",
    "            \n",
    "            bool_statement = ((df_combos['Syllable'] == syllable) \n",
    "                              & (df_combos['Mouse ID'] == mouse)\n",
    "                              & (df_combos['Condition'] == condition))\n",
    "            \n",
    "            u_switch.append(df_combos[bool_statement]['Switch'].mean())\n",
    "            N.append(df_combos[bool_statement]['Switch'].shape[0])\n",
    "            mice_list.append(mouse)\n",
    "            syllable_list.append(u)"
   ]
  },
  {
   "cell_type": "code",
   "execution_count": 128,
   "metadata": {
    "collapsed": false
   },
   "outputs": [
    {
     "data": {
      "text/html": [
       "<div>\n",
       "<table border=\"1\" class=\"dataframe\">\n",
       "  <thead>\n",
       "    <tr style=\"text-align: right;\">\n",
       "      <th></th>\n",
       "      <th>Syllable</th>\n",
       "      <th>Decision</th>\n",
       "      <th>Mouse ID</th>\n",
       "      <th>Condition</th>\n",
       "      <th>Switch</th>\n",
       "      <th>Port Streak</th>\n",
       "    </tr>\n",
       "  </thead>\n",
       "  <tbody>\n",
       "    <tr>\n",
       "      <th>59</th>\n",
       "      <td>0.  0.  0.  0.  0.  0.  0.  0.  0.  0.</td>\n",
       "      <td>1.0</td>\n",
       "      <td>K1</td>\n",
       "      <td>90-10</td>\n",
       "      <td>0.0</td>\n",
       "      <td>10.0</td>\n",
       "    </tr>\n",
       "  </tbody>\n",
       "</table>\n",
       "</div>"
      ],
      "text/plain": [
       "                                   Syllable  Decision Mouse ID Condition  \\\n",
       "59   0.  0.  0.  0.  0.  0.  0.  0.  0.  0.       1.0       K1     90-10   \n",
       "\n",
       "    Switch  Port Streak  \n",
       "59     0.0         10.0  "
      ]
     },
     "execution_count": 128,
     "metadata": {},
     "output_type": "execute_result"
    }
   ],
   "source": [
    "syllable = syllables[0]\n",
    "mouse = mice[0]\n",
    "condition = '90-10'\n",
    "\n",
    "bool_statement = ((df_combos['Syllable'] == syllable) \n",
    "                    & (df_combos['Mouse ID'] == mouse)\n",
    "                    & (df_combos['Condition'] == condition))\n",
    "\n",
    "bool_statement = ((df_combos['Syllable'] == syllable)\n",
    "                    & (df_combos['Mouse ID'] == mouse))\n",
    "                    #& (df_combos['Condition'] == condition))\n",
    "\n",
    "df_combos[bool_statement]"
   ]
  },
  {
   "cell_type": "code",
   "execution_count": 119,
   "metadata": {
    "collapsed": false
   },
   "outputs": [
    {
     "data": {
      "text/plain": [
       "' 0.  0.  0.  0.  0.  0.  0.  0.  0.  0.'"
      ]
     },
     "execution_count": 119,
     "metadata": {},
     "output_type": "execute_result"
    }
   ],
   "source": [
    "syllables[0]"
   ]
  },
  {
   "cell_type": "code",
   "execution_count": 94,
   "metadata": {
    "collapsed": true
   },
   "outputs": [],
   "source": [
    "for syllable in syllables:\n",
    "    for condition in conditions:\n",
    "        for mouse in mice:\n",
    "            condition_list.append(condition)"
   ]
  },
  {
   "cell_type": "code",
   "execution_count": 93,
   "metadata": {
    "collapsed": false
   },
   "outputs": [],
   "source": [
    "v = np.zeros(len(u_switch))\n",
    "\n",
    "for i,u in enumerate(u_switch):\n",
    "    v[i] = u*(1-u)"
   ]
  },
  {
   "cell_type": "code",
   "execution_count": 95,
   "metadata": {
    "collapsed": false
   },
   "outputs": [],
   "source": [
    "syllable_df = pd.DataFrame(data = {'syllable':syllable_list,'p(switch)':u_switch,'variance':v,'Mouse ID':mice_list,'N':N,'Condition':condition_list})"
   ]
  },
  {
   "cell_type": "code",
   "execution_count": 96,
   "metadata": {
    "collapsed": false
   },
   "outputs": [
    {
     "data": {
      "text/html": [
       "<div>\n",
       "<table border=\"1\" class=\"dataframe\">\n",
       "  <thead>\n",
       "    <tr style=\"text-align: right;\">\n",
       "      <th></th>\n",
       "      <th>Condition</th>\n",
       "      <th>Mouse ID</th>\n",
       "      <th>N</th>\n",
       "      <th>p(switch)</th>\n",
       "      <th>syllable</th>\n",
       "      <th>variance</th>\n",
       "    </tr>\n",
       "  </thead>\n",
       "  <tbody>\n",
       "    <tr>\n",
       "      <th>0</th>\n",
       "      <td>70-30</td>\n",
       "      <td>K1</td>\n",
       "      <td>0</td>\n",
       "      <td>NaN</td>\n",
       "      <td>1.  0.  1.  1.  0.  0.  0.  1.  1.  0.</td>\n",
       "      <td>NaN</td>\n",
       "    </tr>\n",
       "    <tr>\n",
       "      <th>1</th>\n",
       "      <td>70-30</td>\n",
       "      <td>dumble</td>\n",
       "      <td>0</td>\n",
       "      <td>NaN</td>\n",
       "      <td>1.  0.  1.  1.  0.  0.  0.  1.  1.  0.</td>\n",
       "      <td>NaN</td>\n",
       "    </tr>\n",
       "    <tr>\n",
       "      <th>2</th>\n",
       "      <td>70-30</td>\n",
       "      <td>harry</td>\n",
       "      <td>1</td>\n",
       "      <td>1.00</td>\n",
       "      <td>1.  0.  1.  1.  0.  0.  0.  1.  1.  0.</td>\n",
       "      <td>0.0000</td>\n",
       "    </tr>\n",
       "    <tr>\n",
       "      <th>3</th>\n",
       "      <td>70-30</td>\n",
       "      <td>q40</td>\n",
       "      <td>0</td>\n",
       "      <td>NaN</td>\n",
       "      <td>1.  0.  1.  1.  0.  0.  0.  1.  1.  0.</td>\n",
       "      <td>NaN</td>\n",
       "    </tr>\n",
       "    <tr>\n",
       "      <th>4</th>\n",
       "      <td>70-30</td>\n",
       "      <td>q43</td>\n",
       "      <td>0</td>\n",
       "      <td>NaN</td>\n",
       "      <td>1.  0.  1.  1.  0.  0.  0.  1.  1.  0.</td>\n",
       "      <td>NaN</td>\n",
       "    </tr>\n",
       "    <tr>\n",
       "      <th>5</th>\n",
       "      <td>70-30</td>\n",
       "      <td>q45</td>\n",
       "      <td>0</td>\n",
       "      <td>NaN</td>\n",
       "      <td>1.  0.  1.  1.  0.  0.  0.  1.  1.  0.</td>\n",
       "      <td>NaN</td>\n",
       "    </tr>\n",
       "    <tr>\n",
       "      <th>6</th>\n",
       "      <td>70-30</td>\n",
       "      <td>quirrel</td>\n",
       "      <td>0</td>\n",
       "      <td>NaN</td>\n",
       "      <td>1.  0.  1.  1.  0.  0.  0.  1.  1.  0.</td>\n",
       "      <td>NaN</td>\n",
       "    </tr>\n",
       "    <tr>\n",
       "      <th>7</th>\n",
       "      <td>70-30</td>\n",
       "      <td>sprout</td>\n",
       "      <td>1</td>\n",
       "      <td>0.00</td>\n",
       "      <td>1.  0.  1.  1.  0.  0.  0.  1.  1.  0.</td>\n",
       "      <td>0.0000</td>\n",
       "    </tr>\n",
       "    <tr>\n",
       "      <th>8</th>\n",
       "      <td>70-30</td>\n",
       "      <td>tom</td>\n",
       "      <td>4</td>\n",
       "      <td>0.25</td>\n",
       "      <td>1.  0.  1.  1.  0.  0.  0.  1.  1.  0.</td>\n",
       "      <td>0.1875</td>\n",
       "    </tr>\n",
       "    <tr>\n",
       "      <th>9</th>\n",
       "      <td>70-30</td>\n",
       "      <td>tonks</td>\n",
       "      <td>2</td>\n",
       "      <td>0.00</td>\n",
       "      <td>1.  0.  1.  1.  0.  0.  0.  1.  1.  0.</td>\n",
       "      <td>0.0000</td>\n",
       "    </tr>\n",
       "  </tbody>\n",
       "</table>\n",
       "</div>"
      ],
      "text/plain": [
       "  Condition Mouse ID  N  p(switch)                                 syllable  \\\n",
       "0     70-30       K1  0        NaN   1.  0.  1.  1.  0.  0.  0.  1.  1.  0.   \n",
       "1     70-30   dumble  0        NaN   1.  0.  1.  1.  0.  0.  0.  1.  1.  0.   \n",
       "2     70-30    harry  1       1.00   1.  0.  1.  1.  0.  0.  0.  1.  1.  0.   \n",
       "3     70-30      q40  0        NaN   1.  0.  1.  1.  0.  0.  0.  1.  1.  0.   \n",
       "4     70-30      q43  0        NaN   1.  0.  1.  1.  0.  0.  0.  1.  1.  0.   \n",
       "5     70-30      q45  0        NaN   1.  0.  1.  1.  0.  0.  0.  1.  1.  0.   \n",
       "6     70-30  quirrel  0        NaN   1.  0.  1.  1.  0.  0.  0.  1.  1.  0.   \n",
       "7     70-30   sprout  1       0.00   1.  0.  1.  1.  0.  0.  0.  1.  1.  0.   \n",
       "8     70-30      tom  4       0.25   1.  0.  1.  1.  0.  0.  0.  1.  1.  0.   \n",
       "9     70-30    tonks  2       0.00   1.  0.  1.  1.  0.  0.  0.  1.  1.  0.   \n",
       "\n",
       "   variance  \n",
       "0       NaN  \n",
       "1       NaN  \n",
       "2    0.0000  \n",
       "3       NaN  \n",
       "4       NaN  \n",
       "5       NaN  \n",
       "6       NaN  \n",
       "7    0.0000  \n",
       "8    0.1875  \n",
       "9    0.0000  "
      ]
     },
     "execution_count": 96,
     "metadata": {},
     "output_type": "execute_result"
    }
   ],
   "source": [
    "syllable_df.head(10)"
   ]
  },
  {
   "cell_type": "code",
   "execution_count": 135,
   "metadata": {
    "collapsed": false
   },
   "outputs": [
    {
     "data": {
      "text/html": [
       "<div>\n",
       "<table border=\"1\" class=\"dataframe\">\n",
       "  <thead>\n",
       "    <tr style=\"text-align: right;\">\n",
       "      <th></th>\n",
       "      <th>Syllable</th>\n",
       "      <th>Decision</th>\n",
       "      <th>Mouse ID</th>\n",
       "      <th>Condition</th>\n",
       "      <th>Switch</th>\n",
       "      <th>Port Streak</th>\n",
       "    </tr>\n",
       "  </thead>\n",
       "  <tbody>\n",
       "    <tr>\n",
       "      <th>59</th>\n",
       "      <td>0.  0.  0.  0.  0.  0.  0.  0.  0.  0.</td>\n",
       "      <td>1.0</td>\n",
       "      <td>K1</td>\n",
       "      <td>90-10</td>\n",
       "      <td>0.0</td>\n",
       "      <td>10.0</td>\n",
       "    </tr>\n",
       "    <tr>\n",
       "      <th>4501</th>\n",
       "      <td>0.  0.  0.  0.  0.  0.  0.  0.  0.  0.</td>\n",
       "      <td>0.0</td>\n",
       "      <td>q40</td>\n",
       "      <td>90-10</td>\n",
       "      <td>0.0</td>\n",
       "      <td>9.0</td>\n",
       "    </tr>\n",
       "    <tr>\n",
       "      <th>4502</th>\n",
       "      <td>0.  0.  0.  0.  0.  0.  0.  0.  0.  0.</td>\n",
       "      <td>0.0</td>\n",
       "      <td>q40</td>\n",
       "      <td>90-10</td>\n",
       "      <td>0.0</td>\n",
       "      <td>10.0</td>\n",
       "    </tr>\n",
       "    <tr>\n",
       "      <th>4503</th>\n",
       "      <td>0.  0.  0.  0.  0.  0.  0.  0.  0.  0.</td>\n",
       "      <td>0.0</td>\n",
       "      <td>q40</td>\n",
       "      <td>90-10</td>\n",
       "      <td>0.0</td>\n",
       "      <td>10.0</td>\n",
       "    </tr>\n",
       "    <tr>\n",
       "      <th>4504</th>\n",
       "      <td>0.  0.  0.  0.  0.  0.  0.  0.  0.  0.</td>\n",
       "      <td>0.0</td>\n",
       "      <td>q40</td>\n",
       "      <td>90-10</td>\n",
       "      <td>0.0</td>\n",
       "      <td>10.0</td>\n",
       "    </tr>\n",
       "    <tr>\n",
       "      <th>4505</th>\n",
       "      <td>0.  0.  0.  0.  0.  0.  0.  0.  0.  0.</td>\n",
       "      <td>0.0</td>\n",
       "      <td>q40</td>\n",
       "      <td>90-10</td>\n",
       "      <td>0.0</td>\n",
       "      <td>10.0</td>\n",
       "    </tr>\n",
       "    <tr>\n",
       "      <th>4697</th>\n",
       "      <td>0.  0.  0.  0.  0.  0.  0.  0.  0.  0.</td>\n",
       "      <td>0.0</td>\n",
       "      <td>q40</td>\n",
       "      <td>90-10</td>\n",
       "      <td>0.0</td>\n",
       "      <td>2.0</td>\n",
       "    </tr>\n",
       "    <tr>\n",
       "      <th>4698</th>\n",
       "      <td>0.  0.  0.  0.  0.  0.  0.  0.  0.  0.</td>\n",
       "      <td>0.0</td>\n",
       "      <td>q40</td>\n",
       "      <td>90-10</td>\n",
       "      <td>0.0</td>\n",
       "      <td>3.0</td>\n",
       "    </tr>\n",
       "    <tr>\n",
       "      <th>4699</th>\n",
       "      <td>0.  0.  0.  0.  0.  0.  0.  0.  0.  0.</td>\n",
       "      <td>0.0</td>\n",
       "      <td>q40</td>\n",
       "      <td>90-10</td>\n",
       "      <td>0.0</td>\n",
       "      <td>4.0</td>\n",
       "    </tr>\n",
       "    <tr>\n",
       "      <th>4700</th>\n",
       "      <td>0.  0.  0.  0.  0.  0.  0.  0.  0.  0.</td>\n",
       "      <td>0.0</td>\n",
       "      <td>q40</td>\n",
       "      <td>90-10</td>\n",
       "      <td>0.0</td>\n",
       "      <td>5.0</td>\n",
       "    </tr>\n",
       "    <tr>\n",
       "      <th>4701</th>\n",
       "      <td>0.  0.  0.  0.  0.  0.  0.  0.  0.  0.</td>\n",
       "      <td>0.0</td>\n",
       "      <td>q40</td>\n",
       "      <td>90-10</td>\n",
       "      <td>0.0</td>\n",
       "      <td>6.0</td>\n",
       "    </tr>\n",
       "    <tr>\n",
       "      <th>4702</th>\n",
       "      <td>0.  0.  0.  0.  0.  0.  0.  0.  0.  0.</td>\n",
       "      <td>0.0</td>\n",
       "      <td>q40</td>\n",
       "      <td>90-10</td>\n",
       "      <td>0.0</td>\n",
       "      <td>7.0</td>\n",
       "    </tr>\n",
       "    <tr>\n",
       "      <th>4703</th>\n",
       "      <td>0.  0.  0.  0.  0.  0.  0.  0.  0.  0.</td>\n",
       "      <td>1.0</td>\n",
       "      <td>q40</td>\n",
       "      <td>90-10</td>\n",
       "      <td>1.0</td>\n",
       "      <td>8.0</td>\n",
       "    </tr>\n",
       "    <tr>\n",
       "      <th>5069</th>\n",
       "      <td>0.  0.  0.  0.  0.  0.  0.  0.  0.  0.</td>\n",
       "      <td>0.0</td>\n",
       "      <td>q40</td>\n",
       "      <td>90-10</td>\n",
       "      <td>1.0</td>\n",
       "      <td>10.0</td>\n",
       "    </tr>\n",
       "    <tr>\n",
       "      <th>5807</th>\n",
       "      <td>0.  0.  0.  0.  0.  0.  0.  0.  0.  0.</td>\n",
       "      <td>0.0</td>\n",
       "      <td>q40</td>\n",
       "      <td>90-10</td>\n",
       "      <td>0.0</td>\n",
       "      <td>10.0</td>\n",
       "    </tr>\n",
       "    <tr>\n",
       "      <th>5808</th>\n",
       "      <td>0.  0.  0.  0.  0.  0.  0.  0.  0.  0.</td>\n",
       "      <td>1.0</td>\n",
       "      <td>q40</td>\n",
       "      <td>90-10</td>\n",
       "      <td>1.0</td>\n",
       "      <td>10.0</td>\n",
       "    </tr>\n",
       "    <tr>\n",
       "      <th>6441</th>\n",
       "      <td>0.  0.  0.  0.  0.  0.  0.  0.  0.  0.</td>\n",
       "      <td>0.0</td>\n",
       "      <td>q40</td>\n",
       "      <td>90-10</td>\n",
       "      <td>0.0</td>\n",
       "      <td>10.0</td>\n",
       "    </tr>\n",
       "    <tr>\n",
       "      <th>6442</th>\n",
       "      <td>0.  0.  0.  0.  0.  0.  0.  0.  0.  0.</td>\n",
       "      <td>1.0</td>\n",
       "      <td>q40</td>\n",
       "      <td>90-10</td>\n",
       "      <td>1.0</td>\n",
       "      <td>10.0</td>\n",
       "    </tr>\n",
       "    <tr>\n",
       "      <th>8810</th>\n",
       "      <td>0.  0.  0.  0.  0.  0.  0.  0.  0.  0.</td>\n",
       "      <td>0.0</td>\n",
       "      <td>sprout</td>\n",
       "      <td>90-10</td>\n",
       "      <td>1.0</td>\n",
       "      <td>2.0</td>\n",
       "    </tr>\n",
       "    <tr>\n",
       "      <th>10654</th>\n",
       "      <td>0.  0.  0.  0.  0.  0.  0.  0.  0.  0.</td>\n",
       "      <td>0.0</td>\n",
       "      <td>volde</td>\n",
       "      <td>90-10</td>\n",
       "      <td>1.0</td>\n",
       "      <td>3.0</td>\n",
       "    </tr>\n",
       "    <tr>\n",
       "      <th>11653</th>\n",
       "      <td>0.  0.  0.  0.  0.  0.  0.  0.  0.  0.</td>\n",
       "      <td>0.0</td>\n",
       "      <td>q43</td>\n",
       "      <td>80-20</td>\n",
       "      <td>0.0</td>\n",
       "      <td>6.0</td>\n",
       "    </tr>\n",
       "    <tr>\n",
       "      <th>11654</th>\n",
       "      <td>0.  0.  0.  0.  0.  0.  0.  0.  0.  0.</td>\n",
       "      <td>1.0</td>\n",
       "      <td>q43</td>\n",
       "      <td>80-20</td>\n",
       "      <td>1.0</td>\n",
       "      <td>7.0</td>\n",
       "    </tr>\n",
       "    <tr>\n",
       "      <th>12318</th>\n",
       "      <td>0.  0.  0.  0.  0.  0.  0.  0.  0.  0.</td>\n",
       "      <td>1.0</td>\n",
       "      <td>q43</td>\n",
       "      <td>80-20</td>\n",
       "      <td>1.0</td>\n",
       "      <td>1.0</td>\n",
       "    </tr>\n",
       "    <tr>\n",
       "      <th>12319</th>\n",
       "      <td>0.  0.  0.  0.  0.  0.  0.  0.  0.  0.</td>\n",
       "      <td>0.0</td>\n",
       "      <td>q43</td>\n",
       "      <td>80-20</td>\n",
       "      <td>1.0</td>\n",
       "      <td>1.0</td>\n",
       "    </tr>\n",
       "    <tr>\n",
       "      <th>12384</th>\n",
       "      <td>0.  0.  0.  0.  0.  0.  0.  0.  0.  0.</td>\n",
       "      <td>0.0</td>\n",
       "      <td>q43</td>\n",
       "      <td>80-20</td>\n",
       "      <td>0.0</td>\n",
       "      <td>7.0</td>\n",
       "    </tr>\n",
       "    <tr>\n",
       "      <th>12385</th>\n",
       "      <td>0.  0.  0.  0.  0.  0.  0.  0.  0.  0.</td>\n",
       "      <td>0.0</td>\n",
       "      <td>q43</td>\n",
       "      <td>80-20</td>\n",
       "      <td>0.0</td>\n",
       "      <td>8.0</td>\n",
       "    </tr>\n",
       "    <tr>\n",
       "      <th>12386</th>\n",
       "      <td>0.  0.  0.  0.  0.  0.  0.  0.  0.  0.</td>\n",
       "      <td>0.0</td>\n",
       "      <td>q43</td>\n",
       "      <td>80-20</td>\n",
       "      <td>0.0</td>\n",
       "      <td>9.0</td>\n",
       "    </tr>\n",
       "    <tr>\n",
       "      <th>12387</th>\n",
       "      <td>0.  0.  0.  0.  0.  0.  0.  0.  0.  0.</td>\n",
       "      <td>1.0</td>\n",
       "      <td>q43</td>\n",
       "      <td>80-20</td>\n",
       "      <td>1.0</td>\n",
       "      <td>10.0</td>\n",
       "    </tr>\n",
       "    <tr>\n",
       "      <th>17147</th>\n",
       "      <td>0.  0.  0.  0.  0.  0.  0.  0.  0.  0.</td>\n",
       "      <td>0.0</td>\n",
       "      <td>q43</td>\n",
       "      <td>80-20</td>\n",
       "      <td>0.0</td>\n",
       "      <td>2.0</td>\n",
       "    </tr>\n",
       "    <tr>\n",
       "      <th>17148</th>\n",
       "      <td>0.  0.  0.  0.  0.  0.  0.  0.  0.  0.</td>\n",
       "      <td>0.0</td>\n",
       "      <td>q43</td>\n",
       "      <td>80-20</td>\n",
       "      <td>0.0</td>\n",
       "      <td>3.0</td>\n",
       "    </tr>\n",
       "    <tr>\n",
       "      <th>...</th>\n",
       "      <td>...</td>\n",
       "      <td>...</td>\n",
       "      <td>...</td>\n",
       "      <td>...</td>\n",
       "      <td>...</td>\n",
       "      <td>...</td>\n",
       "    </tr>\n",
       "    <tr>\n",
       "      <th>29822</th>\n",
       "      <td>0.  0.  0.  0.  0.  0.  0.  0.  0.  0.</td>\n",
       "      <td>0.0</td>\n",
       "      <td>quirrel</td>\n",
       "      <td>80-20</td>\n",
       "      <td>0.0</td>\n",
       "      <td>8.0</td>\n",
       "    </tr>\n",
       "    <tr>\n",
       "      <th>29823</th>\n",
       "      <td>0.  0.  0.  0.  0.  0.  0.  0.  0.  0.</td>\n",
       "      <td>1.0</td>\n",
       "      <td>quirrel</td>\n",
       "      <td>80-20</td>\n",
       "      <td>1.0</td>\n",
       "      <td>9.0</td>\n",
       "    </tr>\n",
       "    <tr>\n",
       "      <th>30759</th>\n",
       "      <td>0.  0.  0.  0.  0.  0.  0.  0.  0.  0.</td>\n",
       "      <td>1.0</td>\n",
       "      <td>sprout</td>\n",
       "      <td>80-20</td>\n",
       "      <td>0.0</td>\n",
       "      <td>1.0</td>\n",
       "    </tr>\n",
       "    <tr>\n",
       "      <th>30760</th>\n",
       "      <td>0.  0.  0.  0.  0.  0.  0.  0.  0.  0.</td>\n",
       "      <td>1.0</td>\n",
       "      <td>sprout</td>\n",
       "      <td>80-20</td>\n",
       "      <td>0.0</td>\n",
       "      <td>2.0</td>\n",
       "    </tr>\n",
       "    <tr>\n",
       "      <th>30761</th>\n",
       "      <td>0.  0.  0.  0.  0.  0.  0.  0.  0.  0.</td>\n",
       "      <td>0.0</td>\n",
       "      <td>sprout</td>\n",
       "      <td>80-20</td>\n",
       "      <td>1.0</td>\n",
       "      <td>3.0</td>\n",
       "    </tr>\n",
       "    <tr>\n",
       "      <th>34537</th>\n",
       "      <td>0.  0.  0.  0.  0.  0.  0.  0.  0.  0.</td>\n",
       "      <td>1.0</td>\n",
       "      <td>dumble</td>\n",
       "      <td>80-20</td>\n",
       "      <td>1.0</td>\n",
       "      <td>2.0</td>\n",
       "    </tr>\n",
       "    <tr>\n",
       "      <th>37836</th>\n",
       "      <td>0.  0.  0.  0.  0.  0.  0.  0.  0.  0.</td>\n",
       "      <td>1.0</td>\n",
       "      <td>volde</td>\n",
       "      <td>80-20</td>\n",
       "      <td>0.0</td>\n",
       "      <td>3.0</td>\n",
       "    </tr>\n",
       "    <tr>\n",
       "      <th>39231</th>\n",
       "      <td>0.  0.  0.  0.  0.  0.  0.  0.  0.  0.</td>\n",
       "      <td>1.0</td>\n",
       "      <td>quirrel</td>\n",
       "      <td>80-20</td>\n",
       "      <td>0.0</td>\n",
       "      <td>5.0</td>\n",
       "    </tr>\n",
       "    <tr>\n",
       "      <th>39232</th>\n",
       "      <td>0.  0.  0.  0.  0.  0.  0.  0.  0.  0.</td>\n",
       "      <td>0.0</td>\n",
       "      <td>quirrel</td>\n",
       "      <td>80-20</td>\n",
       "      <td>1.0</td>\n",
       "      <td>6.0</td>\n",
       "    </tr>\n",
       "    <tr>\n",
       "      <th>39233</th>\n",
       "      <td>0.  0.  0.  0.  0.  0.  0.  0.  0.  0.</td>\n",
       "      <td>0.0</td>\n",
       "      <td>quirrel</td>\n",
       "      <td>80-20</td>\n",
       "      <td>0.0</td>\n",
       "      <td>1.0</td>\n",
       "    </tr>\n",
       "    <tr>\n",
       "      <th>53852</th>\n",
       "      <td>0.  0.  0.  0.  0.  0.  0.  0.  0.  0.</td>\n",
       "      <td>1.0</td>\n",
       "      <td>tom</td>\n",
       "      <td>80-20</td>\n",
       "      <td>0.0</td>\n",
       "      <td>10.0</td>\n",
       "    </tr>\n",
       "    <tr>\n",
       "      <th>56303</th>\n",
       "      <td>0.  0.  0.  0.  0.  0.  0.  0.  0.  0.</td>\n",
       "      <td>1.0</td>\n",
       "      <td>harry</td>\n",
       "      <td>80-20</td>\n",
       "      <td>1.0</td>\n",
       "      <td>2.0</td>\n",
       "    </tr>\n",
       "    <tr>\n",
       "      <th>57799</th>\n",
       "      <td>0.  0.  0.  0.  0.  0.  0.  0.  0.  0.</td>\n",
       "      <td>0.0</td>\n",
       "      <td>sprout</td>\n",
       "      <td>80-20</td>\n",
       "      <td>1.0</td>\n",
       "      <td>5.0</td>\n",
       "    </tr>\n",
       "    <tr>\n",
       "      <th>57800</th>\n",
       "      <td>0.  0.  0.  0.  0.  0.  0.  0.  0.  0.</td>\n",
       "      <td>1.0</td>\n",
       "      <td>sprout</td>\n",
       "      <td>80-20</td>\n",
       "      <td>1.0</td>\n",
       "      <td>1.0</td>\n",
       "    </tr>\n",
       "    <tr>\n",
       "      <th>57801</th>\n",
       "      <td>0.  0.  0.  0.  0.  0.  0.  0.  0.  0.</td>\n",
       "      <td>1.0</td>\n",
       "      <td>sprout</td>\n",
       "      <td>80-20</td>\n",
       "      <td>0.0</td>\n",
       "      <td>1.0</td>\n",
       "    </tr>\n",
       "    <tr>\n",
       "      <th>57802</th>\n",
       "      <td>0.  0.  0.  0.  0.  0.  0.  0.  0.  0.</td>\n",
       "      <td>0.0</td>\n",
       "      <td>sprout</td>\n",
       "      <td>80-20</td>\n",
       "      <td>1.0</td>\n",
       "      <td>2.0</td>\n",
       "    </tr>\n",
       "    <tr>\n",
       "      <th>59602</th>\n",
       "      <td>0.  0.  0.  0.  0.  0.  0.  0.  0.  0.</td>\n",
       "      <td>1.0</td>\n",
       "      <td>volde</td>\n",
       "      <td>80-20</td>\n",
       "      <td>1.0</td>\n",
       "      <td>1.0</td>\n",
       "    </tr>\n",
       "    <tr>\n",
       "      <th>59603</th>\n",
       "      <td>0.  0.  0.  0.  0.  0.  0.  0.  0.  0.</td>\n",
       "      <td>0.0</td>\n",
       "      <td>volde</td>\n",
       "      <td>80-20</td>\n",
       "      <td>1.0</td>\n",
       "      <td>1.0</td>\n",
       "    </tr>\n",
       "    <tr>\n",
       "      <th>59604</th>\n",
       "      <td>0.  0.  0.  0.  0.  0.  0.  0.  0.  0.</td>\n",
       "      <td>0.0</td>\n",
       "      <td>volde</td>\n",
       "      <td>80-20</td>\n",
       "      <td>0.0</td>\n",
       "      <td>1.0</td>\n",
       "    </tr>\n",
       "    <tr>\n",
       "      <th>59630</th>\n",
       "      <td>0.  0.  0.  0.  0.  0.  0.  0.  0.  0.</td>\n",
       "      <td>1.0</td>\n",
       "      <td>volde</td>\n",
       "      <td>80-20</td>\n",
       "      <td>1.0</td>\n",
       "      <td>1.0</td>\n",
       "    </tr>\n",
       "    <tr>\n",
       "      <th>64419</th>\n",
       "      <td>0.  0.  0.  0.  0.  0.  0.  0.  0.  0.</td>\n",
       "      <td>1.0</td>\n",
       "      <td>harry</td>\n",
       "      <td>70-30</td>\n",
       "      <td>1.0</td>\n",
       "      <td>2.0</td>\n",
       "    </tr>\n",
       "    <tr>\n",
       "      <th>69077</th>\n",
       "      <td>0.  0.  0.  0.  0.  0.  0.  0.  0.  0.</td>\n",
       "      <td>1.0</td>\n",
       "      <td>tom</td>\n",
       "      <td>70-30</td>\n",
       "      <td>0.0</td>\n",
       "      <td>10.0</td>\n",
       "    </tr>\n",
       "    <tr>\n",
       "      <th>69078</th>\n",
       "      <td>0.  0.  0.  0.  0.  0.  0.  0.  0.  0.</td>\n",
       "      <td>1.0</td>\n",
       "      <td>tom</td>\n",
       "      <td>70-30</td>\n",
       "      <td>0.0</td>\n",
       "      <td>10.0</td>\n",
       "    </tr>\n",
       "    <tr>\n",
       "      <th>71914</th>\n",
       "      <td>0.  0.  0.  0.  0.  0.  0.  0.  0.  0.</td>\n",
       "      <td>0.0</td>\n",
       "      <td>sprout</td>\n",
       "      <td>70-30</td>\n",
       "      <td>0.0</td>\n",
       "      <td>6.0</td>\n",
       "    </tr>\n",
       "    <tr>\n",
       "      <th>72696</th>\n",
       "      <td>0.  0.  0.  0.  0.  0.  0.  0.  0.  0.</td>\n",
       "      <td>1.0</td>\n",
       "      <td>tom</td>\n",
       "      <td>70-30</td>\n",
       "      <td>0.0</td>\n",
       "      <td>1.0</td>\n",
       "    </tr>\n",
       "    <tr>\n",
       "      <th>72697</th>\n",
       "      <td>0.  0.  0.  0.  0.  0.  0.  0.  0.  0.</td>\n",
       "      <td>0.0</td>\n",
       "      <td>tom</td>\n",
       "      <td>70-30</td>\n",
       "      <td>1.0</td>\n",
       "      <td>2.0</td>\n",
       "    </tr>\n",
       "    <tr>\n",
       "      <th>73855</th>\n",
       "      <td>0.  0.  0.  0.  0.  0.  0.  0.  0.  0.</td>\n",
       "      <td>0.0</td>\n",
       "      <td>volde</td>\n",
       "      <td>70-30</td>\n",
       "      <td>0.0</td>\n",
       "      <td>1.0</td>\n",
       "    </tr>\n",
       "    <tr>\n",
       "      <th>76806</th>\n",
       "      <td>0.  0.  0.  0.  0.  0.  0.  0.  0.  0.</td>\n",
       "      <td>1.0</td>\n",
       "      <td>tonks</td>\n",
       "      <td>70-30</td>\n",
       "      <td>0.0</td>\n",
       "      <td>1.0</td>\n",
       "    </tr>\n",
       "    <tr>\n",
       "      <th>76807</th>\n",
       "      <td>0.  0.  0.  0.  0.  0.  0.  0.  0.  0.</td>\n",
       "      <td>1.0</td>\n",
       "      <td>tonks</td>\n",
       "      <td>70-30</td>\n",
       "      <td>0.0</td>\n",
       "      <td>2.0</td>\n",
       "    </tr>\n",
       "    <tr>\n",
       "      <th>76945</th>\n",
       "      <td>0.  0.  0.  0.  0.  0.  0.  0.  0.  0.</td>\n",
       "      <td>1.0</td>\n",
       "      <td>volde</td>\n",
       "      <td>70-30</td>\n",
       "      <td>0.0</td>\n",
       "      <td>1.0</td>\n",
       "    </tr>\n",
       "  </tbody>\n",
       "</table>\n",
       "<p>76 rows × 6 columns</p>\n",
       "</div>"
      ],
      "text/plain": [
       "                                      Syllable  Decision Mouse ID Condition  \\\n",
       "59      0.  0.  0.  0.  0.  0.  0.  0.  0.  0.       1.0       K1     90-10   \n",
       "4501    0.  0.  0.  0.  0.  0.  0.  0.  0.  0.       0.0      q40     90-10   \n",
       "4502    0.  0.  0.  0.  0.  0.  0.  0.  0.  0.       0.0      q40     90-10   \n",
       "4503    0.  0.  0.  0.  0.  0.  0.  0.  0.  0.       0.0      q40     90-10   \n",
       "4504    0.  0.  0.  0.  0.  0.  0.  0.  0.  0.       0.0      q40     90-10   \n",
       "4505    0.  0.  0.  0.  0.  0.  0.  0.  0.  0.       0.0      q40     90-10   \n",
       "4697    0.  0.  0.  0.  0.  0.  0.  0.  0.  0.       0.0      q40     90-10   \n",
       "4698    0.  0.  0.  0.  0.  0.  0.  0.  0.  0.       0.0      q40     90-10   \n",
       "4699    0.  0.  0.  0.  0.  0.  0.  0.  0.  0.       0.0      q40     90-10   \n",
       "4700    0.  0.  0.  0.  0.  0.  0.  0.  0.  0.       0.0      q40     90-10   \n",
       "4701    0.  0.  0.  0.  0.  0.  0.  0.  0.  0.       0.0      q40     90-10   \n",
       "4702    0.  0.  0.  0.  0.  0.  0.  0.  0.  0.       0.0      q40     90-10   \n",
       "4703    0.  0.  0.  0.  0.  0.  0.  0.  0.  0.       1.0      q40     90-10   \n",
       "5069    0.  0.  0.  0.  0.  0.  0.  0.  0.  0.       0.0      q40     90-10   \n",
       "5807    0.  0.  0.  0.  0.  0.  0.  0.  0.  0.       0.0      q40     90-10   \n",
       "5808    0.  0.  0.  0.  0.  0.  0.  0.  0.  0.       1.0      q40     90-10   \n",
       "6441    0.  0.  0.  0.  0.  0.  0.  0.  0.  0.       0.0      q40     90-10   \n",
       "6442    0.  0.  0.  0.  0.  0.  0.  0.  0.  0.       1.0      q40     90-10   \n",
       "8810    0.  0.  0.  0.  0.  0.  0.  0.  0.  0.       0.0   sprout     90-10   \n",
       "10654   0.  0.  0.  0.  0.  0.  0.  0.  0.  0.       0.0    volde     90-10   \n",
       "11653   0.  0.  0.  0.  0.  0.  0.  0.  0.  0.       0.0      q43     80-20   \n",
       "11654   0.  0.  0.  0.  0.  0.  0.  0.  0.  0.       1.0      q43     80-20   \n",
       "12318   0.  0.  0.  0.  0.  0.  0.  0.  0.  0.       1.0      q43     80-20   \n",
       "12319   0.  0.  0.  0.  0.  0.  0.  0.  0.  0.       0.0      q43     80-20   \n",
       "12384   0.  0.  0.  0.  0.  0.  0.  0.  0.  0.       0.0      q43     80-20   \n",
       "12385   0.  0.  0.  0.  0.  0.  0.  0.  0.  0.       0.0      q43     80-20   \n",
       "12386   0.  0.  0.  0.  0.  0.  0.  0.  0.  0.       0.0      q43     80-20   \n",
       "12387   0.  0.  0.  0.  0.  0.  0.  0.  0.  0.       1.0      q43     80-20   \n",
       "17147   0.  0.  0.  0.  0.  0.  0.  0.  0.  0.       0.0      q43     80-20   \n",
       "17148   0.  0.  0.  0.  0.  0.  0.  0.  0.  0.       0.0      q43     80-20   \n",
       "...                                        ...       ...      ...       ...   \n",
       "29822   0.  0.  0.  0.  0.  0.  0.  0.  0.  0.       0.0  quirrel     80-20   \n",
       "29823   0.  0.  0.  0.  0.  0.  0.  0.  0.  0.       1.0  quirrel     80-20   \n",
       "30759   0.  0.  0.  0.  0.  0.  0.  0.  0.  0.       1.0   sprout     80-20   \n",
       "30760   0.  0.  0.  0.  0.  0.  0.  0.  0.  0.       1.0   sprout     80-20   \n",
       "30761   0.  0.  0.  0.  0.  0.  0.  0.  0.  0.       0.0   sprout     80-20   \n",
       "34537   0.  0.  0.  0.  0.  0.  0.  0.  0.  0.       1.0   dumble     80-20   \n",
       "37836   0.  0.  0.  0.  0.  0.  0.  0.  0.  0.       1.0    volde     80-20   \n",
       "39231   0.  0.  0.  0.  0.  0.  0.  0.  0.  0.       1.0  quirrel     80-20   \n",
       "39232   0.  0.  0.  0.  0.  0.  0.  0.  0.  0.       0.0  quirrel     80-20   \n",
       "39233   0.  0.  0.  0.  0.  0.  0.  0.  0.  0.       0.0  quirrel     80-20   \n",
       "53852   0.  0.  0.  0.  0.  0.  0.  0.  0.  0.       1.0      tom     80-20   \n",
       "56303   0.  0.  0.  0.  0.  0.  0.  0.  0.  0.       1.0    harry     80-20   \n",
       "57799   0.  0.  0.  0.  0.  0.  0.  0.  0.  0.       0.0   sprout     80-20   \n",
       "57800   0.  0.  0.  0.  0.  0.  0.  0.  0.  0.       1.0   sprout     80-20   \n",
       "57801   0.  0.  0.  0.  0.  0.  0.  0.  0.  0.       1.0   sprout     80-20   \n",
       "57802   0.  0.  0.  0.  0.  0.  0.  0.  0.  0.       0.0   sprout     80-20   \n",
       "59602   0.  0.  0.  0.  0.  0.  0.  0.  0.  0.       1.0    volde     80-20   \n",
       "59603   0.  0.  0.  0.  0.  0.  0.  0.  0.  0.       0.0    volde     80-20   \n",
       "59604   0.  0.  0.  0.  0.  0.  0.  0.  0.  0.       0.0    volde     80-20   \n",
       "59630   0.  0.  0.  0.  0.  0.  0.  0.  0.  0.       1.0    volde     80-20   \n",
       "64419   0.  0.  0.  0.  0.  0.  0.  0.  0.  0.       1.0    harry     70-30   \n",
       "69077   0.  0.  0.  0.  0.  0.  0.  0.  0.  0.       1.0      tom     70-30   \n",
       "69078   0.  0.  0.  0.  0.  0.  0.  0.  0.  0.       1.0      tom     70-30   \n",
       "71914   0.  0.  0.  0.  0.  0.  0.  0.  0.  0.       0.0   sprout     70-30   \n",
       "72696   0.  0.  0.  0.  0.  0.  0.  0.  0.  0.       1.0      tom     70-30   \n",
       "72697   0.  0.  0.  0.  0.  0.  0.  0.  0.  0.       0.0      tom     70-30   \n",
       "73855   0.  0.  0.  0.  0.  0.  0.  0.  0.  0.       0.0    volde     70-30   \n",
       "76806   0.  0.  0.  0.  0.  0.  0.  0.  0.  0.       1.0    tonks     70-30   \n",
       "76807   0.  0.  0.  0.  0.  0.  0.  0.  0.  0.       1.0    tonks     70-30   \n",
       "76945   0.  0.  0.  0.  0.  0.  0.  0.  0.  0.       1.0    volde     70-30   \n",
       "\n",
       "       Switch  Port Streak  \n",
       "59        0.0         10.0  \n",
       "4501      0.0          9.0  \n",
       "4502      0.0         10.0  \n",
       "4503      0.0         10.0  \n",
       "4504      0.0         10.0  \n",
       "4505      0.0         10.0  \n",
       "4697      0.0          2.0  \n",
       "4698      0.0          3.0  \n",
       "4699      0.0          4.0  \n",
       "4700      0.0          5.0  \n",
       "4701      0.0          6.0  \n",
       "4702      0.0          7.0  \n",
       "4703      1.0          8.0  \n",
       "5069      1.0         10.0  \n",
       "5807      0.0         10.0  \n",
       "5808      1.0         10.0  \n",
       "6441      0.0         10.0  \n",
       "6442      1.0         10.0  \n",
       "8810      1.0          2.0  \n",
       "10654     1.0          3.0  \n",
       "11653     0.0          6.0  \n",
       "11654     1.0          7.0  \n",
       "12318     1.0          1.0  \n",
       "12319     1.0          1.0  \n",
       "12384     0.0          7.0  \n",
       "12385     0.0          8.0  \n",
       "12386     0.0          9.0  \n",
       "12387     1.0         10.0  \n",
       "17147     0.0          2.0  \n",
       "17148     0.0          3.0  \n",
       "...       ...          ...  \n",
       "29822     0.0          8.0  \n",
       "29823     1.0          9.0  \n",
       "30759     0.0          1.0  \n",
       "30760     0.0          2.0  \n",
       "30761     1.0          3.0  \n",
       "34537     1.0          2.0  \n",
       "37836     0.0          3.0  \n",
       "39231     0.0          5.0  \n",
       "39232     1.0          6.0  \n",
       "39233     0.0          1.0  \n",
       "53852     0.0         10.0  \n",
       "56303     1.0          2.0  \n",
       "57799     1.0          5.0  \n",
       "57800     1.0          1.0  \n",
       "57801     0.0          1.0  \n",
       "57802     1.0          2.0  \n",
       "59602     1.0          1.0  \n",
       "59603     1.0          1.0  \n",
       "59604     0.0          1.0  \n",
       "59630     1.0          1.0  \n",
       "64419     1.0          2.0  \n",
       "69077     0.0         10.0  \n",
       "69078     0.0         10.0  \n",
       "71914     0.0          6.0  \n",
       "72696     0.0          1.0  \n",
       "72697     1.0          2.0  \n",
       "73855     0.0          1.0  \n",
       "76806     0.0          1.0  \n",
       "76807     0.0          2.0  \n",
       "76945     0.0          1.0  \n",
       "\n",
       "[76 rows x 6 columns]"
      ]
     },
     "execution_count": 135,
     "metadata": {},
     "output_type": "execute_result"
    }
   ],
   "source": [
    "df_combos[df_combos['Syllable'] == syllables[0]]"
   ]
  },
  {
   "cell_type": "code",
   "execution_count": 111,
   "metadata": {
    "collapsed": false
   },
   "outputs": [
    {
     "data": {
      "text/plain": [
       "(33792, 6)"
      ]
     },
     "execution_count": 111,
     "metadata": {},
     "output_type": "execute_result"
    }
   ],
   "source": [
    "syllable_df[syllable_df['syllable'] == syllable_list[0]].shape"
   ]
  },
  {
   "cell_type": "code",
   "execution_count": 133,
   "metadata": {
    "collapsed": false
   },
   "outputs": [
    {
     "ename": "ValueError",
     "evalue": "Index contains duplicate entries, cannot reshape",
     "output_type": "error",
     "traceback": [
      "\u001b[0;31m---------------------------------------------------------------------------\u001b[0m",
      "\u001b[0;31mValueError\u001b[0m                                Traceback (most recent call last)",
      "\u001b[0;32m<ipython-input-133-df20cd2a80f0>\u001b[0m in \u001b[0;36m<module>\u001b[0;34m()\u001b[0m\n\u001b[0;32m----> 1\u001b[0;31m \u001b[0msyllable_df\u001b[0m\u001b[0;34m.\u001b[0m\u001b[0mpivot\u001b[0m\u001b[0;34m(\u001b[0m\u001b[0mindex\u001b[0m\u001b[0;34m=\u001b[0m\u001b[0;34m'Condition'\u001b[0m\u001b[0;34m,\u001b[0m\u001b[0mcolumns\u001b[0m\u001b[0;34m=\u001b[0m\u001b[0;34m'Mouse ID'\u001b[0m\u001b[0;34m,\u001b[0m\u001b[0mvalues\u001b[0m\u001b[0;34m=\u001b[0m\u001b[0;34m'syllable'\u001b[0m\u001b[0;34m)\u001b[0m\u001b[0;34m\u001b[0m\u001b[0m\n\u001b[0m",
      "\u001b[0;32m//anaconda/envs/CaGRIN/lib/python3.5/site-packages/pandas/core/frame.py\u001b[0m in \u001b[0;36mpivot\u001b[0;34m(self, index, columns, values)\u001b[0m\n\u001b[1;32m   3844\u001b[0m         \"\"\"\n\u001b[1;32m   3845\u001b[0m         \u001b[0;32mfrom\u001b[0m \u001b[0mpandas\u001b[0m\u001b[0;34m.\u001b[0m\u001b[0mcore\u001b[0m\u001b[0;34m.\u001b[0m\u001b[0mreshape\u001b[0m \u001b[0;32mimport\u001b[0m \u001b[0mpivot\u001b[0m\u001b[0;34m\u001b[0m\u001b[0m\n\u001b[0;32m-> 3846\u001b[0;31m         \u001b[0;32mreturn\u001b[0m \u001b[0mpivot\u001b[0m\u001b[0;34m(\u001b[0m\u001b[0mself\u001b[0m\u001b[0;34m,\u001b[0m \u001b[0mindex\u001b[0m\u001b[0;34m=\u001b[0m\u001b[0mindex\u001b[0m\u001b[0;34m,\u001b[0m \u001b[0mcolumns\u001b[0m\u001b[0;34m=\u001b[0m\u001b[0mcolumns\u001b[0m\u001b[0;34m,\u001b[0m \u001b[0mvalues\u001b[0m\u001b[0;34m=\u001b[0m\u001b[0mvalues\u001b[0m\u001b[0;34m)\u001b[0m\u001b[0;34m\u001b[0m\u001b[0m\n\u001b[0m\u001b[1;32m   3847\u001b[0m \u001b[0;34m\u001b[0m\u001b[0m\n\u001b[1;32m   3848\u001b[0m     \u001b[0;32mdef\u001b[0m \u001b[0mstack\u001b[0m\u001b[0;34m(\u001b[0m\u001b[0mself\u001b[0m\u001b[0;34m,\u001b[0m \u001b[0mlevel\u001b[0m\u001b[0;34m=\u001b[0m\u001b[0;34m-\u001b[0m\u001b[0;36m1\u001b[0m\u001b[0;34m,\u001b[0m \u001b[0mdropna\u001b[0m\u001b[0;34m=\u001b[0m\u001b[0;32mTrue\u001b[0m\u001b[0;34m)\u001b[0m\u001b[0;34m:\u001b[0m\u001b[0;34m\u001b[0m\u001b[0m\n",
      "\u001b[0;32m//anaconda/envs/CaGRIN/lib/python3.5/site-packages/pandas/core/reshape.py\u001b[0m in \u001b[0;36mpivot\u001b[0;34m(self, index, columns, values)\u001b[0m\n\u001b[1;32m    330\u001b[0m         indexed = Series(self[values].values,\n\u001b[1;32m    331\u001b[0m                          index=MultiIndex.from_arrays([index, self[columns]]))\n\u001b[0;32m--> 332\u001b[0;31m         \u001b[0;32mreturn\u001b[0m \u001b[0mindexed\u001b[0m\u001b[0;34m.\u001b[0m\u001b[0munstack\u001b[0m\u001b[0;34m(\u001b[0m\u001b[0mcolumns\u001b[0m\u001b[0;34m)\u001b[0m\u001b[0;34m\u001b[0m\u001b[0m\n\u001b[0m\u001b[1;32m    333\u001b[0m \u001b[0;34m\u001b[0m\u001b[0m\n\u001b[1;32m    334\u001b[0m \u001b[0;34m\u001b[0m\u001b[0m\n",
      "\u001b[0;32m//anaconda/envs/CaGRIN/lib/python3.5/site-packages/pandas/core/series.py\u001b[0m in \u001b[0;36munstack\u001b[0;34m(self, level, fill_value)\u001b[0m\n\u001b[1;32m   2041\u001b[0m         \"\"\"\n\u001b[1;32m   2042\u001b[0m         \u001b[0;32mfrom\u001b[0m \u001b[0mpandas\u001b[0m\u001b[0;34m.\u001b[0m\u001b[0mcore\u001b[0m\u001b[0;34m.\u001b[0m\u001b[0mreshape\u001b[0m \u001b[0;32mimport\u001b[0m \u001b[0munstack\u001b[0m\u001b[0;34m\u001b[0m\u001b[0m\n\u001b[0;32m-> 2043\u001b[0;31m         \u001b[0;32mreturn\u001b[0m \u001b[0munstack\u001b[0m\u001b[0;34m(\u001b[0m\u001b[0mself\u001b[0m\u001b[0;34m,\u001b[0m \u001b[0mlevel\u001b[0m\u001b[0;34m,\u001b[0m \u001b[0mfill_value\u001b[0m\u001b[0;34m)\u001b[0m\u001b[0;34m\u001b[0m\u001b[0m\n\u001b[0m\u001b[1;32m   2044\u001b[0m \u001b[0;34m\u001b[0m\u001b[0m\n\u001b[1;32m   2045\u001b[0m     \u001b[0;31m# ----------------------------------------------------------------------\u001b[0m\u001b[0;34m\u001b[0m\u001b[0;34m\u001b[0m\u001b[0m\n",
      "\u001b[0;32m//anaconda/envs/CaGRIN/lib/python3.5/site-packages/pandas/core/reshape.py\u001b[0m in \u001b[0;36munstack\u001b[0;34m(obj, level, fill_value)\u001b[0m\n\u001b[1;32m    405\u001b[0m     \u001b[0;32melse\u001b[0m\u001b[0;34m:\u001b[0m\u001b[0;34m\u001b[0m\u001b[0m\n\u001b[1;32m    406\u001b[0m         unstacker = _Unstacker(obj.values, obj.index, level=level,\n\u001b[0;32m--> 407\u001b[0;31m                                fill_value=fill_value)\n\u001b[0m\u001b[1;32m    408\u001b[0m         \u001b[0;32mreturn\u001b[0m \u001b[0munstacker\u001b[0m\u001b[0;34m.\u001b[0m\u001b[0mget_result\u001b[0m\u001b[0;34m(\u001b[0m\u001b[0;34m)\u001b[0m\u001b[0;34m\u001b[0m\u001b[0m\n\u001b[1;32m    409\u001b[0m \u001b[0;34m\u001b[0m\u001b[0m\n",
      "\u001b[0;32m//anaconda/envs/CaGRIN/lib/python3.5/site-packages/pandas/core/reshape.py\u001b[0m in \u001b[0;36m__init__\u001b[0;34m(self, values, index, level, value_columns, fill_value)\u001b[0m\n\u001b[1;32m     99\u001b[0m \u001b[0;34m\u001b[0m\u001b[0m\n\u001b[1;32m    100\u001b[0m         \u001b[0mself\u001b[0m\u001b[0;34m.\u001b[0m\u001b[0m_make_sorted_values_labels\u001b[0m\u001b[0;34m(\u001b[0m\u001b[0;34m)\u001b[0m\u001b[0;34m\u001b[0m\u001b[0m\n\u001b[0;32m--> 101\u001b[0;31m         \u001b[0mself\u001b[0m\u001b[0;34m.\u001b[0m\u001b[0m_make_selectors\u001b[0m\u001b[0;34m(\u001b[0m\u001b[0;34m)\u001b[0m\u001b[0;34m\u001b[0m\u001b[0m\n\u001b[0m\u001b[1;32m    102\u001b[0m \u001b[0;34m\u001b[0m\u001b[0m\n\u001b[1;32m    103\u001b[0m     \u001b[0;32mdef\u001b[0m \u001b[0m_make_sorted_values_labels\u001b[0m\u001b[0;34m(\u001b[0m\u001b[0mself\u001b[0m\u001b[0;34m)\u001b[0m\u001b[0;34m:\u001b[0m\u001b[0;34m\u001b[0m\u001b[0m\n",
      "\u001b[0;32m//anaconda/envs/CaGRIN/lib/python3.5/site-packages/pandas/core/reshape.py\u001b[0m in \u001b[0;36m_make_selectors\u001b[0;34m(self)\u001b[0m\n\u001b[1;32m    137\u001b[0m \u001b[0;34m\u001b[0m\u001b[0m\n\u001b[1;32m    138\u001b[0m         \u001b[0;32mif\u001b[0m \u001b[0mmask\u001b[0m\u001b[0;34m.\u001b[0m\u001b[0msum\u001b[0m\u001b[0;34m(\u001b[0m\u001b[0;34m)\u001b[0m \u001b[0;34m<\u001b[0m \u001b[0mlen\u001b[0m\u001b[0;34m(\u001b[0m\u001b[0mself\u001b[0m\u001b[0;34m.\u001b[0m\u001b[0mindex\u001b[0m\u001b[0;34m)\u001b[0m\u001b[0;34m:\u001b[0m\u001b[0;34m\u001b[0m\u001b[0m\n\u001b[0;32m--> 139\u001b[0;31m             raise ValueError('Index contains duplicate entries, '\n\u001b[0m\u001b[1;32m    140\u001b[0m                              'cannot reshape')\n\u001b[1;32m    141\u001b[0m \u001b[0;34m\u001b[0m\u001b[0m\n",
      "\u001b[0;31mValueError\u001b[0m: Index contains duplicate entries, cannot reshape"
     ]
    }
   ],
   "source": [
    "syllable_df.pivot(index='Condition',columns='Mouse ID',values='syllable')"
   ]
  },
  {
   "cell_type": "code",
   "execution_count": 148,
   "metadata": {
    "collapsed": false
   },
   "outputs": [],
   "source": [
    "from collections import Counter\n",
    "condition_counts = Counter(data[data['Mouse ID']=='harry']['Condition'].values)"
   ]
  },
  {
   "cell_type": "code",
   "execution_count": 149,
   "metadata": {
    "collapsed": false
   },
   "outputs": [
    {
     "data": {
      "text/plain": [
       "Counter({'70-30': 2353, '80-20': 6764, '90-10': 564})"
      ]
     },
     "execution_count": 149,
     "metadata": {},
     "output_type": "execute_result"
    }
   ],
   "source": [
    "condition_counts"
   ]
  }
 ],
 "metadata": {
  "anaconda-cloud": {},
  "kernelspec": {
   "display_name": "Python [conda env:CaGRIN]",
   "language": "python",
   "name": "conda-env-CaGRIN-py"
  },
  "language_info": {
   "codemirror_mode": {
    "name": "ipython",
    "version": 3
   },
   "file_extension": ".py",
   "mimetype": "text/x-python",
   "name": "python",
   "nbconvert_exporter": "python",
   "pygments_lexer": "ipython3",
   "version": "3.5.2"
  }
 },
 "nbformat": 4,
 "nbformat_minor": 1
}

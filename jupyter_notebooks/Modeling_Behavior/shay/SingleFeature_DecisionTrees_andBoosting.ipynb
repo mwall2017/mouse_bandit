{
 "cells": [
  {
   "cell_type": "markdown",
   "metadata": {},
   "source": [
    "# Decision Trees & Boosting"
   ]
  },
  {
   "cell_type": "code",
   "execution_count": 31,
   "metadata": {
    "collapsed": false
   },
   "outputs": [],
   "source": [
    "import sys\n",
    "sys.path.append('/Users/shayneufeld/GitHub/mouse_bandit/data_preprocessing_code')\n",
    "sys.path.append('/Users/shayneufeld/GitHub/mouse_bandit')\n",
    "import support_functions as sf\n",
    "import numpy as np\n",
    "import matplotlib.pyplot as plt\n",
    "import seaborn as sns\n",
    "import pandas as pd\n",
    "import scipy as sp\n",
    "import bandit_preprocessing as bp\n",
    "import sklearn.linear_model\n",
    "from sklearn import discriminant_analysis\n",
    "from sklearn import model_selection\n",
    "from sklearn import tree as Tree\n",
    "from sklearn import ensemble\n",
    "import sklearn.tree\n",
    "%matplotlib inline "
   ]
  },
  {
   "cell_type": "markdown",
   "metadata": {},
   "source": [
    "### Load in data"
   ]
  },
  {
   "cell_type": "code",
   "execution_count": 75,
   "metadata": {
    "collapsed": false
   },
   "outputs": [],
   "source": [
    "data = pd.read_csv('/Users/shayneufeld/GitHub/mouse_bandit/data/processed_data/master_8020_df.csv',index_col=0)"
   ]
  },
  {
   "cell_type": "code",
   "execution_count": 33,
   "metadata": {
    "collapsed": false
   },
   "outputs": [
    {
     "data": {
      "text/html": [
       "<div>\n",
       "<table border=\"1\" class=\"dataframe\">\n",
       "  <thead>\n",
       "    <tr style=\"text-align: right;\">\n",
       "      <th></th>\n",
       "      <th>Previous_10_Left_Choice</th>\n",
       "      <th>Previous_10_Right_Choice</th>\n",
       "      <th>Previous_10_Left_Reward</th>\n",
       "      <th>Previous_10_Right_Reward</th>\n",
       "      <th>Streak</th>\n",
       "      <th>5_Port</th>\n",
       "      <th>5_Reward</th>\n",
       "      <th>5_ITI</th>\n",
       "      <th>5_trialDuration</th>\n",
       "      <th>4_Port</th>\n",
       "      <th>...</th>\n",
       "      <th>2_Reward</th>\n",
       "      <th>2_ITI</th>\n",
       "      <th>2_trialDuration</th>\n",
       "      <th>1_Port</th>\n",
       "      <th>1_Reward</th>\n",
       "      <th>1_ITI</th>\n",
       "      <th>1_trialDuration</th>\n",
       "      <th>0_ITI</th>\n",
       "      <th>0_trialDuration</th>\n",
       "      <th>Decision</th>\n",
       "    </tr>\n",
       "  </thead>\n",
       "  <tbody>\n",
       "    <tr>\n",
       "      <th>0</th>\n",
       "      <td>10.0</td>\n",
       "      <td>0.0</td>\n",
       "      <td>10.0</td>\n",
       "      <td>0.0</td>\n",
       "      <td>0.0</td>\n",
       "      <td>1.0</td>\n",
       "      <td>1.0</td>\n",
       "      <td>2.023</td>\n",
       "      <td>0.339</td>\n",
       "      <td>1.0</td>\n",
       "      <td>...</td>\n",
       "      <td>1.0</td>\n",
       "      <td>1.670</td>\n",
       "      <td>0.308</td>\n",
       "      <td>1.0</td>\n",
       "      <td>1.0</td>\n",
       "      <td>2.240</td>\n",
       "      <td>0.304</td>\n",
       "      <td>2.452</td>\n",
       "      <td>0.355</td>\n",
       "      <td>1.0</td>\n",
       "    </tr>\n",
       "    <tr>\n",
       "      <th>1</th>\n",
       "      <td>10.0</td>\n",
       "      <td>0.0</td>\n",
       "      <td>10.0</td>\n",
       "      <td>0.0</td>\n",
       "      <td>0.0</td>\n",
       "      <td>1.0</td>\n",
       "      <td>1.0</td>\n",
       "      <td>2.405</td>\n",
       "      <td>0.342</td>\n",
       "      <td>1.0</td>\n",
       "      <td>...</td>\n",
       "      <td>1.0</td>\n",
       "      <td>2.240</td>\n",
       "      <td>0.304</td>\n",
       "      <td>1.0</td>\n",
       "      <td>1.0</td>\n",
       "      <td>2.452</td>\n",
       "      <td>0.355</td>\n",
       "      <td>2.225</td>\n",
       "      <td>0.334</td>\n",
       "      <td>1.0</td>\n",
       "    </tr>\n",
       "    <tr>\n",
       "      <th>2</th>\n",
       "      <td>10.0</td>\n",
       "      <td>0.0</td>\n",
       "      <td>10.0</td>\n",
       "      <td>0.0</td>\n",
       "      <td>0.0</td>\n",
       "      <td>1.0</td>\n",
       "      <td>1.0</td>\n",
       "      <td>6.294</td>\n",
       "      <td>0.450</td>\n",
       "      <td>1.0</td>\n",
       "      <td>...</td>\n",
       "      <td>1.0</td>\n",
       "      <td>2.452</td>\n",
       "      <td>0.355</td>\n",
       "      <td>1.0</td>\n",
       "      <td>1.0</td>\n",
       "      <td>2.225</td>\n",
       "      <td>0.334</td>\n",
       "      <td>2.323</td>\n",
       "      <td>0.301</td>\n",
       "      <td>1.0</td>\n",
       "    </tr>\n",
       "    <tr>\n",
       "      <th>3</th>\n",
       "      <td>10.0</td>\n",
       "      <td>0.0</td>\n",
       "      <td>10.0</td>\n",
       "      <td>0.0</td>\n",
       "      <td>0.0</td>\n",
       "      <td>1.0</td>\n",
       "      <td>1.0</td>\n",
       "      <td>1.670</td>\n",
       "      <td>0.308</td>\n",
       "      <td>1.0</td>\n",
       "      <td>...</td>\n",
       "      <td>1.0</td>\n",
       "      <td>2.225</td>\n",
       "      <td>0.334</td>\n",
       "      <td>1.0</td>\n",
       "      <td>1.0</td>\n",
       "      <td>2.323</td>\n",
       "      <td>0.301</td>\n",
       "      <td>2.255</td>\n",
       "      <td>0.429</td>\n",
       "      <td>1.0</td>\n",
       "    </tr>\n",
       "    <tr>\n",
       "      <th>4</th>\n",
       "      <td>10.0</td>\n",
       "      <td>0.0</td>\n",
       "      <td>10.0</td>\n",
       "      <td>0.0</td>\n",
       "      <td>0.0</td>\n",
       "      <td>1.0</td>\n",
       "      <td>1.0</td>\n",
       "      <td>2.240</td>\n",
       "      <td>0.304</td>\n",
       "      <td>1.0</td>\n",
       "      <td>...</td>\n",
       "      <td>1.0</td>\n",
       "      <td>2.323</td>\n",
       "      <td>0.301</td>\n",
       "      <td>1.0</td>\n",
       "      <td>1.0</td>\n",
       "      <td>2.255</td>\n",
       "      <td>0.429</td>\n",
       "      <td>2.124</td>\n",
       "      <td>0.309</td>\n",
       "      <td>1.0</td>\n",
       "    </tr>\n",
       "  </tbody>\n",
       "</table>\n",
       "<p>5 rows × 28 columns</p>\n",
       "</div>"
      ],
      "text/plain": [
       "   Previous_10_Left_Choice  Previous_10_Right_Choice  Previous_10_Left_Reward  \\\n",
       "0                     10.0                       0.0                     10.0   \n",
       "1                     10.0                       0.0                     10.0   \n",
       "2                     10.0                       0.0                     10.0   \n",
       "3                     10.0                       0.0                     10.0   \n",
       "4                     10.0                       0.0                     10.0   \n",
       "\n",
       "   Previous_10_Right_Reward  Streak  5_Port  5_Reward  5_ITI  5_trialDuration  \\\n",
       "0                       0.0     0.0     1.0       1.0  2.023            0.339   \n",
       "1                       0.0     0.0     1.0       1.0  2.405            0.342   \n",
       "2                       0.0     0.0     1.0       1.0  6.294            0.450   \n",
       "3                       0.0     0.0     1.0       1.0  1.670            0.308   \n",
       "4                       0.0     0.0     1.0       1.0  2.240            0.304   \n",
       "\n",
       "   4_Port    ...     2_Reward  2_ITI  2_trialDuration  1_Port  1_Reward  \\\n",
       "0     1.0    ...          1.0  1.670            0.308     1.0       1.0   \n",
       "1     1.0    ...          1.0  2.240            0.304     1.0       1.0   \n",
       "2     1.0    ...          1.0  2.452            0.355     1.0       1.0   \n",
       "3     1.0    ...          1.0  2.225            0.334     1.0       1.0   \n",
       "4     1.0    ...          1.0  2.323            0.301     1.0       1.0   \n",
       "\n",
       "   1_ITI  1_trialDuration  0_ITI  0_trialDuration  Decision  \n",
       "0  2.240            0.304  2.452            0.355       1.0  \n",
       "1  2.452            0.355  2.225            0.334       1.0  \n",
       "2  2.225            0.334  2.323            0.301       1.0  \n",
       "3  2.323            0.301  2.255            0.429       1.0  \n",
       "4  2.255            0.429  2.124            0.309       1.0  \n",
       "\n",
       "[5 rows x 28 columns]"
      ]
     },
     "execution_count": 33,
     "metadata": {},
     "output_type": "execute_result"
    }
   ],
   "source": [
    "data.head(5)"
   ]
  },
  {
   "cell_type": "code",
   "execution_count": 76,
   "metadata": {
    "collapsed": true
   },
   "outputs": [],
   "source": [
    "#extract features and decisions\n",
    "x = data.iloc[:,:-1].values\n",
    "y = data.iloc[:,-1].values"
   ]
  },
  {
   "cell_type": "markdown",
   "metadata": {},
   "source": [
    "### Change 'y' so that 1 corresponds to a switch, and 0 corresponds to no switch\n",
    "(right now the last column is which port the animal chooses, but right now let's try and predict when the animal 'switches', which is defined as chooses a different port than the last choice)"
   ]
  },
  {
   "cell_type": "code",
   "execution_count": 77,
   "metadata": {
    "collapsed": false
   },
   "outputs": [
    {
     "name": "stdout",
     "output_type": "stream",
     "text": [
      "(11325, 27)\n",
      "(11325,)\n"
     ]
    }
   ],
   "source": [
    "y_diff = np.diff(y)\n",
    "x = x[1:,:]\n",
    "y = np.abs(y_diff.copy())\n",
    "\n",
    "print(x.shape)\n",
    "print(y_diff.shape)"
   ]
  },
  {
   "cell_type": "markdown",
   "metadata": {},
   "source": [
    "### Split into training and testing set"
   ]
  },
  {
   "cell_type": "code",
   "execution_count": 78,
   "metadata": {
    "collapsed": false
   },
   "outputs": [],
   "source": [
    "#split into training and testing\n",
    "n_trials = x.shape[0]\n",
    "shuf_inds = np.random.permutation(n_trials)\n",
    "split_ind = int(n_trials*0.7)\n",
    "\n",
    "x_train = x[shuf_inds[:split_ind],:]\n",
    "y_train = y[shuf_inds[:split_ind]]\n",
    "\n",
    "x_test = x[shuf_inds[split_ind:],:]\n",
    "y_test = y[shuf_inds[split_ind:]]"
   ]
  },
  {
   "cell_type": "code",
   "execution_count": 79,
   "metadata": {
    "collapsed": false
   },
   "outputs": [
    {
     "name": "stdout",
     "output_type": "stream",
     "text": [
      "# train trials: 7927 | # switches: 617 --> 7.8 percent\n",
      "# test trials: 3398 | # switches: 280 --> 8.2 percent\n"
     ]
    }
   ],
   "source": [
    "print('# train trials: %.0f | # switches: %.0f --> %.01f percent' % (y_train.shape[0],np.sum(y_train),np.sum(y_train)*100.0/y_train.shape[0]))\n",
    "print('# test trials: %.0f | # switches: %.0f --> %.01f percent' % (y_test.shape[0],np.sum(y_test),np.sum(y_test)*100.0/y_test.shape[0]))"
   ]
  },
  {
   "cell_type": "markdown",
   "metadata": {},
   "source": [
    "# Single Feature Decision Trees\n",
    "\n",
    "### For each feature, tune the class weight\n",
    "\n",
    "I used the F1 score to determine the best weight. I empiracally confirmed that the F1 score reliably predicted a good combination of switch and stay accuracies. \n",
    "\n",
    "I also only searched through class weights in [0.8,1] for switches. This range contained all maximum F1 scores for the decision trees (to the best of my knowledge)."
   ]
  },
  {
   "cell_type": "code",
   "execution_count": 38,
   "metadata": {
    "collapsed": false,
    "scrolled": false
   },
   "outputs": [],
   "source": [
    "features = data.columns.values[:-1]\n",
    "P = np.arange(0.8,1.0,0.01)\n",
    "F1 = np.zeros(x.shape[1])\n",
    "w = np.zeros(x.shape[1])\n",
    "\n",
    "for i in range(x.shape[1]):\n",
    "    \n",
    "    for p in P:\n",
    "        prior = np.array([1.0-p,p])\n",
    "        tree = Tree.DecisionTreeClassifier(max_depth=1,class_weight={0:prior[0],1:prior[1]})\n",
    "\n",
    "        kf = model_selection.KFold(n_splits=3)\n",
    "        cum_F1 = 0.0\n",
    "\n",
    "        for train_index,test_index in kf.split(x_train):\n",
    "            x_train_cv = x_train[train_index,i].reshape(x_train[train_index].shape[0],1)\n",
    "            y_train_cv = y_train[train_index]\n",
    "            x_test_cv = x_train[test_index,i].reshape(x_train[test_index].shape[0],1)\n",
    "            y_test_cv = y_train[test_index]\n",
    "\n",
    "            tree.fit(x_train_cv,y_train_cv)\n",
    "            y_predict = tree.predict(x_test_cv)\n",
    "\n",
    "            acc_pos,acc_neg,F1_k = sf.score_both_and_confuse(y_predict,y_test_cv,confusion=False,disp=False)\n",
    "\n",
    "            cum_F1 += F1_k\n",
    "\n",
    "        F1_cv = cum_F1 / 3.0\n",
    "\n",
    "        if F1_cv > F1[i]:\n",
    "            F1[i] = F1_cv\n",
    "            w[i] = p"
   ]
  },
  {
   "cell_type": "code",
   "execution_count": 58,
   "metadata": {
    "collapsed": false
   },
   "outputs": [
    {
     "data": {
      "text/plain": [
       "<matplotlib.text.Text at 0x115155e10>"
      ]
     },
     "execution_count": 58,
     "metadata": {},
     "output_type": "execute_result"
    },
    {
     "data": {
      "text/plain": [
       "<matplotlib.figure.Figure at 0x114bb5e48>"
      ]
     },
     "metadata": {},
     "output_type": "display_data"
    },
    {
     "data": {
      "image/png": "[encoded data removed]",
      "text/plain": [
       "<matplotlib.figure.Figure at 0x114bb52b0>"
      ]
     },
     "metadata": {},
     "output_type": "display_data"
    }
   ],
   "source": [
    "plt.figure(figsize=(10,3))\n",
    "fig,ax1 = plt.subplots()\n",
    "ax1.scatter(np.arange(x.shape[1]),F1,color='black')\n",
    "plt.xticks(np.arange(x.shape[1]),data.columns.values[:-1],rotation = 90)\n",
    "ax1.set_ylim(0,0.5)\n",
    "#ax1.set_yticklabels(['','',0.10,0.15,0.20,0.25,0.30])\n",
    "ax1.set_ylabel('F1 score')\n",
    "ax1.yaxis.set_label_coords(-0.1,.65)\n",
    "\n",
    "ax2 = ax1.twinx()\n",
    "ax2.scatter(np.arange(x.shape[1]),w,color='red')\n",
    "ax2.set_ylim(0.8,1.5)\n",
    "ax2.set_yticks([0.8,0.9,1.0])\n",
    "ax2.set_ylabel('Class Weight',color='r',)\n",
    "ax2.yaxis.set_label_coords(1.1,0.15)\n",
    "ax2.grid('off')\n",
    "for tl in ax2.get_yticklabels():\n",
    "    tl.set_color('r')\n",
    "plt.title('Single feature trees tuned for class weights')"
   ]
  },
  {
   "cell_type": "markdown",
   "metadata": {},
   "source": [
    "Hey look what's making an appearance ... the streak parameter! I wonder if it wasn't being used previously because it's highly correlated with the previous reward and if we use L1 regularization it will just go to zero? Anyway its cool you can see the previous rewards decay, the streak variable, and then everything else is pretty much equal accept for some timing features in the immediate past. "
   ]
  },
  {
   "cell_type": "markdown",
   "metadata": {},
   "source": [
    "**Using the class weights determined to be optimal for each feature, train each tree and test on the testing set**"
   ]
  },
  {
   "cell_type": "code",
   "execution_count": 40,
   "metadata": {
    "collapsed": false,
    "scrolled": false
   },
   "outputs": [],
   "source": [
    "features = data.columns.values[:-1]\n",
    "F1,acc_pos,acc_neg = [],[],[]\n",
    "trees = []\n",
    "\n",
    "for i in range(x.shape[1]):\n",
    "    tree = Tree.DecisionTreeClassifier(max_depth=1,class_weight={0:(1-w[i]),1:w[i]})\n",
    "    tree.fit(x_train[:,i].reshape(x_train.shape[0],1),y_train)\n",
    "    \n",
    "    y_pred = tree.predict(x_test[:,i].reshape(x_test.shape[0],1))\n",
    "    ap,an,f = sf.score_both_and_confuse(y_pred,y_test,disp=False,confusion=False)\n",
    "    F1.append(f)\n",
    "    acc_pos.append(ap)\n",
    "    acc_neg.append(an)\n",
    "    trees.append(tree)\n",
    "\n",
    "acc_avg = (np.asarray(acc_pos) + np.asarray(acc_neg))/2.0"
   ]
  },
  {
   "cell_type": "code",
   "execution_count": 41,
   "metadata": {
    "collapsed": false
   },
   "outputs": [
    {
     "data": {
      "text/plain": [
       "<matplotlib.text.Text at 0x113eeafd0>"
      ]
     },
     "execution_count": 41,
     "metadata": {},
     "output_type": "execute_result"
    },
    {
     "data": {
      "image/png": "[encoded data removed]",
      "text/plain": [
       "<matplotlib.figure.Figure at 0x114261dd8>"
      ]
     },
     "metadata": {},
     "output_type": "display_data"
    }
   ],
   "source": [
    "plt.figure(figsize=(10,5))\n",
    "plt.scatter(np.arange(x.shape[1]),acc_pos,color='green',alpha=0.4,label='Switch')\n",
    "plt.scatter(np.arange(x.shape[1]),acc_neg,color='purple',alpha=0.4,label='Stay')\n",
    "plt.scatter(np.arange(x.shape[1]),acc_avg,color='black',label = 'Average' )\n",
    "plt.legend(loc='upper left')\n",
    "plt.ylabel('Accuracy on test set')\n",
    "plt.xticks(np.arange(x.shape[1]),data.columns.values[:-1],rotation = 90)\n",
    "plt.title('Single Feature Tree Scores')"
   ]
  },
  {
   "cell_type": "markdown",
   "metadata": {},
   "source": [
    "Same general results as with the cross validation"
   ]
  },
  {
   "cell_type": "markdown",
   "metadata": {},
   "source": [
    "### Try majority vote ensemble"
   ]
  },
  {
   "cell_type": "code",
   "execution_count": 42,
   "metadata": {
    "collapsed": false,
    "scrolled": true
   },
   "outputs": [
    {
     "name": "stdout",
     "output_type": "stream",
     "text": [
      "          Predicted NO  Predicted YES\n",
      "True NO         2226.0          115.0\n",
      "True YES          94.0           87.0\n",
      "\n",
      "F1: 0.454\n",
      "\n",
      "Accuracy on class 0: 0.95\n",
      "Accuracy on class 1: 0.48\n",
      "\n"
     ]
    }
   ],
   "source": [
    "y_prob = np.zeros((x_test.shape[0],len(trees)))\n",
    "\n",
    "for i in range(x.shape[1]):\n",
    "    \n",
    "    y_prob[:,i] = trees[i].predict_proba(x_test[:,i].reshape(x_test.shape[0],1))[:,1]\n",
    "\n",
    "y_majvote = y_prob[:,[4,10,14,18,22]].mean(axis=1) > 0.5\n",
    "acc_pos,acc_neg,f1 = sf.score_both_and_confuse(y_majvote,y_test,disp=True,confusion=False)"
   ]
  },
  {
   "cell_type": "markdown",
   "metadata": {},
   "source": [
    "# Boosting"
   ]
  },
  {
   "cell_type": "code",
   "execution_count": 43,
   "metadata": {
    "collapsed": false
   },
   "outputs": [],
   "source": [
    "LR = np.arange(1.5,2.5,0.01)\n",
    "acc_pos,acc_neg,f1 = [],[],[]\n",
    "\n",
    "for lr in LR:\n",
    "    ada = ensemble.AdaBoostClassifier(learning_rate = lr)\n",
    "    ada.fit(x_train,y_train)\n",
    "    y_predict = ada.predict(x_test)\n",
    "    ap,an,f = sf.score_both_and_confuse(y_predict,y_test,disp=False,confusion=False)\n",
    "    \n",
    "    acc_pos.append(ap)\n",
    "    acc_neg.append(an)\n",
    "    f1.append(f)"
   ]
  },
  {
   "cell_type": "code",
   "execution_count": 44,
   "metadata": {
    "collapsed": false
   },
   "outputs": [
    {
     "data": {
      "text/plain": [
       "<matplotlib.text.Text at 0x114286358>"
      ]
     },
     "execution_count": 44,
     "metadata": {},
     "output_type": "execute_result"
    },
    {
     "data": {
      "image/png": "[encoded data removed]",
      "text/plain": [
       "<matplotlib.figure.Figure at 0x114361c50>"
      ]
     },
     "metadata": {},
     "output_type": "display_data"
    }
   ],
   "source": [
    "plt.figure(figsize=(10,5))\n",
    "plt.scatter(LR,acc_pos,color='green',alpha=0.4,label='Switch')\n",
    "plt.scatter(LR,acc_neg,color='purple',alpha=0.4,label='Stay')\n",
    "plt.scatter(LR,f1,color='black',label = 'F1' )\n",
    "plt.legend(loc='best')\n",
    "plt.ylabel('Accuracy')\n",
    "plt.xlabel('Learning Rate')\n",
    "plt.title('ADABoost tuning learning rate')"
   ]
  },
  {
   "cell_type": "markdown",
   "metadata": {},
   "source": [
    "## My own implementation"
   ]
  },
  {
   "cell_type": "code",
   "execution_count": 74,
   "metadata": {
    "collapsed": true
   },
   "outputs": [],
   "source": [
    "def fit_predict_boosted_models(x_train,y_train,x_test,models,feature_inds):\n",
    "    '''\n",
    "    Fits an ensemble of T decision trees to the training set\n",
    "\n",
    "    Input:\n",
    "    x_train: Array of predictors in training set\n",
    "    y_train: Array of binary responses in training set\n",
    "    x_test: Array of predictors in training set\n",
    "    models: list of models to be boosted\n",
    "\n",
    "    Output:\n",
    "    model_predict: Array of predicted labels for each test observation\n",
    "    a: the weights assigned to each model \n",
    "    '''\n",
    "\n",
    "    #helpful variables\n",
    "    N = x_train.shape[0] #number of observation\n",
    "    N_test = x_test.shape[0]\n",
    "    n_features = x_train.shape[1] #number of features\n",
    "    M = len(models) # number of models to be boosted\n",
    "\n",
    "    #Step 1: initialize observation weights and other variables:\n",
    "    w = np.zeros(N) + (1.0/N)\n",
    "    a,err = np.zeros(M),np.zeros(M) #alpha, residuals\n",
    "    \n",
    "    #Step 2: iterate M times\n",
    "    for m,model in enumerate(models):\n",
    "        x_train_m = x_train[:,feature_inds[m]].reshape(x_train.shape[0],1)\n",
    "        x_test_m = x_test[:,feature_inds[m]].reshape(x_test.shape[0],1)\n",
    "        \n",
    "        #fit model with weights\n",
    "        model.fit(x_train_m,y_train,sample_weight=w)\n",
    "        \n",
    "        #predict from the model\n",
    "        y_predict = model.predict(x_train_m)\n",
    "\n",
    "        #compute error\n",
    "        err[m] = np.sum(w*(y_predict != y_train)) / np.sum(w)\n",
    "\n",
    "        #compute alpha\n",
    "        a[m] = np.log((1-err[m])/err[m])\n",
    "\n",
    "        #update weights\n",
    "        w = w*np.exp(a[m]*(y_predict != y_train))\n",
    "\n",
    "    \n",
    "    #Step 3 output G(x)\n",
    "    y_predict,y_weighted = np.zeros((N_test,M)),np.zeros((N_test,M))\n",
    "    \n",
    "    for m,model in enumerate(models):\n",
    "        y_predict[:,m] = model.predict(x_test_m)\n",
    "        y_predict[y_predict[:,m] == 0,m] = -1\n",
    "\n",
    "        y_weighted[:,m] = a[m]*y_predict[:,m]\n",
    "    \n",
    "    model_predict = np.sign(y_weighted.sum(axis=1))\n",
    "    \n",
    "    #convert back to 0s and 1s\n",
    "    model_predict[model_predict == -1] = 0\n",
    "\n",
    "    return model_predict,a"
   ]
  },
  {
   "cell_type": "code",
   "execution_count": 68,
   "metadata": {
    "collapsed": false
   },
   "outputs": [],
   "source": [
    "boost_features =['Streak','1_Reward','2_Reward','3_Reward','4_Reward','5_Reward']\n",
    "boost_feature_inds = []\n",
    "boost_models = []\n",
    "for f in boost_features:\n",
    "    boost_models.append(trees[data.columns.get_loc(f)])\n",
    "    boost_feature_inds.append(data.columns.get_loc(f))\n",
    "boost_feature_inds = np.asarray(boost_feature_inds)"
   ]
  },
  {
   "cell_type": "code",
   "execution_count": 69,
   "metadata": {
    "collapsed": false,
    "scrolled": false
   },
   "outputs": [],
   "source": [
    "y_predict,a = fit_predict_boosted_models(x_train,y_train,x_test,boost_models,boost_feature_inds)"
   ]
  },
  {
   "cell_type": "code",
   "execution_count": 70,
   "metadata": {
    "collapsed": false
   },
   "outputs": [
    {
     "name": "stdout",
     "output_type": "stream",
     "text": [
      "          Predicted NO  Predicted YES\n",
      "True NO         2341.0            0.0\n",
      "True YES         181.0            0.0\n",
      "\n",
      "F1: 0.000\n",
      "\n",
      "Accuracy on class 0: 1.00\n",
      "Accuracy on class 1: 0.00\n",
      "\n"
     ]
    }
   ],
   "source": [
    "acc_pos,acc_neg,f1 = sf.score_both_and_confuse(y_predict,y_test,disp=True,confusion=False)"
   ]
  },
  {
   "cell_type": "code",
   "execution_count": 49,
   "metadata": {
    "collapsed": false
   },
   "outputs": [
    {
     "name": "stdout",
     "output_type": "stream",
     "text": [
      "          Predicted NO  Predicted YES\n",
      "True NO         2341.0            0.0\n",
      "True YES         181.0            0.0\n",
      "\n",
      "F1: 0.000\n",
      "\n",
      "Accuracy on class 0: 1.00\n",
      "Accuracy on class 1: 0.00\n",
      "\n"
     ]
    }
   ],
   "source": [
    "y_predict,a_all = fit_predict_boosted_models(x_train,y_train,x_test,trees,np.arange(len(trees)))\n",
    "acc_pos,acc_neg,f1 = sf.score_both_and_confuse(y_predict,y_test,disp=True,confusion=False)"
   ]
  },
  {
   "cell_type": "code",
   "execution_count": 50,
   "metadata": {
    "collapsed": false
   },
   "outputs": [],
   "source": [
    "def predict_boosted_models(x_test,models,model_feature_inds,a,proba=False):\n",
    "\n",
    "    #Step 3 output G(x)\n",
    "    y_predict,y_weighted = np.zeros((x_test.shape[0],len(models))),np.zeros((x_test.shape[0],len(models)))\n",
    "    \n",
    "    for m,model in enumerate(models):\n",
    "        x_test_m = x_test[:,model_feature_inds[m]].reshape(x_test.shape[0],1)                                                 \n",
    "        y_predict[:,m] = model.predict(x_test_m)\n",
    "        y_predict[y_predict[:,m] == 0,m] = -1\n",
    "\n",
    "        y_weighted[:,m] = a[m]*y_predict[:,m]\n",
    "    \n",
    "    model_predict = np.sign(y_weighted.sum(axis=1))\n",
    "    \n",
    "    #convert back to 0s and 1s\n",
    "    model_predict[model_predict == -1] = 0\n",
    "    \n",
    "    if proba == False:\n",
    "        return model_predict\n",
    "    else:\n",
    "        return y_weighted.sum(axis=1)"
   ]
  },
  {
   "cell_type": "code",
   "execution_count": 71,
   "metadata": {
    "collapsed": true
   },
   "outputs": [],
   "source": [
    "y_proba = predict_boosted_models(x_test,boost_models,boost_feature_inds,a,proba=True)"
   ]
  },
  {
   "cell_type": "code",
   "execution_count": 72,
   "metadata": {
    "collapsed": false
   },
   "outputs": [
    {
     "data": {
      "text/plain": [
       "<matplotlib.text.Text at 0x1153a3390>"
      ]
     },
     "execution_count": 72,
     "metadata": {},
     "output_type": "execute_result"
    },
    {
     "data": {
      "image/png": "[encoded data removed]",
      "text/plain": [
       "<matplotlib.figure.Figure at 0x1151dec88>"
      ]
     },
     "metadata": {},
     "output_type": "display_data"
    }
   ],
   "source": [
    "plt.figure(figsize=(4,4))\n",
    "plt.hist(y_proba)\n",
    "plt.title('Boosting output (before assigning class)')"
   ]
  },
  {
   "cell_type": "code",
   "execution_count": 73,
   "metadata": {
    "collapsed": false
   },
   "outputs": [
    {
     "name": "stdout",
     "output_type": "stream",
     "text": [
      "          Predicted NO  Predicted YES\n",
      "True NO         2140.0          201.0\n",
      "True YES          67.0          114.0\n",
      "\n",
      "F1: 0.460\n",
      "\n",
      "Accuracy on class 0: 0.91\n",
      "Accuracy on class 1: 0.63\n",
      "\n"
     ]
    }
   ],
   "source": [
    "y_predict = y_proba > -197\n",
    "acc_pos,acc_neg,f1 = sf.score_both_and_confuse(y_predict,y_test,disp=True,confusion=False)"
   ]
  },
  {
   "cell_type": "code",
   "execution_count": 54,
   "metadata": {
    "collapsed": true
   },
   "outputs": [],
   "source": [
    "y_proba = predict_boosted_models(x_test,trees,np.arange(len(trees)),a_all,proba=True)"
   ]
  },
  {
   "cell_type": "code",
   "execution_count": 55,
   "metadata": {
    "collapsed": false
   },
   "outputs": [
    {
     "data": {
      "text/plain": [
       "<matplotlib.text.Text at 0x114c50048>"
      ]
     },
     "execution_count": 55,
     "metadata": {},
     "output_type": "execute_result"
    },
    {
     "data": {
      "image/png": "[encoded data removed]",
      "text/plain": [
       "<matplotlib.figure.Figure at 0x114be6400>"
      ]
     },
     "metadata": {},
     "output_type": "display_data"
    }
   ],
   "source": [
    "plt.figure(figsize=(4,4))\n",
    "plt.hist(y_proba,bins=10)\n",
    "plt.title('Boosting output (before assigning class)')"
   ]
  },
  {
   "cell_type": "code",
   "execution_count": 60,
   "metadata": {
    "collapsed": false
   },
   "outputs": [
    {
     "name": "stdout",
     "output_type": "stream",
     "text": [
      "          Predicted NO  Predicted YES\n",
      "True NO         1838.0          503.0\n",
      "True YES          45.0          136.0\n",
      "\n",
      "F1: 0.332\n",
      "\n",
      "Accuracy on class 0: 0.79\n",
      "Accuracy on class 1: 0.75\n",
      "\n"
     ]
    }
   ],
   "source": [
    "y_predict = y_proba > -2.0\n",
    "acc_pos,acc_neg,f1 = sf.score_both_and_confuse(y_predict,y_test,disp=True,confusion=False)"
   ]
  }
 ],
 "metadata": {
  "anaconda-cloud": {},
  "kernelspec": {
   "display_name": "Python [conda env:CaGRIN]",
   "language": "python",
   "name": "conda-env-CaGRIN-py"
  },
  "language_info": {
   "codemirror_mode": {
    "name": "ipython",
    "version": 3
   },
   "file_extension": ".py",
   "mimetype": "text/x-python",
   "name": "python",
   "nbconvert_exporter": "python",
   "pygments_lexer": "ipython3",
   "version": "3.5.2"
  }
 },
 "nbformat": 4,
 "nbformat_minor": 1
}

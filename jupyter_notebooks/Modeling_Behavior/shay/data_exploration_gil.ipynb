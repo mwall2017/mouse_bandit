{
 "cells": [
  {
   "cell_type": "markdown",
   "metadata": {},
   "source": [
    "# Overview\n",
    "\n",
    "This notebook blah blah blah"
   ]
  },
  {
   "cell_type": "code",
   "execution_count": 1,
   "metadata": {
    "collapsed": true
   },
   "outputs": [],
   "source": [
    "import numpy as np\n",
    "import pandas as pd\n",
    "import scipy as sp\n",
    "import seaborn as sns\n",
    "import matplotlib\n",
    "import matplotlib.pyplot as plt\n",
    "\n",
    "%matplotlib inline"
   ]
  },
  {
   "cell_type": "markdown",
   "metadata": {},
   "source": [
    "### Load in the data"
   ]
  },
  {
   "cell_type": "code",
   "execution_count": 2,
   "metadata": {
    "collapsed": false
   },
   "outputs": [],
   "source": [
    "#load the data through local GitHub file: \n",
    "df7030 = pd.read_csv('/Users/gilmandelbaum/GitHub/ac209a_project/data/trials_70_30.csv', header = None)\n",
    "df9010 = pd.read_csv('/Users/gilmandelbaum/GitHub/ac209a_project/data/trials_90_10.csv', header = None)"
   ]
  },
  {
   "cell_type": "code",
   "execution_count": 3,
   "metadata": {
    "collapsed": false
   },
   "outputs": [
    {
     "data": {
      "text/plain": [
       "(567, 7)"
      ]
     },
     "execution_count": 3,
     "metadata": {},
     "output_type": "execute_result"
    }
   ],
   "source": [
    "df7030.shape  "
   ]
  },
  {
   "cell_type": "code",
   "execution_count": 4,
   "metadata": {
    "collapsed": false
   },
   "outputs": [
    {
     "data": {
      "text/plain": [
       "(485, 7)"
      ]
     },
     "execution_count": 4,
     "metadata": {},
     "output_type": "execute_result"
    }
   ],
   "source": [
    "df9010.shape"
   ]
  },
  {
   "cell_type": "raw",
   "metadata": {},
   "source": [
    "rows are trials. \n",
    "The columns are as following:\n",
    "0. decision poke time (since start of session) in seconds\\\n",
    "1. time since last trial (in seconds)\\\n",
    "2. time between trial initiation and decision (in seconds)\\\n",
    "3. port (1 = right, 2 = left)\\\n",
    "4. right port reward probability\n",
    "5: left port reward probability\n",
    "6: reward given (1 / 0)\\"
   ]
  },
  {
   "cell_type": "code",
   "execution_count": 5,
   "metadata": {
    "collapsed": false
   },
   "outputs": [
    {
     "data": {
      "text/html": [
       "<div>\n",
       "<table border=\"1\" class=\"dataframe\">\n",
       "  <thead>\n",
       "    <tr style=\"text-align: right;\">\n",
       "      <th></th>\n",
       "      <th>0</th>\n",
       "      <th>1</th>\n",
       "      <th>2</th>\n",
       "      <th>3</th>\n",
       "      <th>4</th>\n",
       "      <th>5</th>\n",
       "      <th>6</th>\n",
       "    </tr>\n",
       "  </thead>\n",
       "  <tbody>\n",
       "    <tr>\n",
       "      <th>0</th>\n",
       "      <td>22.024</td>\n",
       "      <td>1.478</td>\n",
       "      <td>0.346</td>\n",
       "      <td>2</td>\n",
       "      <td>0.3</td>\n",
       "      <td>0.7</td>\n",
       "      <td>1</td>\n",
       "    </tr>\n",
       "    <tr>\n",
       "      <th>1</th>\n",
       "      <td>24.812</td>\n",
       "      <td>2.287</td>\n",
       "      <td>0.501</td>\n",
       "      <td>2</td>\n",
       "      <td>0.3</td>\n",
       "      <td>0.7</td>\n",
       "      <td>0</td>\n",
       "    </tr>\n",
       "  </tbody>\n",
       "</table>\n",
       "</div>"
      ],
      "text/plain": [
       "        0      1      2  3    4    5  6\n",
       "0  22.024  1.478  0.346  2  0.3  0.7  1\n",
       "1  24.812  2.287  0.501  2  0.3  0.7  0"
      ]
     },
     "execution_count": 5,
     "metadata": {},
     "output_type": "execute_result"
    }
   ],
   "source": [
    "df7030.head(2)"
   ]
  },
  {
   "cell_type": "code",
   "execution_count": 6,
   "metadata": {
    "collapsed": false
   },
   "outputs": [],
   "source": [
    "#change column names\n",
    "df7030.columns = ['decision poke time(s)', 'time since last trial(s)',\"time between trial initiation and decision(s)\",\"port(1=R,2=L)\",\"right port reward probability\",\"left port reward probability\",\"reward given yes=1,no=0\"]\n",
    "df9010.columns = ['decision poke time(s)', 'time since last trial(s)',\"time between trial initiation and decision(s)\",\"port(1=R,2=L)\",\"right port reward probability\",\"left port reward probability\",\"reward given yes=1,no=0\"]"
   ]
  },
  {
   "cell_type": "code",
   "execution_count": 65,
   "metadata": {
    "collapsed": false
   },
   "outputs": [
    {
     "data": {
      "text/html": [
       "<div>\n",
       "<table border=\"1\" class=\"dataframe\">\n",
       "  <thead>\n",
       "    <tr style=\"text-align: right;\">\n",
       "      <th></th>\n",
       "      <th>decision poke time(s)</th>\n",
       "      <th>time since last trial(s)</th>\n",
       "      <th>time between trial initiation and decision(s)</th>\n",
       "      <th>port(1=R,2=L)</th>\n",
       "      <th>right port reward probability</th>\n",
       "      <th>left port reward probability</th>\n",
       "      <th>reward given yes=1,no=0</th>\n",
       "    </tr>\n",
       "  </thead>\n",
       "  <tbody>\n",
       "    <tr>\n",
       "      <th>0</th>\n",
       "      <td>22.024</td>\n",
       "      <td>1.478</td>\n",
       "      <td>0.346</td>\n",
       "      <td>2</td>\n",
       "      <td>0.3</td>\n",
       "      <td>0.7</td>\n",
       "      <td>1</td>\n",
       "    </tr>\n",
       "    <tr>\n",
       "      <th>1</th>\n",
       "      <td>24.812</td>\n",
       "      <td>2.287</td>\n",
       "      <td>0.501</td>\n",
       "      <td>2</td>\n",
       "      <td>0.3</td>\n",
       "      <td>0.7</td>\n",
       "      <td>0</td>\n",
       "    </tr>\n",
       "    <tr>\n",
       "      <th>2</th>\n",
       "      <td>31.390</td>\n",
       "      <td>5.923</td>\n",
       "      <td>0.655</td>\n",
       "      <td>2</td>\n",
       "      <td>0.3</td>\n",
       "      <td>0.7</td>\n",
       "      <td>1</td>\n",
       "    </tr>\n",
       "    <tr>\n",
       "      <th>3</th>\n",
       "      <td>33.180</td>\n",
       "      <td>1.441</td>\n",
       "      <td>0.349</td>\n",
       "      <td>2</td>\n",
       "      <td>0.3</td>\n",
       "      <td>0.7</td>\n",
       "      <td>0</td>\n",
       "    </tr>\n",
       "    <tr>\n",
       "      <th>4</th>\n",
       "      <td>35.288</td>\n",
       "      <td>1.670</td>\n",
       "      <td>0.438</td>\n",
       "      <td>1</td>\n",
       "      <td>0.3</td>\n",
       "      <td>0.7</td>\n",
       "      <td>0</td>\n",
       "    </tr>\n",
       "    <tr>\n",
       "      <th>5</th>\n",
       "      <td>38.371</td>\n",
       "      <td>1.874</td>\n",
       "      <td>0.323</td>\n",
       "      <td>2</td>\n",
       "      <td>0.3</td>\n",
       "      <td>0.7</td>\n",
       "      <td>1</td>\n",
       "    </tr>\n",
       "    <tr>\n",
       "      <th>6</th>\n",
       "      <td>40.862</td>\n",
       "      <td>2.184</td>\n",
       "      <td>0.307</td>\n",
       "      <td>2</td>\n",
       "      <td>0.3</td>\n",
       "      <td>0.7</td>\n",
       "      <td>1</td>\n",
       "    </tr>\n",
       "    <tr>\n",
       "      <th>7</th>\n",
       "      <td>43.383</td>\n",
       "      <td>2.248</td>\n",
       "      <td>0.273</td>\n",
       "      <td>2</td>\n",
       "      <td>0.3</td>\n",
       "      <td>0.7</td>\n",
       "      <td>1</td>\n",
       "    </tr>\n",
       "    <tr>\n",
       "      <th>8</th>\n",
       "      <td>47.129</td>\n",
       "      <td>3.422</td>\n",
       "      <td>0.324</td>\n",
       "      <td>2</td>\n",
       "      <td>0.3</td>\n",
       "      <td>0.7</td>\n",
       "      <td>1</td>\n",
       "    </tr>\n",
       "    <tr>\n",
       "      <th>9</th>\n",
       "      <td>50.002</td>\n",
       "      <td>2.610</td>\n",
       "      <td>0.263</td>\n",
       "      <td>2</td>\n",
       "      <td>0.3</td>\n",
       "      <td>0.7</td>\n",
       "      <td>0</td>\n",
       "    </tr>\n",
       "  </tbody>\n",
       "</table>\n",
       "</div>"
      ],
      "text/plain": [
       "   decision poke time(s)  time since last trial(s)  \\\n",
       "0                 22.024                     1.478   \n",
       "1                 24.812                     2.287   \n",
       "2                 31.390                     5.923   \n",
       "3                 33.180                     1.441   \n",
       "4                 35.288                     1.670   \n",
       "5                 38.371                     1.874   \n",
       "6                 40.862                     2.184   \n",
       "7                 43.383                     2.248   \n",
       "8                 47.129                     3.422   \n",
       "9                 50.002                     2.610   \n",
       "\n",
       "   time between trial initiation and decision(s)  port(1=R,2=L)  \\\n",
       "0                                          0.346              2   \n",
       "1                                          0.501              2   \n",
       "2                                          0.655              2   \n",
       "3                                          0.349              2   \n",
       "4                                          0.438              1   \n",
       "5                                          0.323              2   \n",
       "6                                          0.307              2   \n",
       "7                                          0.273              2   \n",
       "8                                          0.324              2   \n",
       "9                                          0.263              2   \n",
       "\n",
       "   right port reward probability  left port reward probability  \\\n",
       "0                            0.3                           0.7   \n",
       "1                            0.3                           0.7   \n",
       "2                            0.3                           0.7   \n",
       "3                            0.3                           0.7   \n",
       "4                            0.3                           0.7   \n",
       "5                            0.3                           0.7   \n",
       "6                            0.3                           0.7   \n",
       "7                            0.3                           0.7   \n",
       "8                            0.3                           0.7   \n",
       "9                            0.3                           0.7   \n",
       "\n",
       "   reward given yes=1,no=0  \n",
       "0                        1  \n",
       "1                        0  \n",
       "2                        1  \n",
       "3                        0  \n",
       "4                        0  \n",
       "5                        1  \n",
       "6                        1  \n",
       "7                        1  \n",
       "8                        1  \n",
       "9                        0  "
      ]
     },
     "execution_count": 65,
     "metadata": {},
     "output_type": "execute_result"
    }
   ],
   "source": [
    "df7030.head(10)"
   ]
  },
  {
   "cell_type": "code",
   "execution_count": 8,
   "metadata": {
    "collapsed": false
   },
   "outputs": [
    {
     "data": {
      "text/html": [
       "<div>\n",
       "<table border=\"1\" class=\"dataframe\">\n",
       "  <thead>\n",
       "    <tr style=\"text-align: right;\">\n",
       "      <th></th>\n",
       "      <th>decision poke time(s)</th>\n",
       "      <th>time since last trial(s)</th>\n",
       "      <th>time between trial initiation and decision(s)</th>\n",
       "      <th>port(1=R,2=L)</th>\n",
       "      <th>right port reward probability</th>\n",
       "      <th>left port reward probability</th>\n",
       "      <th>reward given yes=1,no=0</th>\n",
       "    </tr>\n",
       "  </thead>\n",
       "  <tbody>\n",
       "    <tr>\n",
       "      <th>0</th>\n",
       "      <td>0.891</td>\n",
       "      <td>0.000</td>\n",
       "      <td>0.891</td>\n",
       "      <td>1</td>\n",
       "      <td>0.9</td>\n",
       "      <td>0.1</td>\n",
       "      <td>1</td>\n",
       "    </tr>\n",
       "    <tr>\n",
       "      <th>1</th>\n",
       "      <td>6.640</td>\n",
       "      <td>1.523</td>\n",
       "      <td>0.540</td>\n",
       "      <td>1</td>\n",
       "      <td>0.9</td>\n",
       "      <td>0.1</td>\n",
       "      <td>1</td>\n",
       "    </tr>\n",
       "  </tbody>\n",
       "</table>\n",
       "</div>"
      ],
      "text/plain": [
       "   decision poke time(s)  time since last trial(s)  \\\n",
       "0                  0.891                     0.000   \n",
       "1                  6.640                     1.523   \n",
       "\n",
       "   time between trial initiation and decision(s)  port(1=R,2=L)  \\\n",
       "0                                          0.891              1   \n",
       "1                                          0.540              1   \n",
       "\n",
       "   right port reward probability  left port reward probability  \\\n",
       "0                            0.9                           0.1   \n",
       "1                            0.9                           0.1   \n",
       "\n",
       "   reward given yes=1,no=0  \n",
       "0                        1  \n",
       "1                        1  "
      ]
     },
     "execution_count": 8,
     "metadata": {},
     "output_type": "execute_result"
    }
   ],
   "source": [
    "df9010.head(2)"
   ]
  },
  {
   "cell_type": "code",
   "execution_count": 17,
   "metadata": {
    "collapsed": false
   },
   "outputs": [
    {
     "data": {
      "image/png": "[encoded data removed]",
      "text/plain": [
       "<matplotlib.figure.Figure at 0x1198e6b10>"
      ]
     },
     "metadata": {},
     "output_type": "display_data"
    }
   ],
   "source": [
    "plt.figure(figsize=(15,8))\n",
    "plt.hist(df7030.iloc [:][\"time since last trial(s)\"], 200, facecolor='black', alpha=0.3,label='70-30 condition')\n",
    "plt.hist(df9010.iloc [:][\"time since last trial(s)\"], 200, facecolor='blue', alpha=0.3,label='90-10 condition')\n",
    "plt.xlabel('Time (s)',fontsize=20)\n",
    "plt.ylabel('count',fontsize=20)\n",
    "plt.title('time since last trial (s)',fontsize=20)\n",
    "plt.axis([0,10,0,140]) #[xmin, xmax, ymin, ymax]\n",
    "plt.xticks(fontsize=18)\n",
    "plt.yticks(fontsize=18)\n",
    "plt.legend(loc='upper right',fontsize=18)\n",
    "plt.grid(True)\n",
    "plt.show()"
   ]
  },
  {
   "cell_type": "code",
   "execution_count": 19,
   "metadata": {
    "collapsed": false
   },
   "outputs": [
    {
     "data": {
      "image/png": "[encoded data removed]",
      "text/plain": [
       "<matplotlib.figure.Figure at 0x11bf9a050>"
      ]
     },
     "metadata": {},
     "output_type": "display_data"
    }
   ],
   "source": [
    "plt.figure(figsize=(15,8))\n",
    "plt.hist(df7030.iloc [:][\"time between trial initiation and decision(s)\"], 50, facecolor='black', alpha=0.3,label='70-30 condition')\n",
    "plt.hist(df9010.iloc [:][\"time between trial initiation and decision(s)\"], 50, facecolor='blue', alpha=0.3,label='90-10 condition')\n",
    "plt.xlabel('Time (s)',fontsize=20)\n",
    "plt.ylabel('count',fontsize=20)\n",
    "plt.title('time between trial initiation and decision poke (s)',fontsize=20)\n",
    "plt.xticks(fontsize=18)\n",
    "plt.yticks(fontsize=18)\n",
    "plt.legend(loc='upper right',fontsize=18)\n",
    "plt.grid(True)\n",
    "plt.show()"
   ]
  },
  {
   "cell_type": "code",
   "execution_count": 38,
   "metadata": {
    "collapsed": false
   },
   "outputs": [
    {
     "data": {
      "text/plain": [
       "2.0"
      ]
     },
     "execution_count": 38,
     "metadata": {},
     "output_type": "execute_result"
    }
   ],
   "source": [
    "port = \"port(1=R,2=L)\"\n",
    "a = (df7030.iloc[1][port])\n",
    "a\n",
    "n = df.shape[1]"
   ]
  },
  {
   "cell_type": "code",
   "execution_count": 93,
   "metadata": {
    "collapsed": false
   },
   "outputs": [],
   "source": [
    "from __future__ import division\n",
    "\n",
    "def acc (df):\n",
    "    \n",
    "    c = 0 #define a counter  \n",
    "    n = df.shape[0] #number of trials in the session \n",
    "    port = \"port(1=R,2=L)\" #the column of interest \n",
    "    right = \"right port reward probability\" #the column of interest \n",
    "    left = \"left port reward probability\" #the column of interest \n",
    "    \n",
    "    for i in range (0,n): \n",
    "        \n",
    "        if (df.iloc[i][port] == 1) & (df.iloc[i][right] >  df.iloc[i][left]): \n",
    "            #if he goes to the right (1) and the p is high in the right port\n",
    "            c = c+1  \n",
    "            \n",
    "            \n",
    "        elif (df.iloc[i][port] == 2) & (df.iloc[i][right] <  df.iloc[i][left]):\n",
    "            #if he goes to the left (2) and the p is high in the left port\n",
    "            c = c+1  \n",
    "           \n",
    "    print c  \n",
    "    \n",
    "    \n",
    "    acc = 100*(c)/n #calc percent \n",
    " \n",
    "    return(acc)\n"
   ]
  },
  {
   "cell_type": "code",
   "execution_count": 94,
   "metadata": {
    "collapsed": false
   },
   "outputs": [
    {
     "name": "stdout",
     "output_type": "stream",
     "text": [
      "435\n"
     ]
    },
    {
     "data": {
      "text/plain": [
       "89.69072164948453"
      ]
     },
     "execution_count": 94,
     "metadata": {},
     "output_type": "execute_result"
    }
   ],
   "source": [
    "acc (df9010)"
   ]
  },
  {
   "cell_type": "code",
   "execution_count": 95,
   "metadata": {
    "collapsed": false
   },
   "outputs": [
    {
     "name": "stdout",
     "output_type": "stream",
     "text": [
      "444\n"
     ]
    },
    {
     "data": {
      "text/plain": [
       "78.3068783068783"
      ]
     },
     "execution_count": 95,
     "metadata": {},
     "output_type": "execute_result"
    }
   ],
   "source": [
    "acc (df7030)"
   ]
  },
  {
   "cell_type": "code",
   "execution_count": 108,
   "metadata": {
    "collapsed": false
   },
   "outputs": [
    {
     "data": {
      "text/plain": [
       "<function matplotlib.pyplot.show>"
      ]
     },
     "execution_count": 108,
     "metadata": {},
     "output_type": "execute_result"
    },
    {
     "data": {
      "image/png": "[encoded data removed]",
      "text/plain": [
       "<matplotlib.figure.Figure at 0x11c468cd0>"
      ]
     },
     "metadata": {},
     "output_type": "display_data"
    }
   ],
   "source": [
    "plt.figure(figsize=(15,8))\n",
    "\n",
    "plt.bar((1,2), (\"78.3068783068783\",\"89.69072164948453\") , width = 0.5, color=(\"black\",\"blue\"), align='center', alpha=0.3)\n",
    "\n",
    "plt.xticks((1,2), ('70-30 condition','90-10 condition'),fontsize=18 )\n",
    "\n",
    "plt.yticks(fontsize=18)\n",
    "plt.ylim(0,100)\n",
    "\n",
    "\n",
    "plt.ylabel('accuracy(%)',fontsize=18)\n",
    "plt.title(\"animal performance\", fontsize=18)\n",
    "\n",
    "plt.show"
   ]
  },
  {
   "cell_type": "code",
   "execution_count": null,
   "metadata": {
    "collapsed": true
   },
   "outputs": [],
   "source": []
  }
 ],
 "metadata": {
  "anaconda-cloud": {},
  "kernelspec": {
   "display_name": "Python [Root]",
   "language": "python",
   "name": "Python [Root]"
  },
  "language_info": {
   "codemirror_mode": {
    "name": "ipython",
    "version": 2
   },
   "file_extension": ".py",
   "mimetype": "text/x-python",
   "name": "python",
   "nbconvert_exporter": "python",
   "pygments_lexer": "ipython2",
   "version": "2.7.12"
  }
 },
 "nbformat": 4,
 "nbformat_minor": 0
}

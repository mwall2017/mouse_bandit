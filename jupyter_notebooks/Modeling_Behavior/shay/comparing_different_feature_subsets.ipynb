{
 "cells": [
  {
   "cell_type": "code",
   "execution_count": 1,
   "metadata": {
    "collapsed": false
   },
   "outputs": [],
   "source": [
    "import sys\n",
    "sys.path.append('/Users/shayneufeld/GitHub/mouse_bandit/data_preprocessing_code')\n",
    "sys.path.append('/Users/shayneufeld/GitHub/mouse_bandit')\n",
    "import support_functions as sf\n",
    "import numpy as np\n",
    "import matplotlib.pyplot as plt\n",
    "import seaborn as sns\n",
    "import pandas as pd\n",
    "import scipy as sp\n",
    "import bandit_preprocessing as bp\n",
    "import sklearn.linear_model\n",
    "from sklearn import discriminant_analysis\n",
    "from sklearn import cross_validation\n",
    "from sklearn import tree as Tree\n",
    "import sklearn.tree\n",
    "%matplotlib inline "
   ]
  },
  {
   "cell_type": "code",
   "execution_count": 2,
   "metadata": {
    "collapsed": false
   },
   "outputs": [
    {
     "data": {
      "text/html": [
       "<script>\n",
       "code_show=true; \n",
       "function code_toggle() {\n",
       " if (code_show){\n",
       " $('div.input').hide();\n",
       " } else {\n",
       " $('div.input').show();\n",
       " }\n",
       " code_show = !code_show\n",
       "} \n",
       "$( document ).ready(code_toggle);\n",
       "</script>\n",
       "<form action=\"javascript:code_toggle()\"><input type=\"submit\" value=\"Click here to toggle on/off the raw code.\"></form>"
      ],
      "text/plain": [
       "<IPython.core.display.HTML object>"
      ]
     },
     "execution_count": 2,
     "metadata": {},
     "output_type": "execute_result"
    }
   ],
   "source": [
    "from IPython.display import HTML\n",
    "\n",
    "HTML('''<script>\n",
    "code_show=true; \n",
    "function code_toggle() {\n",
    " if (code_show){\n",
    " $('div.input').hide();\n",
    " } else {\n",
    " $('div.input').show();\n",
    " }\n",
    " code_show = !code_show\n",
    "} \n",
    "$( document ).ready(code_toggle);\n",
    "</script>\n",
    "<form action=\"javascript:code_toggle()\"><input type=\"submit\" value=\"Click here to toggle on/off the raw code.\"></form>''')"
   ]
  },
  {
   "cell_type": "markdown",
   "metadata": {},
   "source": [
    "## Load in data"
   ]
  },
  {
   "cell_type": "code",
   "execution_count": 3,
   "metadata": {
    "collapsed": false
   },
   "outputs": [],
   "source": [
    "data = pd.read_csv('/Users/shayneufeld/GitHub/mouse_bandit/data/80_20_processed_data/master_8020_df.csv',index_col=0)"
   ]
  },
  {
   "cell_type": "code",
   "execution_count": 4,
   "metadata": {
    "collapsed": false,
    "scrolled": false
   },
   "outputs": [
    {
     "data": {
      "text/plain": [
       "Previous_10_Left_Choice     10.000\n",
       "Previous_10_Right_Choice     0.000\n",
       "Previous_10_Left_Reward      8.000\n",
       "Previous_10_Right_Reward     0.000\n",
       "Streak                      -1.000\n",
       "5_Port                       1.000\n",
       "5_Reward                     0.000\n",
       "5_ITI                        3.286\n",
       "5_trialDuration              0.407\n",
       "4_Port                       1.000\n",
       "4_Reward                     1.000\n",
       "4_ITI                        2.405\n",
       "4_trialDuration              0.463\n",
       "3_Port                       1.000\n",
       "3_Reward                     1.000\n",
       "3_ITI                        2.379\n",
       "3_trialDuration              0.367\n",
       "2_Port                       1.000\n",
       "2_Reward                     1.000\n",
       "2_ITI                        2.234\n",
       "2_trialDuration              0.325\n",
       "1_Port                       1.000\n",
       "1_Reward                     0.000\n",
       "1_ITI                        2.133\n",
       "1_trialDuration              0.482\n",
       "0_ITI                        1.411\n",
       "0_trialDuration              0.435\n",
       "Decision                     1.000\n",
       "Name: 0, dtype: float64"
      ]
     },
     "execution_count": 4,
     "metadata": {},
     "output_type": "execute_result"
    }
   ],
   "source": [
    "data.iloc[0,:]"
   ]
  },
  {
   "cell_type": "markdown",
   "metadata": {},
   "source": [
    "## Set the 'outcome' features, 'timing' features, and get the column indices for both"
   ]
  },
  {
   "cell_type": "code",
   "execution_count": 5,
   "metadata": {
    "collapsed": true
   },
   "outputs": [],
   "source": [
    "outcome_features = ['Streak','5_Reward','4_Reward','3_Reward','2_Reward','1_Reward']\n",
    "timing_features = ['5_ITI','5_trialDuration','4_ITI','4_trialDuration','3_ITI','3_trialDuration',\n",
    "                   '2_ITI','2_trialDuration','1_ITI','1_trialDuration']"
   ]
  },
  {
   "cell_type": "code",
   "execution_count": 6,
   "metadata": {
    "collapsed": false
   },
   "outputs": [],
   "source": [
    "#get column indices (so we can index from the numpy arrays)\n",
    "outcome_inds = []\n",
    "timing_inds = []\n",
    "for f in outcome_features:\n",
    "    outcome_inds.append(data.columns.get_loc(f))\n",
    "    \n",
    "for f in timing_features:\n",
    "    timing_inds.append(data.columns.get_loc(f))"
   ]
  },
  {
   "cell_type": "markdown",
   "metadata": {},
   "source": [
    "## Extract 'x' and 'y'"
   ]
  },
  {
   "cell_type": "code",
   "execution_count": 7,
   "metadata": {
    "collapsed": true
   },
   "outputs": [],
   "source": [
    "#extract features and decisions\n",
    "x = data.iloc[:,:-1].values\n",
    "y = data.iloc[:,-1].values"
   ]
  },
  {
   "cell_type": "markdown",
   "metadata": {},
   "source": [
    "# Change 'y' so that 1 corresponds to a switch, and 0 corresponds to no switch"
   ]
  },
  {
   "cell_type": "code",
   "execution_count": 8,
   "metadata": {
    "collapsed": false
   },
   "outputs": [
    {
     "name": "stdout",
     "output_type": "stream",
     "text": [
      "(11325, 27)\n",
      "(11325,)\n"
     ]
    }
   ],
   "source": [
    "y_diff = np.diff(y)\n",
    "x = x[1:,:]\n",
    "y = np.abs(y_diff.copy())\n",
    "\n",
    "print(x.shape)\n",
    "print(y_diff.shape)"
   ]
  },
  {
   "cell_type": "code",
   "execution_count": 9,
   "metadata": {
    "collapsed": false
   },
   "outputs": [],
   "source": [
    "#split into training and testing\n",
    "n_trials = x.shape[0]\n",
    "shuf_inds = np.random.permutation(n_trials)\n",
    "split_ind = int(n_trials*0.7)\n",
    "\n",
    "x_train = x[shuf_inds[:split_ind],:]\n",
    "y_train = y[shuf_inds[:split_ind]]\n",
    "\n",
    "x_test = x[shuf_inds[split_ind:],:]\n",
    "y_test = y[shuf_inds[split_ind:]]"
   ]
  },
  {
   "cell_type": "code",
   "execution_count": 10,
   "metadata": {
    "collapsed": false
   },
   "outputs": [
    {
     "name": "stdout",
     "output_type": "stream",
     "text": [
      "# train trials: 7927 | # switches: 661 --> 8.3 percent\n",
      "# test trials: 3398 | # switches: 236 --> 6.9 percent\n"
     ]
    }
   ],
   "source": [
    "print('# train trials: %.0f | # switches: %.0f --> %.01f percent' % (y_train.shape[0],np.sum(y_train),np.sum(y_train)*100.0/y_train.shape[0]))\n",
    "print('# test trials: %.0f | # switches: %.0f --> %.01f percent' % (y_test.shape[0],np.sum(y_test),np.sum(y_test)*100.0/y_test.shape[0]))"
   ]
  },
  {
   "cell_type": "markdown",
   "metadata": {},
   "source": [
    "# LDA with priors tuned in ```predict_switches```"
   ]
  },
  {
   "cell_type": "code",
   "execution_count": 11,
   "metadata": {
    "collapsed": false
   },
   "outputs": [
    {
     "name": "stderr",
     "output_type": "stream",
     "text": [
      "//anaconda/envs/ac209/lib/python2.7/site-packages/sklearn/discriminant_analysis.py:387: UserWarning: Variables are collinear.\n",
      "  warnings.warn(\"Variables are collinear.\")\n"
     ]
    }
   ],
   "source": [
    "'''\n",
    "LDA\n",
    "'''\n",
    "lda_outcome = discriminant_analysis.LinearDiscriminantAnalysis(priors = [0.4,0.6])\n",
    "lda_timing = discriminant_analysis.LinearDiscriminantAnalysis(priors = [0.4,0.6])\n",
    "lda_both = discriminant_analysis.LinearDiscriminantAnalysis(priors = [0.4,0.6])\n",
    "\n",
    "lda_outcome.fit(x_train[:,outcome_inds],y_train)\n",
    "lda_timing.fit(x_train[:,timing_inds],y_train)\n",
    "lda_both.fit(x_train,y_train)\n",
    "\n",
    "y_pred_outcome = lda_outcome.predict(x_test[:,outcome_inds])\n",
    "y_pred_timing = lda_timing.predict(x_test[:,timing_inds])\n",
    "y_pred_both = lda_both.predict(x_test)"
   ]
  },
  {
   "cell_type": "code",
   "execution_count": 12,
   "metadata": {
    "collapsed": false
   },
   "outputs": [
    {
     "name": "stdout",
     "output_type": "stream",
     "text": [
      "Outcome features:\n",
      "          Predicted NO  Predicted YES\n",
      "True NO         2416.0          746.0\n",
      "True YES          24.0          212.0\n",
      "\n",
      "F1: 0.355\n",
      "\n",
      "Accuracy on class 0: 0.76\n",
      "Accuracy on class 1: 0.90\n",
      "\n",
      "Timing features:\n",
      "          Predicted NO  Predicted YES\n",
      "True NO          649.0         2513.0\n",
      "True YES          21.0          215.0\n",
      "\n",
      "F1: 0.145\n",
      "\n",
      "Accuracy on class 0: 0.21\n",
      "Accuracy on class 1: 0.91\n",
      "\n",
      "All features:\n",
      "          Predicted NO  Predicted YES\n",
      "True NO         2473.0          689.0\n",
      "True YES          21.0          215.0\n",
      "\n",
      "F1: 0.377\n",
      "\n",
      "Accuracy on class 0: 0.78\n",
      "Accuracy on class 1: 0.91\n",
      "\n"
     ]
    }
   ],
   "source": [
    "print('Outcome features:')\n",
    "acc_pos,acc_neg,F1=sf.score_both_and_confuse(y_pred_outcome,y_test,disp=True,confusion=False)\n",
    "\n",
    "print('Timing features:')\n",
    "acc_pos,acc_neg,F1=sf.score_both_and_confuse(y_pred_timing,y_test,disp=True,confusion=False)\n",
    "\n",
    "print('All features:')\n",
    "acc_pos,acc_neg,F1=sf.score_both_and_confuse(y_pred_both,y_test,disp=True,confusion=False)"
   ]
  },
  {
   "cell_type": "markdown",
   "metadata": {},
   "source": [
    "That's interesting. It's as if, with only the timing features, maybe the prior tuning is actually off (since the accuracy on the two classes are very different!). \n",
    "\n",
    "### What if we parameter tune using only the timing features:"
   ]
  },
  {
   "cell_type": "code",
   "execution_count": 13,
   "metadata": {
    "collapsed": false
   },
   "outputs": [],
   "source": [
    "# set x_train to only include the timing features\n",
    "x_train_t = x_train[:,timing_inds]\n",
    "\n",
    "'''\n",
    "LDA\n",
    "'''\n",
    "P = np.arange(0,1,0.01)\n",
    "\n",
    "acc_cv = []\n",
    "\n",
    "for i,p in enumerate(P):\n",
    "    prior = np.array([1.0-p,p])\n",
    "    lda = discriminant_analysis.LinearDiscriminantAnalysis(priors = prior)\n",
    "    \n",
    "    kf = cross_validation.KFold(x_train.shape[0],n_folds=3)\n",
    "    cum_acc_pos = 0\n",
    "    cum_acc_neg = 0\n",
    "    \n",
    "    for train_index,test_index in kf:\n",
    "        x_train_cv = x_train_t[train_index,:]\n",
    "        y_train_cv = y_train[train_index]\n",
    "        x_test_cv = x_train_t[test_index,:]\n",
    "        y_test_cv = y_train[test_index]\n",
    "\n",
    "        lda.fit(x_train_cv,y_train_cv)\n",
    "        y_predict = lda.predict(x_test_cv)\n",
    "        \n",
    "        acc_pos,acc_neg,F1 = sf.score_both_and_confuse(y_predict,y_test_cv,confusion=False,disp=False)\n",
    "        \n",
    "        cum_acc_pos += acc_pos\n",
    "        cum_acc_neg += acc_neg\n",
    "\n",
    "    acc_cv.append([cum_acc_pos / 3.0,cum_acc_neg / 3.0])\n",
    "\n",
    "acc_cv = np.asarray(acc_cv)"
   ]
  },
  {
   "cell_type": "code",
   "execution_count": 14,
   "metadata": {
    "collapsed": false,
    "scrolled": false
   },
   "outputs": [
    {
     "data": {
      "text/plain": [
       "<matplotlib.text.Text at 0x10fed0890>"
      ]
     },
     "execution_count": 14,
     "metadata": {},
     "output_type": "execute_result"
    },
    {
     "data": {
      "image/png": "[encoded data removed]",
      "text/plain": [
       "<matplotlib.figure.Figure at 0x10fafbe10>"
      ]
     },
     "metadata": {},
     "output_type": "display_data"
    }
   ],
   "source": [
    "plt.figure(figsize=(10,4))\n",
    "plt.plot(P,acc_cv[:,0],color='purple',label='switching accuracy')\n",
    "plt.plot(P,acc_cv[:,1],color='black',label='staying accuracy')\n",
    "plt.hlines(y=0.5,xmin=0,xmax=1,color='black',alpha=0.7,linestyle='dotted')\n",
    "plt.legend(loc='lower right',bbox_to_anchor=[1,0])\n",
    "plt.xlim(0,1)\n",
    "plt.xlabel('Prior on switching')\n",
    "plt.ylabel('Model accuracy')\n",
    "plt.title('LDA with only timing features')"
   ]
  },
  {
   "cell_type": "markdown",
   "metadata": {},
   "source": [
    "This seems to do quite worse than the model that included all features. So maybe previous reward outcome is (like we would expect) what is important! Let's tune again for just the outcome featuers:\n",
    "\n",
    "### Tuning with only outcome features"
   ]
  },
  {
   "cell_type": "code",
   "execution_count": 15,
   "metadata": {
    "collapsed": true
   },
   "outputs": [],
   "source": [
    "# set x_train to only include the timing features\n",
    "x_train_o = x_train[:,outcome_inds]\n",
    "\n",
    "'''\n",
    "LDA\n",
    "'''\n",
    "P = np.arange(0,1,0.01)\n",
    "\n",
    "acc_cv = []\n",
    "\n",
    "for i,p in enumerate(P):\n",
    "    prior = np.array([1.0-p,p])\n",
    "    lda = discriminant_analysis.LinearDiscriminantAnalysis(priors = prior)\n",
    "    \n",
    "    kf = cross_validation.KFold(x_train.shape[0],n_folds=3)\n",
    "    cum_acc_pos = 0\n",
    "    cum_acc_neg = 0\n",
    "    \n",
    "    for train_index,test_index in kf:\n",
    "        x_train_cv = x_train_o[train_index,:]\n",
    "        y_train_cv = y_train[train_index]\n",
    "        x_test_cv = x_train_o[test_index,:]\n",
    "        y_test_cv = y_train[test_index]\n",
    "\n",
    "        lda.fit(x_train_cv,y_train_cv)\n",
    "        y_predict = lda.predict(x_test_cv)\n",
    "        \n",
    "        acc_pos,acc_neg,F1 = sf.score_both_and_confuse(y_predict,y_test_cv,confusion=False,disp=False)\n",
    "        \n",
    "        cum_acc_pos += acc_pos\n",
    "        cum_acc_neg += acc_neg\n",
    "\n",
    "    acc_cv.append([cum_acc_pos / 3.0,cum_acc_neg / 3.0])\n",
    "\n",
    "acc_cv = np.asarray(acc_cv)"
   ]
  },
  {
   "cell_type": "code",
   "execution_count": 16,
   "metadata": {
    "collapsed": false
   },
   "outputs": [
    {
     "data": {
      "text/plain": [
       "<matplotlib.text.Text at 0x1135e7910>"
      ]
     },
     "execution_count": 16,
     "metadata": {},
     "output_type": "execute_result"
    },
    {
     "data": {
      "image/png": "[encoded data removed]",
      "text/plain": [
       "<matplotlib.figure.Figure at 0x10fb1cb90>"
      ]
     },
     "metadata": {},
     "output_type": "display_data"
    }
   ],
   "source": [
    "plt.figure(figsize=(10,4))\n",
    "plt.plot(P,acc_cv[:,0],color='purple',label='switching accuracy')\n",
    "plt.plot(P,acc_cv[:,1],color='black',label='staying accuracy')\n",
    "plt.hlines(y=0.5,xmin=0,xmax=1,color='black',alpha=0.7,linestyle='dotted')\n",
    "plt.legend(loc='lower right',bbox_to_anchor=[1,0])\n",
    "plt.xlim(0,1)\n",
    "plt.xlabel('Prior on switching')\n",
    "plt.ylabel('Model accuracy')\n",
    "plt.title('LDA with only outcome features')"
   ]
  },
  {
   "cell_type": "markdown",
   "metadata": {},
   "source": [
    "## Compare the outcome and timing models:"
   ]
  },
  {
   "cell_type": "code",
   "execution_count": 28,
   "metadata": {
    "collapsed": false,
    "scrolled": true
   },
   "outputs": [
    {
     "name": "stdout",
     "output_type": "stream",
     "text": [
      "          Predicted NO  Predicted YES\n",
      "True NO         2619.0          543.0\n",
      "True YES          47.0          189.0\n",
      "\n",
      "F1: 0.390\n",
      "\n",
      "Accuracy on class 0: 0.83\n",
      "Accuracy on class 1: 0.80\n",
      "\n"
     ]
    }
   ],
   "source": [
    "x_test_o = x_test[:,outcome_inds]\n",
    "best_lda_outcome = discriminant_analysis.LinearDiscriminantAnalysis(priors=[0.65,0.35])\n",
    "best_lda_outcome.fit(x_train_o,y_train)\n",
    "y_predict = best_lda_outcome.predict(x_test_o)\n",
    "acc_pos,acc_neg,F1=sf.score_both_and_confuse(y_predict,y_test,disp=True,confusion=False)\n"
   ]
  },
  {
   "cell_type": "code",
   "execution_count": 29,
   "metadata": {
    "collapsed": false,
    "scrolled": false
   },
   "outputs": [
    {
     "data": {
      "text/plain": [
       "<matplotlib.text.Text at 0x116b94d10>"
      ]
     },
     "execution_count": 29,
     "metadata": {},
     "output_type": "execute_result"
    },
    {
     "data": {
      "image/png": "[encoded data removed]",
      "text/plain": [
       "<matplotlib.figure.Figure at 0x113a8fb10>"
      ]
     },
     "metadata": {},
     "output_type": "display_data"
    }
   ],
   "source": [
    "coefs = best_lda_outcome.coef_\n",
    "plt.figure(figsize=(10,5))\n",
    "plt.scatter(np.arange(coefs[0].shape[0]),coefs[0],color='purple')\n",
    "plt.xticks(np.arange(coefs[0].shape[0]),outcome_features,rotation='vertical')\n",
    "plt.ylabel('beta value')\n",
    "plt.xlabel('Feature number')\n",
    "plt.title('Betas for outcome model')"
   ]
  },
  {
   "cell_type": "code",
   "execution_count": 30,
   "metadata": {
    "collapsed": false,
    "scrolled": true
   },
   "outputs": [
    {
     "name": "stdout",
     "output_type": "stream",
     "text": [
      "          Predicted NO  Predicted YES\n",
      "True NO         1826.0         1336.0\n",
      "True YES          82.0          154.0\n",
      "\n",
      "F1: 0.178\n",
      "\n",
      "Accuracy on class 0: 0.58\n",
      "Accuracy on class 1: 0.65\n",
      "\n"
     ]
    }
   ],
   "source": [
    "x_test_t = x_test[:,timing_inds]\n",
    "best_lda_timing = discriminant_analysis.LinearDiscriminantAnalysis(priors=[0.48,0.52])\n",
    "best_lda_timing.fit(x_train_t,y_train)\n",
    "y_predict = best_lda_timing.predict(x_test_t)\n",
    "acc_pos,acc_neg,F1=sf.score_both_and_confuse(y_predict,y_test,disp=True,confusion=False)\n"
   ]
  },
  {
   "cell_type": "code",
   "execution_count": 31,
   "metadata": {
    "collapsed": false,
    "scrolled": false
   },
   "outputs": [
    {
     "data": {
      "text/plain": [
       "<matplotlib.text.Text at 0x1109e5c50>"
      ]
     },
     "execution_count": 31,
     "metadata": {},
     "output_type": "execute_result"
    },
    {
     "data": {
      "image/png": "[encoded data removed]",
      "text/plain": [
       "<matplotlib.figure.Figure at 0x116b83290>"
      ]
     },
     "metadata": {},
     "output_type": "display_data"
    }
   ],
   "source": [
    "coefs = best_lda_timing.coef_\n",
    "plt.figure(figsize=(10,5))\n",
    "plt.scatter(np.arange(coefs[0].shape[0]),coefs[0],color='purple')\n",
    "plt.xticks(np.arange(coefs[0].shape[0]),timing_features,rotation='vertical')\n",
    "plt.ylabel('beta value')\n",
    "plt.xlabel('Feature number')\n",
    "plt.title('Betas for timing model')"
   ]
  },
  {
   "cell_type": "markdown",
   "metadata": {},
   "source": [
    "# Comparing 'short term' and 'long term' features"
   ]
  },
  {
   "cell_type": "code",
   "execution_count": 21,
   "metadata": {
    "collapsed": false
   },
   "outputs": [
    {
     "data": {
      "text/plain": [
       "Previous_10_Left_Choice     10.000\n",
       "Previous_10_Right_Choice     0.000\n",
       "Previous_10_Left_Reward      8.000\n",
       "Previous_10_Right_Reward     0.000\n",
       "Streak                      -1.000\n",
       "5_Port                       1.000\n",
       "5_Reward                     0.000\n",
       "5_ITI                        3.286\n",
       "5_trialDuration              0.407\n",
       "4_Port                       1.000\n",
       "4_Reward                     1.000\n",
       "4_ITI                        2.405\n",
       "4_trialDuration              0.463\n",
       "3_Port                       1.000\n",
       "3_Reward                     1.000\n",
       "3_ITI                        2.379\n",
       "3_trialDuration              0.367\n",
       "2_Port                       1.000\n",
       "2_Reward                     1.000\n",
       "2_ITI                        2.234\n",
       "2_trialDuration              0.325\n",
       "1_Port                       1.000\n",
       "1_Reward                     0.000\n",
       "1_ITI                        2.133\n",
       "1_trialDuration              0.482\n",
       "0_ITI                        1.411\n",
       "0_trialDuration              0.435\n",
       "Decision                     1.000\n",
       "Name: 0, dtype: float64"
      ]
     },
     "execution_count": 21,
     "metadata": {},
     "output_type": "execute_result"
    }
   ],
   "source": [
    "data.iloc[0,:]"
   ]
  },
  {
   "cell_type": "code",
   "execution_count": 22,
   "metadata": {
    "collapsed": false,
    "scrolled": true
   },
   "outputs": [
    {
     "data": {
      "text/plain": [
       "array(['Previous_10_Left_Choice', 'Previous_10_Right_Choice',\n",
       "       'Previous_10_Left_Reward', 'Previous_10_Right_Reward', 'Streak',\n",
       "       '5_Port', '5_Reward', '5_ITI', '5_trialDuration', '4_Port',\n",
       "       '4_Reward', '4_ITI', '4_trialDuration', '3_Port', '3_Reward',\n",
       "       '3_ITI', '3_trialDuration', '2_Port', '2_Reward', '2_ITI',\n",
       "       '2_trialDuration', '1_Port', '1_Reward', '1_ITI', '1_trialDuration',\n",
       "       '0_ITI', '0_trialDuration', 'Decision'], dtype=object)"
      ]
     },
     "execution_count": 22,
     "metadata": {},
     "output_type": "execute_result"
    }
   ],
   "source": [
    "data.columns.values"
   ]
  },
  {
   "cell_type": "code",
   "execution_count": 24,
   "metadata": {
    "collapsed": false
   },
   "outputs": [
    {
     "name": "stdout",
     "output_type": "stream",
     "text": [
      "['5_Reward' '5_ITI' '5_trialDuration' '4_Port' '4_Reward' '4_ITI'\n",
      " '4_trialDuration' '3_Port' '3_Reward' '3_ITI' '3_trialDuration' '2_Port'\n",
      " '2_Reward' '2_ITI' '2_trialDuration' '1_Port' '1_Reward' '1_ITI'\n",
      " '1_trialDuration' '0_ITI']\n",
      "()\n",
      "['Previous_10_Left_Choice' 'Previous_10_Right_Choice'\n",
      " 'Previous_10_Left_Reward' 'Previous_10_Right_Reward' 'Streak' '5_Port']\n"
     ]
    }
   ],
   "source": [
    "short_features = data.columns.values[6:-2]\n",
    "long_features = data.columns.values[:6]\n",
    "print(short_features)\n",
    "print()\n",
    "print(long_features)"
   ]
  },
  {
   "cell_type": "code",
   "execution_count": 25,
   "metadata": {
    "collapsed": false
   },
   "outputs": [],
   "source": [
    "#get column indices (so we can index from the numpy arrays)\n",
    "short_inds = []\n",
    "long_inds = []\n",
    "for f in short_features:\n",
    "    short_inds.append(data.columns.get_loc(f))\n",
    "    \n",
    "for f in long_features:\n",
    "    long_inds.append(data.columns.get_loc(f))"
   ]
  },
  {
   "cell_type": "code",
   "execution_count": 34,
   "metadata": {
    "collapsed": false
   },
   "outputs": [],
   "source": [
    "'''\n",
    "LDA\n",
    "'''\n",
    "lda_short = discriminant_analysis.LinearDiscriminantAnalysis(priors = [0.35,0.65])\n",
    "lda_long = discriminant_analysis.LinearDiscriminantAnalysis(priors = [0.35,0.65])\n",
    "lda_both = discriminant_analysis.LinearDiscriminantAnalysis(priors = [0.35,0.65])\n",
    "\n",
    "lda_short.fit(x_train[:,short_inds],y_train)\n",
    "lda_long.fit(x_train[:,long_inds],y_train)\n",
    "lda_both.fit(x_train,y_train)\n",
    "\n",
    "y_pred_short = lda_short.predict(x_test[:,short_inds])\n",
    "y_pred_long = lda_long.predict(x_test[:,long_inds])\n",
    "y_pred_both = lda_both.predict(x_test)"
   ]
  },
  {
   "cell_type": "code",
   "execution_count": 35,
   "metadata": {
    "collapsed": false
   },
   "outputs": [
    {
     "name": "stdout",
     "output_type": "stream",
     "text": [
      "Short features:\n",
      "          Predicted NO  Predicted YES\n",
      "True NO         2367.0          795.0\n",
      "True YES          19.0          217.0\n",
      "\n",
      "F1: 0.348\n",
      "\n",
      "Accuracy on class 0: 0.75\n",
      "Accuracy on class 1: 0.92\n",
      "\n",
      "Long features:\n",
      "          Predicted NO  Predicted YES\n",
      "True NO         1858.0         1304.0\n",
      "True YES          17.0          219.0\n",
      "\n",
      "F1: 0.249\n",
      "\n",
      "Accuracy on class 0: 0.59\n",
      "Accuracy on class 1: 0.93\n",
      "\n",
      "All features:\n",
      "          Predicted NO  Predicted YES\n",
      "True NO         2409.0          753.0\n",
      "True YES          18.0          218.0\n",
      "\n",
      "F1: 0.361\n",
      "\n",
      "Accuracy on class 0: 0.76\n",
      "Accuracy on class 1: 0.92\n",
      "\n"
     ]
    }
   ],
   "source": [
    "print('Short features:')\n",
    "acc_pos,acc_neg,F1=sf.score_both_and_confuse(y_pred_short,y_test,disp=True,confusion=False)\n",
    "\n",
    "print('Long features:')\n",
    "acc_pos,acc_neg,F1=sf.score_both_and_confuse(y_pred_long,y_test,disp=True,confusion=False)\n",
    "\n",
    "print('All features:')\n",
    "acc_pos,acc_neg,F1=sf.score_both_and_confuse(y_pred_both,y_test,disp=True,confusion=False)"
   ]
  }
 ],
 "metadata": {
  "anaconda-cloud": {},
  "kernelspec": {
   "display_name": "Python [conda env:ac209]",
   "language": "python",
   "name": "conda-env-ac209-py"
  },
  "language_info": {
   "codemirror_mode": {
    "name": "ipython",
    "version": 2
   },
   "file_extension": ".py",
   "mimetype": "text/x-python",
   "name": "python",
   "nbconvert_exporter": "python",
   "pygments_lexer": "ipython2",
   "version": "2.7.12"
  }
 },
 "nbformat": 4,
 "nbformat_minor": 1
}

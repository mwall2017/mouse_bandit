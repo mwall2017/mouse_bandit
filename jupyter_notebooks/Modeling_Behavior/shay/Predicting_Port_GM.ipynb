{
 "cells": [
  {
   "cell_type": "code",
   "execution_count": 32,
   "metadata": {
    "collapsed": false
   },
   "outputs": [],
   "source": [
    "import sys\n",
    "sys.path.append('/Users/shayneufeld/GitHub/mouse_bandit/data_preprocessing_code')\n",
    "sys.path.append('/Users/shayneufeld/GitHub/mouse_bandit')\n",
    "import support_functions as sf\n",
    "import numpy as np\n",
    "import matplotlib.pyplot as plt\n",
    "import seaborn as sns\n",
    "import pandas as pd\n",
    "import scipy as sp\n",
    "import bandit_preprocessing as bp\n",
    "import sklearn.linear_model\n",
    "import sklearn.tree\n",
    "%matplotlib inline "
   ]
  },
  {
   "cell_type": "markdown",
   "metadata": {},
   "source": [
    "## Load in trial data and convert into feature dataframe"
   ]
  },
  {
   "cell_type": "code",
   "execution_count": 13,
   "metadata": {
    "collapsed": false
   },
   "outputs": [],
   "source": [
    "data = pd.read_csv('/Users/shayneufeld/GitHub/mouse_bandit/data/80_20_processed_data/dumble_8020_df.csv',index_col=0)\n",
    "data = data.drop('0_trialDuration',axis=1)\n",
    "feature_names = data.columns.values[:-1]"
   ]
  },
  {
   "cell_type": "code",
   "execution_count": 20,
   "metadata": {
    "collapsed": false
   },
   "outputs": [
    {
     "data": {
      "text/html": [
       "<div>\n",
       "<table border=\"1\" class=\"dataframe\">\n",
       "  <thead>\n",
       "    <tr style=\"text-align: right;\">\n",
       "      <th></th>\n",
       "      <th>Previous_10_Left_Choice</th>\n",
       "      <th>Previous_10_Right_Choice</th>\n",
       "      <th>Previous_10_Left_Reward</th>\n",
       "      <th>Previous_10_Right_Reward</th>\n",
       "      <th>Streak</th>\n",
       "      <th>5_Port</th>\n",
       "      <th>5_Reward</th>\n",
       "      <th>5_ITI</th>\n",
       "      <th>5_trialDuration</th>\n",
       "      <th>4_Port</th>\n",
       "      <th>...</th>\n",
       "      <th>2_Port</th>\n",
       "      <th>2_Reward</th>\n",
       "      <th>2_ITI</th>\n",
       "      <th>2_trialDuration</th>\n",
       "      <th>1_Port</th>\n",
       "      <th>1_Reward</th>\n",
       "      <th>1_ITI</th>\n",
       "      <th>1_trialDuration</th>\n",
       "      <th>0_ITI</th>\n",
       "      <th>Decision</th>\n",
       "    </tr>\n",
       "  </thead>\n",
       "  <tbody>\n",
       "    <tr>\n",
       "      <th>0</th>\n",
       "      <td>10.0</td>\n",
       "      <td>0.0</td>\n",
       "      <td>8.0</td>\n",
       "      <td>0.0</td>\n",
       "      <td>-1.0</td>\n",
       "      <td>1.0</td>\n",
       "      <td>0.0</td>\n",
       "      <td>3.286</td>\n",
       "      <td>0.407</td>\n",
       "      <td>1.0</td>\n",
       "      <td>...</td>\n",
       "      <td>1.0</td>\n",
       "      <td>1.0</td>\n",
       "      <td>2.234</td>\n",
       "      <td>0.325</td>\n",
       "      <td>1.0</td>\n",
       "      <td>0.0</td>\n",
       "      <td>2.133</td>\n",
       "      <td>0.482</td>\n",
       "      <td>1.411</td>\n",
       "      <td>1.0</td>\n",
       "    </tr>\n",
       "    <tr>\n",
       "      <th>0</th>\n",
       "      <td>9.0</td>\n",
       "      <td>1.0</td>\n",
       "      <td>9.0</td>\n",
       "      <td>0.0</td>\n",
       "      <td>9.0</td>\n",
       "      <td>1.0</td>\n",
       "      <td>1.0</td>\n",
       "      <td>1.855</td>\n",
       "      <td>0.277</td>\n",
       "      <td>1.0</td>\n",
       "      <td>...</td>\n",
       "      <td>1.0</td>\n",
       "      <td>1.0</td>\n",
       "      <td>1.223</td>\n",
       "      <td>0.269</td>\n",
       "      <td>1.0</td>\n",
       "      <td>1.0</td>\n",
       "      <td>2.451</td>\n",
       "      <td>0.280</td>\n",
       "      <td>1.459</td>\n",
       "      <td>1.0</td>\n",
       "    </tr>\n",
       "    <tr>\n",
       "      <th>0</th>\n",
       "      <td>8.0</td>\n",
       "      <td>2.0</td>\n",
       "      <td>7.0</td>\n",
       "      <td>0.0</td>\n",
       "      <td>4.0</td>\n",
       "      <td>0.0</td>\n",
       "      <td>0.0</td>\n",
       "      <td>4.242</td>\n",
       "      <td>0.460</td>\n",
       "      <td>1.0</td>\n",
       "      <td>...</td>\n",
       "      <td>1.0</td>\n",
       "      <td>1.0</td>\n",
       "      <td>1.784</td>\n",
       "      <td>0.392</td>\n",
       "      <td>1.0</td>\n",
       "      <td>1.0</td>\n",
       "      <td>2.067</td>\n",
       "      <td>0.413</td>\n",
       "      <td>2.212</td>\n",
       "      <td>1.0</td>\n",
       "    </tr>\n",
       "    <tr>\n",
       "      <th>0</th>\n",
       "      <td>10.0</td>\n",
       "      <td>0.0</td>\n",
       "      <td>8.0</td>\n",
       "      <td>0.0</td>\n",
       "      <td>4.0</td>\n",
       "      <td>1.0</td>\n",
       "      <td>0.0</td>\n",
       "      <td>2.621</td>\n",
       "      <td>0.435</td>\n",
       "      <td>1.0</td>\n",
       "      <td>...</td>\n",
       "      <td>1.0</td>\n",
       "      <td>1.0</td>\n",
       "      <td>1.163</td>\n",
       "      <td>0.539</td>\n",
       "      <td>1.0</td>\n",
       "      <td>1.0</td>\n",
       "      <td>2.353</td>\n",
       "      <td>0.447</td>\n",
       "      <td>2.377</td>\n",
       "      <td>1.0</td>\n",
       "    </tr>\n",
       "    <tr>\n",
       "      <th>0</th>\n",
       "      <td>10.0</td>\n",
       "      <td>0.0</td>\n",
       "      <td>10.0</td>\n",
       "      <td>0.0</td>\n",
       "      <td>0.0</td>\n",
       "      <td>1.0</td>\n",
       "      <td>1.0</td>\n",
       "      <td>2.528</td>\n",
       "      <td>0.306</td>\n",
       "      <td>1.0</td>\n",
       "      <td>...</td>\n",
       "      <td>1.0</td>\n",
       "      <td>1.0</td>\n",
       "      <td>2.453</td>\n",
       "      <td>0.274</td>\n",
       "      <td>1.0</td>\n",
       "      <td>1.0</td>\n",
       "      <td>1.868</td>\n",
       "      <td>0.550</td>\n",
       "      <td>2.033</td>\n",
       "      <td>1.0</td>\n",
       "    </tr>\n",
       "    <tr>\n",
       "      <th>0</th>\n",
       "      <td>10.0</td>\n",
       "      <td>0.0</td>\n",
       "      <td>10.0</td>\n",
       "      <td>0.0</td>\n",
       "      <td>0.0</td>\n",
       "      <td>1.0</td>\n",
       "      <td>1.0</td>\n",
       "      <td>2.023</td>\n",
       "      <td>0.339</td>\n",
       "      <td>1.0</td>\n",
       "      <td>...</td>\n",
       "      <td>1.0</td>\n",
       "      <td>1.0</td>\n",
       "      <td>1.670</td>\n",
       "      <td>0.308</td>\n",
       "      <td>1.0</td>\n",
       "      <td>1.0</td>\n",
       "      <td>2.240</td>\n",
       "      <td>0.304</td>\n",
       "      <td>2.452</td>\n",
       "      <td>1.0</td>\n",
       "    </tr>\n",
       "    <tr>\n",
       "      <th>0</th>\n",
       "      <td>9.0</td>\n",
       "      <td>1.0</td>\n",
       "      <td>8.0</td>\n",
       "      <td>0.0</td>\n",
       "      <td>8.0</td>\n",
       "      <td>1.0</td>\n",
       "      <td>1.0</td>\n",
       "      <td>2.933</td>\n",
       "      <td>0.517</td>\n",
       "      <td>1.0</td>\n",
       "      <td>...</td>\n",
       "      <td>1.0</td>\n",
       "      <td>1.0</td>\n",
       "      <td>3.405</td>\n",
       "      <td>0.493</td>\n",
       "      <td>1.0</td>\n",
       "      <td>1.0</td>\n",
       "      <td>2.416</td>\n",
       "      <td>0.339</td>\n",
       "      <td>2.623</td>\n",
       "      <td>1.0</td>\n",
       "    </tr>\n",
       "    <tr>\n",
       "      <th>0</th>\n",
       "      <td>8.0</td>\n",
       "      <td>2.0</td>\n",
       "      <td>2.0</td>\n",
       "      <td>1.0</td>\n",
       "      <td>-1.0</td>\n",
       "      <td>1.0</td>\n",
       "      <td>0.0</td>\n",
       "      <td>3.309</td>\n",
       "      <td>0.379</td>\n",
       "      <td>1.0</td>\n",
       "      <td>...</td>\n",
       "      <td>0.0</td>\n",
       "      <td>1.0</td>\n",
       "      <td>1.473</td>\n",
       "      <td>0.489</td>\n",
       "      <td>1.0</td>\n",
       "      <td>0.0</td>\n",
       "      <td>1.348</td>\n",
       "      <td>0.495</td>\n",
       "      <td>2.566</td>\n",
       "      <td>1.0</td>\n",
       "    </tr>\n",
       "    <tr>\n",
       "      <th>0</th>\n",
       "      <td>10.0</td>\n",
       "      <td>0.0</td>\n",
       "      <td>2.0</td>\n",
       "      <td>0.0</td>\n",
       "      <td>-4.0</td>\n",
       "      <td>1.0</td>\n",
       "      <td>1.0</td>\n",
       "      <td>1.254</td>\n",
       "      <td>0.367</td>\n",
       "      <td>1.0</td>\n",
       "      <td>...</td>\n",
       "      <td>1.0</td>\n",
       "      <td>0.0</td>\n",
       "      <td>1.459</td>\n",
       "      <td>0.353</td>\n",
       "      <td>1.0</td>\n",
       "      <td>0.0</td>\n",
       "      <td>1.571</td>\n",
       "      <td>0.622</td>\n",
       "      <td>1.220</td>\n",
       "      <td>1.0</td>\n",
       "    </tr>\n",
       "    <tr>\n",
       "      <th>0</th>\n",
       "      <td>2.0</td>\n",
       "      <td>8.0</td>\n",
       "      <td>0.0</td>\n",
       "      <td>6.0</td>\n",
       "      <td>-1.0</td>\n",
       "      <td>0.0</td>\n",
       "      <td>1.0</td>\n",
       "      <td>1.409</td>\n",
       "      <td>0.374</td>\n",
       "      <td>0.0</td>\n",
       "      <td>...</td>\n",
       "      <td>0.0</td>\n",
       "      <td>1.0</td>\n",
       "      <td>4.148</td>\n",
       "      <td>0.381</td>\n",
       "      <td>0.0</td>\n",
       "      <td>0.0</td>\n",
       "      <td>4.307</td>\n",
       "      <td>0.373</td>\n",
       "      <td>1.429</td>\n",
       "      <td>0.0</td>\n",
       "    </tr>\n",
       "  </tbody>\n",
       "</table>\n",
       "<p>10 rows × 27 columns</p>\n",
       "</div>"
      ],
      "text/plain": [
       "   Previous_10_Left_Choice  Previous_10_Right_Choice  Previous_10_Left_Reward  \\\n",
       "0                     10.0                       0.0                      8.0   \n",
       "0                      9.0                       1.0                      9.0   \n",
       "0                      8.0                       2.0                      7.0   \n",
       "0                     10.0                       0.0                      8.0   \n",
       "0                     10.0                       0.0                     10.0   \n",
       "0                     10.0                       0.0                     10.0   \n",
       "0                      9.0                       1.0                      8.0   \n",
       "0                      8.0                       2.0                      2.0   \n",
       "0                     10.0                       0.0                      2.0   \n",
       "0                      2.0                       8.0                      0.0   \n",
       "\n",
       "   Previous_10_Right_Reward  Streak  5_Port  5_Reward  5_ITI  5_trialDuration  \\\n",
       "0                       0.0    -1.0     1.0       0.0  3.286            0.407   \n",
       "0                       0.0     9.0     1.0       1.0  1.855            0.277   \n",
       "0                       0.0     4.0     0.0       0.0  4.242            0.460   \n",
       "0                       0.0     4.0     1.0       0.0  2.621            0.435   \n",
       "0                       0.0     0.0     1.0       1.0  2.528            0.306   \n",
       "0                       0.0     0.0     1.0       1.0  2.023            0.339   \n",
       "0                       0.0     8.0     1.0       1.0  2.933            0.517   \n",
       "0                       1.0    -1.0     1.0       0.0  3.309            0.379   \n",
       "0                       0.0    -4.0     1.0       1.0  1.254            0.367   \n",
       "0                       6.0    -1.0     0.0       1.0  1.409            0.374   \n",
       "\n",
       "   4_Port    ...     2_Port  2_Reward  2_ITI  2_trialDuration  1_Port  \\\n",
       "0     1.0    ...        1.0       1.0  2.234            0.325     1.0   \n",
       "0     1.0    ...        1.0       1.0  1.223            0.269     1.0   \n",
       "0     1.0    ...        1.0       1.0  1.784            0.392     1.0   \n",
       "0     1.0    ...        1.0       1.0  1.163            0.539     1.0   \n",
       "0     1.0    ...        1.0       1.0  2.453            0.274     1.0   \n",
       "0     1.0    ...        1.0       1.0  1.670            0.308     1.0   \n",
       "0     1.0    ...        1.0       1.0  3.405            0.493     1.0   \n",
       "0     1.0    ...        0.0       1.0  1.473            0.489     1.0   \n",
       "0     1.0    ...        1.0       0.0  1.459            0.353     1.0   \n",
       "0     0.0    ...        0.0       1.0  4.148            0.381     0.0   \n",
       "\n",
       "   1_Reward  1_ITI  1_trialDuration  0_ITI  Decision  \n",
       "0       0.0  2.133            0.482  1.411       1.0  \n",
       "0       1.0  2.451            0.280  1.459       1.0  \n",
       "0       1.0  2.067            0.413  2.212       1.0  \n",
       "0       1.0  2.353            0.447  2.377       1.0  \n",
       "0       1.0  1.868            0.550  2.033       1.0  \n",
       "0       1.0  2.240            0.304  2.452       1.0  \n",
       "0       1.0  2.416            0.339  2.623       1.0  \n",
       "0       0.0  1.348            0.495  2.566       1.0  \n",
       "0       0.0  1.571            0.622  1.220       1.0  \n",
       "0       0.0  4.307            0.373  1.429       0.0  \n",
       "\n",
       "[10 rows x 27 columns]"
      ]
     },
     "execution_count": 20,
     "metadata": {},
     "output_type": "execute_result"
    }
   ],
   "source": [
    "data.loc[0,:]"
   ]
  },
  {
   "cell_type": "markdown",
   "metadata": {},
   "source": [
    "## Train on several days, test on 1 day:"
   ]
  },
  {
   "cell_type": "code",
   "execution_count": 24,
   "metadata": {
    "collapsed": false
   },
   "outputs": [
    {
     "name": "stdout",
     "output_type": "stream",
     "text": [
      "Indices that correspond to new sessions:\n"
     ]
    },
    {
     "data": {
      "text/plain": [
       "(array([   0,  547, 1147, 1790, 2345, 2994, 3630, 4160, 4698, 5267]),)"
      ]
     },
     "execution_count": 24,
     "metadata": {},
     "output_type": "execute_result"
    }
   ],
   "source": [
    "print('Indices that correspond to new sessions:')\n",
    "np.where(data.index.get_loc(0) == 1)"
   ]
  },
  {
   "cell_type": "code",
   "execution_count": 14,
   "metadata": {
    "collapsed": true
   },
   "outputs": [],
   "source": [
    "#extract features and decisions\n",
    "x = data.iloc[:,:-1].values\n",
    "y = data.iloc[:,-1].values"
   ]
  },
  {
   "cell_type": "code",
   "execution_count": 25,
   "metadata": {
    "collapsed": false
   },
   "outputs": [],
   "source": [
    "#split into training and testing\n",
    "x_train = x[:4698,:]\n",
    "y_train = y[:4698]\n",
    "\n",
    "x_test = x[4698:,:]\n",
    "y_test = y[4698:]"
   ]
  },
  {
   "cell_type": "code",
   "execution_count": 26,
   "metadata": {
    "collapsed": false
   },
   "outputs": [
    {
     "data": {
      "text/plain": [
       "0.93900343642611683"
      ]
     },
     "execution_count": 26,
     "metadata": {},
     "output_type": "execute_result"
    }
   ],
   "source": [
    "logreg = sklearn.linear_model.LogisticRegression()\n",
    "logreg.fit(x_train,y_train)\n",
    "y_predict = logreg.predict(x_test)\n",
    "score = logreg.score(x_test,y_test)\n",
    "score"
   ]
  },
  {
   "cell_type": "code",
   "execution_count": 27,
   "metadata": {
    "collapsed": false,
    "scrolled": false
   },
   "outputs": [
    {
     "data": {
      "text/plain": [
       "<matplotlib.text.Text at 0x110689a90>"
      ]
     },
     "execution_count": 27,
     "metadata": {},
     "output_type": "execute_result"
    },
    {
     "data": {
      "image/png": "[encoded data removed]",
      "text/plain": [
       "<matplotlib.figure.Figure at 0x110b11c18>"
      ]
     },
     "metadata": {},
     "output_type": "display_data"
    }
   ],
   "source": [
    "coefs = logreg.coef_\n",
    "plt.figure(figsize=(10,5))\n",
    "plt.scatter(np.arange(coefs[0].shape[0]),coefs[0],color='purple')\n",
    "plt.xticks(np.arange(coefs[0].shape[0]),feature_names,rotation='vertical')\n",
    "plt.ylabel('beta value')\n",
    "plt.xlabel('Feature number')"
   ]
  },
  {
   "cell_type": "code",
   "execution_count": 54,
   "metadata": {
    "collapsed": false
   },
   "outputs": [
    {
     "data": {
      "text/plain": [
       "<matplotlib.legend.Legend at 0x117458a90>"
      ]
     },
     "execution_count": 54,
     "metadata": {},
     "output_type": "execute_result"
    },
    {
     "data": {
      "image/png": "[encoded data removed]",
      "text/plain": [
       "<matplotlib.figure.Figure at 0x11740c5c0>"
      ]
     },
     "metadata": {},
     "output_type": "display_data"
    }
   ],
   "source": [
    "plt.figure(figsize=(15,5))\n",
    "plt.scatter(np.arange(y_test.shape[0]),y_test-0.01,color='black',label='y_test',alpha=0.5)\n",
    "plt.scatter(np.arange(y_test.shape[0]),y_predict+0.01,color='green',label='y_predict',alpha=0.5)\n",
    "plt.yticks([0,1],['Right','Left'])\n",
    "plt.ylabel('Port')\n",
    "plt.xlabel('Trial # (test data)')\n",
    "plt.legend(loc='lower left')"
   ]
  },
  {
   "cell_type": "markdown",
   "metadata": {},
   "source": [
    "## Did the model get the switches right?"
   ]
  },
  {
   "cell_type": "code",
   "execution_count": 30,
   "metadata": {
    "collapsed": true
   },
   "outputs": [],
   "source": [
    "#calc true switches\n",
    "y_test_switch = np.abs(np.diff(y_test))\n",
    "\n",
    "#calc model switches\n",
    "y_predict_switch = np.abs(np.diff(y_predict))"
   ]
  },
  {
   "cell_type": "code",
   "execution_count": 34,
   "metadata": {
    "collapsed": false,
    "scrolled": false
   },
   "outputs": [
    {
     "name": "stdout",
     "output_type": "stream",
     "text": [
      "          Predicted NO  Predicted YES\n",
      "True NO         1039.0           57.0\n",
      "True YES          55.0           12.0\n",
      "\n",
      "F1: 0.176\n",
      "\n",
      "Accuracy on class 0: 0.95\n",
      "Accuracy on class 1: 0.18\n",
      "\n"
     ]
    }
   ],
   "source": [
    "acc_pos,acc_neg,F1=sf.score_both_and_confuse(y_predict_switch,y_test_switch,confusion=False)"
   ]
  },
  {
   "cell_type": "markdown",
   "metadata": {},
   "source": [
    "No. It didn't. "
   ]
  },
  {
   "cell_type": "markdown",
   "metadata": {},
   "source": [
    "# What about looking at left and right switches separately?"
   ]
  },
  {
   "cell_type": "code",
   "execution_count": 35,
   "metadata": {
    "collapsed": true
   },
   "outputs": [],
   "source": [
    "y_test_switchL = np.diff(y_test) == 1\n",
    "y_test_switchR = np.diff(y_test) == -1\n",
    "\n",
    "y_predict_switchL = np.diff(y_predict) == 1\n",
    "y_predict_switchR = np.diff(y_predict) == -1"
   ]
  },
  {
   "cell_type": "code",
   "execution_count": 36,
   "metadata": {
    "collapsed": false,
    "scrolled": true
   },
   "outputs": [
    {
     "name": "stdout",
     "output_type": "stream",
     "text": [
      "Right Switches: \n",
      "\n",
      "          Predicted NO  Predicted YES\n",
      "True NO         1095.0           34.0\n",
      "True YES          33.0            1.0\n",
      "\n",
      "F1: 0.029\n",
      "\n",
      "Accuracy on class 0: 0.97\n",
      "Accuracy on class 1: 0.03\n",
      "\n"
     ]
    }
   ],
   "source": [
    "print('Right Switches: \\n')\n",
    "acc_pos,acc_neg,F1=sf.score_both_and_confuse(y_predict_switchR,y_test_switchR,confusion=False)"
   ]
  },
  {
   "cell_type": "code",
   "execution_count": 37,
   "metadata": {
    "collapsed": false
   },
   "outputs": [
    {
     "name": "stdout",
     "output_type": "stream",
     "text": [
      "Left Switches: \n",
      "\n",
      "          Predicted NO  Predicted YES\n",
      "True NO         1096.0           34.0\n",
      "True YES          33.0            0.0\n",
      "\n",
      "F1: 0.000\n",
      "\n",
      "Accuracy on class 0: 0.97\n",
      "Accuracy on class 1: 0.00\n",
      "\n"
     ]
    }
   ],
   "source": [
    "print('Left Switches: \\n')\n",
    "acc_pos,acc_neg,F1=sf.score_both_and_confuse(y_predict_switchL,y_test_switchL,confusion=False)"
   ]
  },
  {
   "cell_type": "code",
   "execution_count": 52,
   "metadata": {
    "collapsed": false
   },
   "outputs": [
    {
     "data": {
      "text/plain": [
       "<matplotlib.text.Text at 0x111464d30>"
      ]
     },
     "execution_count": 52,
     "metadata": {},
     "output_type": "execute_result"
    },
    {
     "data": {
      "image/png": "[encoded data removed]",
      "text/plain": [
       "<matplotlib.figure.Figure at 0x114f0cdd8>"
      ]
     },
     "metadata": {},
     "output_type": "display_data"
    }
   ],
   "source": [
    "y_switch_true = np.diff(y_test)\n",
    "y_switch_model = np.diff(y_predict)\n",
    "\n",
    "plt.scatter(np.arange(y_switch_true.shape[0]),y_switch_true+0.02,color='black',label='true',alpha=0.7)\n",
    "plt.scatter(np.arange(y_switch_model.shape[0]),y_switch_model-0.02,color='red',label='model',alpha=0.7)\n",
    "plt.legend(loc='best')\n",
    "plt.title('Left and Right switches (left = +1, right = -1)')\n",
    "plt.xlabel('Trial number (test data)')\n",
    "plt.yticks([-1,0,1],['Switch Right','Stay','Switch Left'])\n",
    "plt.ylabel('Port')"
   ]
  },
  {
   "cell_type": "markdown",
   "metadata": {},
   "source": [
    "I think what may be happening here is that the model simply predicts the switch 1 trial after it already happens. It looks like its getting it all correct above - but look closely. The dots are slightly misaligned (in the x-axis). Let's zoom in:"
   ]
  },
  {
   "cell_type": "code",
   "execution_count": 55,
   "metadata": {
    "collapsed": false
   },
   "outputs": [
    {
     "data": {
      "text/plain": [
       "<matplotlib.text.Text at 0x1176a9ef0>"
      ]
     },
     "execution_count": 55,
     "metadata": {},
     "output_type": "execute_result"
    },
    {
     "data": {
      "image/png": "[encoded data removed]",
      "text/plain": [
       "<matplotlib.figure.Figure at 0x117433278>"
      ]
     },
     "metadata": {},
     "output_type": "display_data"
    }
   ],
   "source": [
    "plt.scatter(np.arange(y_switch_true[1:50].shape[0]),y_switch_true[1:50]+0.02,color='black',label='true',alpha=0.7)\n",
    "plt.scatter(np.arange(y_switch_model[1:50].shape[0]),y_switch_model[1:50]-0.02,color='red',label='model',alpha=0.7)\n",
    "plt.legend(loc='best')\n",
    "plt.title('Left and Right switches (left = +1, right = -1)')\n",
    "plt.xlabel('Trial number (test data)')\n",
    "plt.yticks([-1,0,1],['Switch Right','Stay','Switch Left'])\n",
    "plt.ylabel('Port')"
   ]
  },
  {
   "cell_type": "markdown",
   "metadata": {},
   "source": [
    "Right - now we can see that model is simply 'following' the mouse by 1 trial. "
   ]
  },
  {
   "cell_type": "markdown",
   "metadata": {},
   "source": [
    "Quick notes on the original version of this notebook (since erased) since we did this all a little hastily:\n",
    "\n",
    "    1) summary data good enough to get ~95% accuracy which was comparable to using all features\n",
    "    2) streak, ITI, trialDuration by themselves did not perform better than chance\n",
    "    3) taking out trial -1 Port did not affect model even though it had highest beta coefficient\n",
    "    4) only using past 5 trials good enough for 95% accuracy with trial -1,-2 port decisions the highest betas"
   ]
  }
 ],
 "metadata": {
  "anaconda-cloud": {},
  "kernelspec": {
   "display_name": "Python [conda env:CaGRIN]",
   "language": "python",
   "name": "conda-env-CaGRIN-py"
  },
  "language_info": {
   "codemirror_mode": {
    "name": "ipython",
    "version": 3
   },
   "file_extension": ".py",
   "mimetype": "text/x-python",
   "name": "python",
   "nbconvert_exporter": "python",
   "pygments_lexer": "ipython3",
   "version": "3.5.2"
  }
 },
 "nbformat": 4,
 "nbformat_minor": 1
}

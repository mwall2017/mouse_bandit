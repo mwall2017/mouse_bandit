{
 "cells": [
  {
   "cell_type": "markdown",
   "metadata": {},
   "source": [
    "# Predicting how a mouse will behave in a probabilistic reward task\n",
    "\n",
    "### In a life where both our world and ourselves are constantly changing, it can be hard to figure out what to do: should you rely on what has happened in the past to make a decision? or should you explore and try to learn something new?\n",
    "\n",
    "### In reinforcement learning theory, this optimization problem is known as the 'explore-exploit' tradeoff, and was formalized in 1952 as the 'multi-armed bandit problem', where a gambler in front of a row of slot machines has to decide which machines to play, how many times to play each machine and in which order to play them.\n",
    "\n",
    "### An optimal gambler will do 'online inference in a hidden Markov model' - where it accumates evidence from its actions and combines it with an expectation for how often the reward probabilities for each slot machine changes\n",
    "\n",
    "### While animals (including humans!) make this type of decision all the time, it is not understood how our brain implements this decision process. Are there collections of neurons computing the very algorithms we discovered with math and statistics? Or have the organic circuits in our brain evolved to find an alternate solution? \n",
    "\n",
    "### This is the main project I'm working on right now! \n",
    "\n",
    "### In this demo, I attempt to predict which 'bandit' a mouse will choose by modeling its behavior as a hidden Markov model. "
   ]
  },
  {
   "cell_type": "markdown",
   "metadata": {},
   "source": [
    "### Import packages"
   ]
  },
  {
   "cell_type": "code",
   "execution_count": 1,
   "metadata": {
    "collapsed": true
   },
   "outputs": [],
   "source": [
    "from IPython.display import YouTubeVideo\n",
    "from IPython.display import Image\n",
    "import sys\n",
    "sys.path.append('/Users/shayneufeld/GitHub/mouse_bandit/data_preprocessing_code')\n",
    "sys.path.append('/Users/shayneufeld/GitHub/mouse_bandit')\n",
    "import support_functions as sf\n",
    "import numpy as np\n",
    "import matplotlib.pyplot as plt\n",
    "from matplotlib import gridspec\n",
    "import seaborn as sns\n",
    "import pandas as pd\n",
    "import scipy as sp\n",
    "import bandit_preprocessing as bp\n",
    "import sklearn.linear_model\n",
    "import sklearn.tree\n",
    "from sklearn.preprocessing import PolynomialFeatures\n",
    "%matplotlib inline "
   ]
  },
  {
   "cell_type": "markdown",
   "metadata": {},
   "source": [
    "# What are we trying to predict?"
   ]
  },
  {
   "cell_type": "code",
   "execution_count": 2,
   "metadata": {
    "collapsed": false,
    "scrolled": true
   },
   "outputs": [
    {
     "data": {
      "text/html": [
       "\n",
       "        <iframe\n",
       "            width=\"400\"\n",
       "            height=\"300\"\n",
       "            src=\"https://www.youtube.com/embed/5ecQ8w4K0aE\"\n",
       "            frameborder=\"0\"\n",
       "            allowfullscreen\n",
       "        ></iframe>\n",
       "        "
      ],
      "text/plain": [
       "<IPython.lib.display.YouTubeVideo at 0x10474b080>"
      ]
     },
     "execution_count": 2,
     "metadata": {},
     "output_type": "execute_result"
    }
   ],
   "source": [
    "YouTubeVideo(\"5ecQ8w4K0aE\")"
   ]
  },
  {
   "cell_type": "markdown",
   "metadata": {},
   "source": [
    "[link to video on YouTube](https://www.youtube.com/watch?time_continue=3&v=5ecQ8w4K0aE)"
   ]
  },
  {
   "cell_type": "markdown",
   "metadata": {},
   "source": [
    "## We detect every time the mouse enters a port\n",
    "\n",
    "## That data is then processed into individual 'trials' and formated into a pandas dataframe"
   ]
  },
  {
   "cell_type": "code",
   "execution_count": 3,
   "metadata": {
    "collapsed": false
   },
   "outputs": [
    {
     "name": "stdout",
     "output_type": "stream",
     "text": [
      "This data contains 3040 trials from 5 sessions\n",
      "First 5 data entries:\n"
     ]
    },
    {
     "data": {
      "text/html": [
       "<div>\n",
       "<table border=\"1\" class=\"dataframe\">\n",
       "  <thead>\n",
       "    <tr style=\"text-align: right;\">\n",
       "      <th></th>\n",
       "      <th>Mouse ID</th>\n",
       "      <th>Session ID</th>\n",
       "      <th>Block Trial</th>\n",
       "      <th>Port Streak</th>\n",
       "      <th>Reward Streak</th>\n",
       "      <th>10_Port</th>\n",
       "      <th>10_Reward</th>\n",
       "      <th>10_ITI</th>\n",
       "      <th>10_trialDuration</th>\n",
       "      <th>9_Port</th>\n",
       "      <th>...</th>\n",
       "      <th>2_trialDuration</th>\n",
       "      <th>1_Port</th>\n",
       "      <th>1_Reward</th>\n",
       "      <th>1_ITI</th>\n",
       "      <th>1_trialDuration</th>\n",
       "      <th>0_ITI</th>\n",
       "      <th>Decision</th>\n",
       "      <th>Switch</th>\n",
       "      <th>Higher p port</th>\n",
       "      <th>Reward</th>\n",
       "    </tr>\n",
       "  </thead>\n",
       "  <tbody>\n",
       "    <tr>\n",
       "      <th>0</th>\n",
       "      <td>harry</td>\n",
       "      <td>07252016_harry</td>\n",
       "      <td>11.0</td>\n",
       "      <td>1.0</td>\n",
       "      <td>-1.0</td>\n",
       "      <td>1.0</td>\n",
       "      <td>0.0</td>\n",
       "      <td>1.660</td>\n",
       "      <td>0.291</td>\n",
       "      <td>1.0</td>\n",
       "      <td>...</td>\n",
       "      <td>0.319</td>\n",
       "      <td>1.0</td>\n",
       "      <td>0.0</td>\n",
       "      <td>1.304</td>\n",
       "      <td>0.258</td>\n",
       "      <td>2.335</td>\n",
       "      <td>0.0</td>\n",
       "      <td>1.0</td>\n",
       "      <td>1.0</td>\n",
       "      <td>1.0</td>\n",
       "    </tr>\n",
       "    <tr>\n",
       "      <th>1</th>\n",
       "      <td>harry</td>\n",
       "      <td>07252016_harry</td>\n",
       "      <td>12.0</td>\n",
       "      <td>1.0</td>\n",
       "      <td>1.0</td>\n",
       "      <td>1.0</td>\n",
       "      <td>0.0</td>\n",
       "      <td>1.467</td>\n",
       "      <td>0.354</td>\n",
       "      <td>1.0</td>\n",
       "      <td>...</td>\n",
       "      <td>0.258</td>\n",
       "      <td>0.0</td>\n",
       "      <td>1.0</td>\n",
       "      <td>2.335</td>\n",
       "      <td>0.304</td>\n",
       "      <td>1.793</td>\n",
       "      <td>0.0</td>\n",
       "      <td>0.0</td>\n",
       "      <td>1.0</td>\n",
       "      <td>0.0</td>\n",
       "    </tr>\n",
       "    <tr>\n",
       "      <th>2</th>\n",
       "      <td>harry</td>\n",
       "      <td>07252016_harry</td>\n",
       "      <td>13.0</td>\n",
       "      <td>2.0</td>\n",
       "      <td>-1.0</td>\n",
       "      <td>1.0</td>\n",
       "      <td>0.0</td>\n",
       "      <td>1.490</td>\n",
       "      <td>0.320</td>\n",
       "      <td>1.0</td>\n",
       "      <td>...</td>\n",
       "      <td>0.304</td>\n",
       "      <td>0.0</td>\n",
       "      <td>0.0</td>\n",
       "      <td>1.793</td>\n",
       "      <td>0.261</td>\n",
       "      <td>1.613</td>\n",
       "      <td>0.0</td>\n",
       "      <td>0.0</td>\n",
       "      <td>1.0</td>\n",
       "      <td>0.0</td>\n",
       "    </tr>\n",
       "    <tr>\n",
       "      <th>3</th>\n",
       "      <td>harry</td>\n",
       "      <td>07252016_harry</td>\n",
       "      <td>14.0</td>\n",
       "      <td>3.0</td>\n",
       "      <td>-2.0</td>\n",
       "      <td>1.0</td>\n",
       "      <td>0.0</td>\n",
       "      <td>1.446</td>\n",
       "      <td>0.312</td>\n",
       "      <td>1.0</td>\n",
       "      <td>...</td>\n",
       "      <td>0.261</td>\n",
       "      <td>0.0</td>\n",
       "      <td>0.0</td>\n",
       "      <td>1.613</td>\n",
       "      <td>0.319</td>\n",
       "      <td>1.331</td>\n",
       "      <td>1.0</td>\n",
       "      <td>1.0</td>\n",
       "      <td>0.0</td>\n",
       "      <td>0.0</td>\n",
       "    </tr>\n",
       "    <tr>\n",
       "      <th>4</th>\n",
       "      <td>harry</td>\n",
       "      <td>07252016_harry</td>\n",
       "      <td>15.0</td>\n",
       "      <td>1.0</td>\n",
       "      <td>-3.0</td>\n",
       "      <td>1.0</td>\n",
       "      <td>0.0</td>\n",
       "      <td>2.453</td>\n",
       "      <td>0.266</td>\n",
       "      <td>1.0</td>\n",
       "      <td>...</td>\n",
       "      <td>0.319</td>\n",
       "      <td>1.0</td>\n",
       "      <td>0.0</td>\n",
       "      <td>1.331</td>\n",
       "      <td>0.428</td>\n",
       "      <td>1.545</td>\n",
       "      <td>1.0</td>\n",
       "      <td>0.0</td>\n",
       "      <td>0.0</td>\n",
       "      <td>0.0</td>\n",
       "    </tr>\n",
       "  </tbody>\n",
       "</table>\n",
       "<p>5 rows × 50 columns</p>\n",
       "</div>"
      ],
      "text/plain": [
       "  Mouse ID      Session ID  Block Trial  Port Streak  Reward Streak  10_Port  \\\n",
       "0    harry  07252016_harry         11.0          1.0           -1.0      1.0   \n",
       "1    harry  07252016_harry         12.0          1.0            1.0      1.0   \n",
       "2    harry  07252016_harry         13.0          2.0           -1.0      1.0   \n",
       "3    harry  07252016_harry         14.0          3.0           -2.0      1.0   \n",
       "4    harry  07252016_harry         15.0          1.0           -3.0      1.0   \n",
       "\n",
       "   10_Reward  10_ITI  10_trialDuration  9_Port   ...    2_trialDuration  \\\n",
       "0        0.0   1.660             0.291     1.0   ...              0.319   \n",
       "1        0.0   1.467             0.354     1.0   ...              0.258   \n",
       "2        0.0   1.490             0.320     1.0   ...              0.304   \n",
       "3        0.0   1.446             0.312     1.0   ...              0.261   \n",
       "4        0.0   2.453             0.266     1.0   ...              0.319   \n",
       "\n",
       "   1_Port  1_Reward  1_ITI  1_trialDuration  0_ITI  Decision  Switch  \\\n",
       "0     1.0       0.0  1.304            0.258  2.335       0.0     1.0   \n",
       "1     0.0       1.0  2.335            0.304  1.793       0.0     0.0   \n",
       "2     0.0       0.0  1.793            0.261  1.613       0.0     0.0   \n",
       "3     0.0       0.0  1.613            0.319  1.331       1.0     1.0   \n",
       "4     1.0       0.0  1.331            0.428  1.545       1.0     0.0   \n",
       "\n",
       "   Higher p port  Reward  \n",
       "0            1.0     1.0  \n",
       "1            1.0     0.0  \n",
       "2            1.0     0.0  \n",
       "3            0.0     0.0  \n",
       "4            0.0     0.0  \n",
       "\n",
       "[5 rows x 50 columns]"
      ]
     },
     "execution_count": 3,
     "metadata": {},
     "output_type": "execute_result"
    }
   ],
   "source": [
    "data = pd.read_csv('/Users/shayneufeld/GitHub/mouse_bandit/data/processed_data/harry_8020_high.csv',index_col=0)\n",
    "data = \n",
    "print('This data contains %.0f trials from %.0f sessions' % (data.shape[0],np.unique(data['Session ID'].values).shape[0]))\n",
    "print('First 5 data entries:')\n",
    "data.head(5)"
   ]
  },
  {
   "cell_type": "markdown",
   "metadata": {},
   "source": [
    "## Some  important summary statistics: \n",
    "1. what is the overall percentage of trials that this mouse ('harry') chose the port with a higher reward probability?\n",
    "2. what is the distribution of 'stays' (when a mouse returns to the same port it went to previously) and 'switches' (different from last choice)"
   ]
  },
  {
   "cell_type": "code",
   "execution_count": 4,
   "metadata": {
    "collapsed": false
   },
   "outputs": [
    {
     "name": "stdout",
     "output_type": "stream",
     "text": [
      "Number of sessions in dataset: 5\n",
      "Number of trials in dataset: 3040\n",
      "Number of rewards recieved: 2164\n",
      "Number of switch trials 190\n"
     ]
    }
   ],
   "source": [
    "sessions = np.unique(data['Session ID'].values) #the session IDs (useful for labelling plots below)\n",
    "\n",
    "print('Number of sessions in dataset: %.0f' % sessions.shape[0])\n",
    "print('Number of trials in dataset: %.0f' % data.shape[0])\n",
    "print('Number of rewards recieved: %.0f' % data['Reward'].sum())\n",
    "print('Number of switch trials %.0f' % data['Switch'].sum())"
   ]
  },
  {
   "cell_type": "code",
   "execution_count": 5,
   "metadata": {
    "collapsed": false,
    "scrolled": false
   },
   "outputs": [
    {
     "data": {
      "image/png": "[encoded data removed]",
      "text/plain": [
       "<matplotlib.figure.Figure at 0x10eb9abe0>"
      ]
     },
     "metadata": {},
     "output_type": "display_data"
    }
   ],
   "source": [
    "sns.set_style('darkgrid')\n",
    "plt.figure(figsize=(10,5))\n",
    "\n",
    "plt.subplot(121)\n",
    "ax = sns.barplot(x='Session ID',y='Higher p port',data = data)\n",
    "ax.set_xticklabels(sessions,rotation=30)\n",
    "plt.hlines(y=0.8,xmin=-0.5,xmax=5.5,color='black',linewidth=3,label='Fraction rewards given',alpha=0.7,linestyles='dotted')\n",
    "plt.legend(loc='best')\n",
    "plt.ylim(0.5,1)\n",
    "plt.title('Fraction of trials where higher reward port chosen',x=0.5,y=1.05)\n",
    "\n",
    "plt.subplot(122)\n",
    "ax = sns.barplot(x='Session ID',y='Switch',data = data)\n",
    "ax.set_xticklabels(sessions,rotation=30)\n",
    "plt.title('Fraction of trials where mouse switched from previous trial',x=0.5,y=1.05)\n",
    "\n",
    "plt.tight_layout()"
   ]
  },
  {
   "cell_type": "markdown",
   "metadata": {},
   "source": [
    "Before we start to do anything complex ... what if the mice are simply implementing a 'win-stay, lose-switch' strategy?"
   ]
  },
  {
   "cell_type": "code",
   "execution_count": 6,
   "metadata": {
    "collapsed": false
   },
   "outputs": [
    {
     "name": "stdout",
     "output_type": "stream",
     "text": [
      "Fraction of the time that a switch occured following an unrewarded trial: 0.20\n"
     ]
    }
   ],
   "source": [
    "print('Fraction of the time that a switch occured following an unrewarded trial: %.02f' % data[data['1_Reward'] == 0]['Switch'].mean() )"
   ]
  },
  {
   "cell_type": "markdown",
   "metadata": {},
   "source": [
    "Nope! Something more complicated is going on here. "
   ]
  },
  {
   "cell_type": "markdown",
   "metadata": {},
   "source": [
    "## How are mice using information from the past to make a decision?\n",
    "\n",
    "**Idea #1**: do logistic regression using previous trial outcomes as features to predict either 1) which port the mouse will choose or 2) whether a mouse will stay or switch\n",
    "\n",
    "**Problem**: logistic regression fails to predict when a mouse will switch, even when:\n",
    "    1. the decision boundary is optimized\n",
    "    2. interaction terms between the previous trial outcomes are introduced\n",
    "    3. a lot more data is used (up to 70,000 trials)\n",
    "    \n",
    "**Idea #2**: try predicting a mouse's decisions using the strategy of an optimal player: online inference in a hidden Markov model.\n",
    "\n",
    "A hidden Markov model is a statistical system where there are multiple states connected with specific transition probabilities. These states cannot be directly observed (hence being 'hidden'), but can be estimated using evidence that is probabilistically related to which state the system is in (ie how frequently a reward is delivered)."
   ]
  },
  {
   "cell_type": "markdown",
   "metadata": {},
   "source": [
    "## Hidden Markov model schematic"
   ]
  },
  {
   "cell_type": "code",
   "execution_count": 7,
   "metadata": {
    "collapsed": false,
    "scrolled": true
   },
   "outputs": [
    {
     "data": {
      "image/png": "[encoded data removed]",
      "text/plain": [
       "<IPython.core.display.Image object>"
      ]
     },
     "execution_count": 7,
     "metadata": {},
     "output_type": "execute_result"
    }
   ],
   "source": [
    "Image(filename='/Users/shayneufeld/GitHub/mouse_bandit/figures/hmm_schema.png')"
   ]
  },
  {
   "cell_type": "markdown",
   "metadata": {},
   "source": [
    "Basic idea:\n",
    "Belief in the latent state is computed by combining incoming information (ie. which port you just went to and if you got a reward) with your previous belief in the latent state and your knowledge of how often the latent state changes (how often the reward probabilites switch). \n",
    "\n",
    "That computation looks like:\n",
    "\n",
    "$ b_{t+1} = \\sum_k p(z_{t+1} | z_t=k)  * p(r_t | z_t = k, a_t) * b_{t,k} $\n",
    "\n",
    "where:\n",
    "- **b** - belief in the value of the latent state [left or right]\n",
    "- **z** - the latent state [left or right]\n",
    "- **r** - reward delivered [true or false]\n",
    "- **a** - action performed [left or right]"
   ]
  },
  {
   "cell_type": "markdown",
   "metadata": {},
   "source": [
    "# using a hidden Markov model to predict a mouse's decisions:"
   ]
  },
  {
   "cell_type": "code",
   "execution_count": 8,
   "metadata": {
    "collapsed": true
   },
   "outputs": [],
   "source": [
    "def hmm_predict(data,emission_prob,transition_prob,n_prev_trials=10):\n",
    "    \n",
    "    '''\n",
    "    Tuned parameters\n",
    "    '''\n",
    "    p = emission_prob # prob of reward if choose the correct side\n",
    "    q = 1.0-p # prob of reward if choose the incorrect side\n",
    "    s = 1-transition_prob\n",
    "    \n",
    "    '''\n",
    "    Set up outcome & transition matrices\n",
    "    '''\n",
    "    #transition matrix\n",
    "    '''\n",
    "    set transition matrix T such that T[i,j] is the probability of transitioning\n",
    "    from state i to state j. \n",
    "    If the true number of trials before switching is 'duration', then set the\n",
    "    probability of switching to be 1 / duration, and the probability of \n",
    "    staying to 1 - 1 / duration\n",
    "    '''\n",
    "    T = np.array([[s, 1.0-s],\n",
    "                 [1.0-s,s]])\n",
    "\n",
    "    #observation array\n",
    "    '''\n",
    "    set up array such that O[r,z,a] = Pr(reward=r | state=z,action=a)\n",
    "\n",
    "    eg. when action = L, observation matrix should be:\n",
    "    O[:,:,1]    = [P(r=0 | z=0,a=0),  P(r=0 | z=1,a=0)\n",
    "                   P(r=1 | z=0,a=0),  P(r=1 | z=1,a=0)]\n",
    "                = [1-p, 1-q\n",
    "                    p,   q]\n",
    "    '''\n",
    "    O = np.zeros((2,2,2))\n",
    "    # let a 'right' choice be represented by '0'\n",
    "    O[:,:,0] = np.array([[1.0-p, 1.0-q],\n",
    "                         [p,q]])\n",
    "    O[:,:,1] = np.array([[1.0-q, 1.0-p],\n",
    "                         [q,p]])\n",
    "    \n",
    "    #set test data\n",
    "    data_test = data.copy()\n",
    "    #extract number of trials in dataset\n",
    "    n_trials = data_test.shape[0]\n",
    "    \n",
    "    #extract relevant features\n",
    "    port_features = []\n",
    "    reward_features = []\n",
    "\n",
    "    #change right port to -1 instead of 0\n",
    "    for col in data:\n",
    "        if '_Port' in col:\n",
    "            port_features.append(col)\n",
    "        elif '_Reward' in col:\n",
    "            reward_features.append(col)\n",
    "    \n",
    "    port_features = port_features[-n_prev_trials:]\n",
    "    reward_features = reward_features[-n_prev_trials:]\n",
    "    \n",
    "    #initialize prediction array\n",
    "    y_predict = np.zeros(n_trials)\n",
    "    likeli = []\n",
    "    master_beliefs = np.zeros(n_trials)\n",
    "    \n",
    "    #loop through each trial\n",
    "    for trial in range(data_test.shape[0]):\n",
    "        curr_trial = data_test.iloc[trial]\n",
    "        actions = curr_trial[port_features].values\n",
    "        rewards = curr_trial[reward_features].values\n",
    "        beliefs = np.nan*np.ones((n_prev_trials+1,2))\n",
    "        beliefs[0] = [0.5,0.5] #initialize both sides with equal probability\n",
    "        #run the algorithm\n",
    "        for play in range(n_prev_trials):\n",
    "\n",
    "            assert np.allclose(beliefs[play].sum(), 1.0), \"Beliefs must sum to one!\"\n",
    "\n",
    "            #update neg log likelihood\n",
    "            likeli.append(-1*np.log(beliefs[play,actions[play]]))\n",
    "\n",
    "            #update beliefs for next play\n",
    "            #step 1: multiply by p(r_t | z_t = k, a_t)\n",
    "            belief_temp = O[rewards[play],:,actions[play]] * beliefs[play]\n",
    "\n",
    "            #step 2: sum over z_t, weighting by transition matrix\n",
    "            beliefs[play+1] = T.dot(belief_temp)\n",
    "\n",
    "            #step 3: normalize\n",
    "            beliefs[play+1] /= beliefs[play+1].sum()\n",
    "\n",
    "        #predict action\n",
    "        y_predict[trial] = np.where(beliefs[-1] == beliefs[-1].max())[0][0]\n",
    "        master_beliefs[trial] = beliefs[-1].max()\n",
    "        \n",
    "    return y_predict"
   ]
  },
  {
   "cell_type": "markdown",
   "metadata": {},
   "source": [
    "## To assess how the model is doing, we want to divide the predictions into 2 categories: 'stays' and 'switches'. The interesting behavior occurs when the mouse suddenly decides to 'switch' from one port to another [which only happens in ~10% of the trials]."
   ]
  },
  {
   "cell_type": "code",
   "execution_count": 9,
   "metadata": {
    "collapsed": false,
    "scrolled": true
   },
   "outputs": [
    {
     "name": "stderr",
     "output_type": "stream",
     "text": [
      "/Users/shayneufeld/anaconda/envs/cagrin/lib/python3.5/site-packages/ipykernel/__main__.py:78: VisibleDeprecationWarning: using a non-integer number instead of an integer will result in an error in the future\n",
      "/Users/shayneufeld/anaconda/envs/cagrin/lib/python3.5/site-packages/ipykernel/__main__.py:82: VisibleDeprecationWarning: using a non-integer number instead of an integer will result in an error in the future\n"
     ]
    },
    {
     "name": "stdout",
     "output_type": "stream",
     "text": [
      "          Predicted NO  Predicted YES\n",
      "True NO         2656.0          194.0\n",
      "True YES          69.0          121.0\n",
      "\n",
      "F1: 0.479\n",
      "\n",
      "Accuracy on class 0: 0.93\n",
      "Accuracy on class 1: 0.64\n",
      "\n"
     ]
    }
   ],
   "source": [
    "y_predict = hmm_predict(data,0.8,0.02)\n",
    "y_test = data['Decision'].values\n",
    "\n",
    "prev_port_test = data['1_Port'].values\n",
    "\n",
    "#switches\n",
    "y_test_switch = np.abs(y_test - prev_port_test)\n",
    "y_predict_switch = np.abs(y_predict - prev_port_test)\n",
    "acc_pos,acc_neg,F1=sf.score_both_and_confuse(y_predict_switch,y_test_switch,confusion=False,disp=True)"
   ]
  },
  {
   "cell_type": "markdown",
   "metadata": {},
   "source": [
    "## Compare to baseline 'win-stay lose-switch model'"
   ]
  },
  {
   "cell_type": "code",
   "execution_count": 10,
   "metadata": {
    "collapsed": false
   },
   "outputs": [
    {
     "name": "stdout",
     "output_type": "stream",
     "text": [
      "          Predicted NO  Predicted YES\n",
      "True NO         2149.0          701.0\n",
      "True YES          14.0          176.0\n",
      "\n",
      "F1: 0.330\n",
      "\n",
      "Accuracy on class 0: 0.75\n",
      "Accuracy on class 1: 0.93\n",
      "\n"
     ]
    }
   ],
   "source": [
    "y_predict_triv = data['1_Reward'].values == 0\n",
    "y_test = data['Decision'].values\n",
    "\n",
    "prev_port_test = data['1_Port'].values\n",
    "\n",
    "#switches\n",
    "y_test_switch = np.abs(y_test - prev_port_test)\n",
    "y_predict_switch = np.abs(y_predict_triv - prev_port_test)\n",
    "acc_pos,acc_neg,F1=sf.score_both_and_confuse(y_predict_triv,y_test_switch,confusion=False,disp=True)"
   ]
  },
  {
   "cell_type": "markdown",
   "metadata": {},
   "source": [
    "## How well does the model do as a function of the number of previous trials taken into consideration? "
   ]
  },
  {
   "cell_type": "code",
   "execution_count": 11,
   "metadata": {
    "collapsed": false
   },
   "outputs": [
    {
     "name": "stderr",
     "output_type": "stream",
     "text": [
      "/Users/shayneufeld/anaconda/envs/cagrin/lib/python3.5/site-packages/ipykernel/__main__.py:78: VisibleDeprecationWarning: using a non-integer number instead of an integer will result in an error in the future\n",
      "/Users/shayneufeld/anaconda/envs/cagrin/lib/python3.5/site-packages/ipykernel/__main__.py:82: VisibleDeprecationWarning: using a non-integer number instead of an integer will result in an error in the future\n"
     ]
    }
   ],
   "source": [
    "acc_switches,acc_stays,F1 = [],[],[]\n",
    "\n",
    "for num_trials in np.arange(1,11):\n",
    "    y_predict = hmm_predict(data,0.8,0.02,n_prev_trials=num_trials)\n",
    "    prev_port_test = data['1_Port'].values\n",
    "    #switches\n",
    "    y_test_switch = np.abs(y_test - prev_port_test)\n",
    "    y_predict_switch = np.abs(y_predict - prev_port_test)\n",
    "    acc_pos,acc_neg,f=sf.score_both_and_confuse(y_predict_switch,y_test_switch,confusion=False,disp=False)\n",
    "    acc_switches.append(acc_pos)\n",
    "    acc_stays.append(acc_neg)\n",
    "    F1.append(f)"
   ]
  },
  {
   "cell_type": "code",
   "execution_count": 12,
   "metadata": {
    "collapsed": false
   },
   "outputs": [
    {
     "data": {
      "text/plain": [
       "<matplotlib.text.Text at 0x109a03c50>"
      ]
     },
     "execution_count": 12,
     "metadata": {},
     "output_type": "execute_result"
    },
    {
     "data": {
      "text/plain": [
       "<matplotlib.figure.Figure at 0x111413e80>"
      ]
     },
     "metadata": {},
     "output_type": "display_data"
    },
    {
     "data": {
      "image/png": "[encoded data removed]",
      "text/plain": [
       "<matplotlib.figure.Figure at 0x111413b38>"
      ]
     },
     "metadata": {},
     "output_type": "display_data"
    }
   ],
   "source": [
    "sns.set_style('white')\n",
    "x = np.arange(1,11)\n",
    "plt.figure(figsize=(5,5))\n",
    "fig,ax1 = plt.subplots()\n",
    "ax2 = ax1.twinx()\n",
    "\n",
    "ax2.plot(x,F1,color='grey',label = 'HMM F1 score',linewidth=4,alpha=0.5)\n",
    "ax2.hlines(y=0.33,xmin=1,xmax=10,color='grey',alpha=0.6,linestyle='dotted',label='win stay lose switch')\n",
    "ax1.plot(x,acc_switches,color='green',label='accuracy on switches',linewidth=4)\n",
    "ax1.plot(x,acc_stays,color='purple',label='accuracy on stays',linewidth=4)\n",
    "ax1.set_ylim(0,1)\n",
    "ax2.set_ylim(0.25,0.5)\n",
    "ax1.set_xlabel('Number of previous trials used to predict current decision')\n",
    "ax1.set_ylabel('Classification accuracy')\n",
    "ax2.set_ylabel('F1 score',color='grey')\n",
    "ax1.legend(loc='best')\n",
    "ax2.legend(loc='lower right')\n",
    "ax2.tick_params(axis='y',colors='grey')\n",
    "plt.title('Model accuracy vs # of trials in the past considered',fontsize=15,x=0.5,y=1.05)"
   ]
  },
  {
   "cell_type": "markdown",
   "metadata": {},
   "source": [
    "# Other stuff in case the conversation goes that way..."
   ]
  },
  {
   "cell_type": "code",
   "execution_count": 13,
   "metadata": {
    "collapsed": false
   },
   "outputs": [],
   "source": [
    "def train_hmm(data_train,emission_probs,transition_probs,num_trials=10):\n",
    "    '''\n",
    "    Computes the most likely emission & transition probabilities for the hidden Markov model based on the training set.\n",
    "    For every trial, the model computes the belief in the latent state for the t+1 trial. The likelihood for that trial\n",
    "    is defined as the belief the model had in the action chosen by the mouse. IE if the model had belief = 0.7 for\n",
    "    the left port, and the mouse chose left, the likelihood for the model with those parameters for that trial is 0.7\n",
    "    \n",
    "    The model cycles through the data and sums the likelihood for each combination of emission and transition\n",
    "    probabilities.\n",
    "    \n",
    "    Inputs\n",
    "        - data_train         - pandas dataframe training set\n",
    "        - num_trials         - number of trials in the past to consider when computing belief\n",
    "        - emission_probs     - range of emission probabilites to try\n",
    "        - transition probs   - range of transition probabilites to try\n",
    "    Ouputs\n",
    "        - [optimal_emmission, optimal_transition] - the parameters most likely under the training data\n",
    "    \n",
    "    '''\n",
    "    \n",
    "    #make a copy of the data to work with\n",
    "    data = data_train.copy()\n",
    "    n_trials = data.shape[0] #number of trials in training set\n",
    "    \n",
    "    '''\n",
    "    PARAMETERS TO TUNE\n",
    "    '''\n",
    "    \n",
    "    likeli_df = pd.DataFrame(columns=['Likeli','p','t'])\n",
    "    \n",
    "    port_features = []\n",
    "    reward_features = []\n",
    "\n",
    "    #change right port to -1 instead of 0\n",
    "    for col in data:\n",
    "        if '_Port' in col:\n",
    "            port_features.append(col)\n",
    "        elif '_Reward' in col:\n",
    "            reward_features.append(col)\n",
    "            \n",
    "    #loop through parameters\n",
    "    for p in emission_probs:\n",
    "        \n",
    "        q = 1.0-p # prob of reward if choose the incorrect side\n",
    "\n",
    "        for t in transition_probs:\n",
    "            '''\n",
    "            Set up transition matrix and observation matrix\n",
    "            '''\n",
    "            #transition matrix\n",
    "            s = 1 - 1./t\n",
    "            T = np.array([[s, 1.0-s],\n",
    "                         [1.0-s,s]])\n",
    "            #observation matrix\n",
    "            '''\n",
    "            set up array such that O[r,z,a] = Pr(reward=r | state=z,action=a)\n",
    "\n",
    "            eg. when action = R, observation matrix should be:\n",
    "            O[:,:,0]    = [P(r=0 | z=0,a=0),  P(r=0 | z=1,a=0)\n",
    "                           P(r=1 | z=0,a=0),  P(r=1 | z=1,a=0)]\n",
    "                        = [1-p, 1-q\n",
    "                            p,   q]\n",
    "            '''\n",
    "            O = np.zeros((2,2,2))\n",
    "            # let a 'right' choice be represented by '0'\n",
    "            O[:,:,0] = np.array([[1.0-p, 1.0-q],\n",
    "                                 [p,q]])\n",
    "            O[:,:,1] = np.array([[1.0-q, 1.0-p],\n",
    "                                 [q,p]])\n",
    "\n",
    "            #TEST: All conditional probability distributions must sum to one\n",
    "            #assert np.allclose(O.sum(0),1), \"All conditional probability distributions must sum to one!\n",
    "            '''\n",
    "            run game\n",
    "            '''\n",
    "            likeli = []\n",
    "            \n",
    "            for trial in range(n_trials):\n",
    "\n",
    "                curr_trial = data_test.iloc[trial]\n",
    "                actions = curr_trial[port_features].values\n",
    "                rewards = curr_trial[reward_features].values\n",
    "                beliefs = np.nan*np.ones((num_trials+1,2))\n",
    "                beliefs[0] = [0.5,0.5] #initialize both sides with equal probability\n",
    "                \n",
    "                #run the algorithm\n",
    "                for play in range(num_trials):\n",
    "\n",
    "                    assert np.allclose(beliefs[play].sum(), 1.0), \"Beliefs must sum to one!\"\n",
    "\n",
    "                    #update neg log likelihood\n",
    "                    likeli.append(-1*np.log(beliefs[play,actions[play]]))\n",
    "\n",
    "                    #update beliefs for next play\n",
    "                    #step 1: multiply by p(r_t | z_t = k, a_t)\n",
    "                    belief_temp = O[rewards[play],:,actions[play]] * beliefs[play]\n",
    "\n",
    "                    #step 2: sum over z_t, weighting by transition matrix\n",
    "                    beliefs[play+1] = T.dot(belief_temp)\n",
    "\n",
    "                    #step 3: normalize\n",
    "                    beliefs[play+1] /= beliefs[play+1].sum()\n",
    "\n",
    "                #update neg log likelihood\n",
    "                likeli.append(-1*np.log(beliefs[-1,actions[-1]]))\n",
    "                    \n",
    "            d = {'Likeli':np.sum(likeli),'p':p,'t':t}\n",
    "\n",
    "            likeli_df = likeli_df.append(pd.DataFrame(data=d,index=[0]))\n",
    "           \n",
    "        optimal_emmission = likeli_df[likeli_df['Likeli'] == likeli_df['Likeli'].min()]['p'].values\n",
    "        optimal_transition = likeli_df[likeli_df['Likeli'] == likeli_df['Likeli'].min()]['t'].values\n",
    "    \n",
    "    return [optimal_emmission,optimal_transition,likeli_df]"
   ]
  },
  {
   "cell_type": "code",
   "execution_count": 14,
   "metadata": {
    "collapsed": true
   },
   "outputs": [],
   "source": [
    "def logreg_and_eval_withports_and_interactions(data,num_rewards=10,num_ports=1,test_data=False,interaction_deg=4):\n",
    "    '''\n",
    "    Perform Logistic Regression on a pandas dataframe of trials (from feature matrix) with interactions\n",
    "    \n",
    "    Inputs:\n",
    "        - data: pandas dataframe of trials (from feature matrix)\n",
    "    Outputs:\n",
    "        - logreg: trained logistic regression model (from sklearn)\n",
    "        - stats:  pandas dataframe with F1, pseudo-R2, and BIC scores from model\n",
    "        - coeffs: beta coefficients from logreg\n",
    "    \n",
    "    '''\n",
    "    \n",
    "    from statsmodels.discrete.discrete_model import Logit\n",
    "    \n",
    "    port_features = []\n",
    "    reward_features = []\n",
    "\n",
    "    #change right port to -1 instead of 0\n",
    "    for col in data:\n",
    "        if '_Port' in col:\n",
    "            data.loc[data[col] == 0,col] = -1\n",
    "            port_features.append(col)\n",
    "        elif '_Reward' in col:\n",
    "            reward_features.append(col)\n",
    "\n",
    "    #create new feature matrix\n",
    "    d = data.copy()\n",
    "    for i in range(len(port_features)):\n",
    "        d[reward_features[i]] = d[reward_features[i]].values*d[port_features[i]].values\n",
    "    \n",
    "    \n",
    "    #determine the features\n",
    "    features = reward_features.copy()\n",
    "    if num_rewards == 0:\n",
    "        features = port_features[-1*num_ports:]\n",
    "    elif num_ports == 0:\n",
    "        features = features[-1*num_rewards:] #only take the num of rewards specificied in the function\n",
    "    else:\n",
    "        features = features[-1*num_rewards:]\n",
    "        features = np.append(features,port_features[-1*num_ports:])\n",
    "    \n",
    "    print(features)\n",
    "    features = np.append(features,'Decision') #finally append the decision so we can take it to predict later\n",
    "    \n",
    "    \n",
    "    \n",
    "    #final version of data\n",
    "    d = d[features].copy() #this now just has the features we want and the decision we want to predict\n",
    "    \n",
    "    #do the same thing for the test data if it exists!\n",
    "    if test_data is not False:\n",
    "        for col in test_data:\n",
    "            if '_Port' in col:\n",
    "                test_data.loc[test_data[col] == 0,col] = -1\n",
    "\n",
    "        #create new feature matrix\n",
    "        data_test_new = test_data.copy()\n",
    "        for i in range(len(port_features)):\n",
    "            data_test_new[reward_features[i]] = test_data[reward_features[i]].values*test_data[port_features[i]].values\n",
    "        \n",
    "        d_test = data_test_new[features].copy()\n",
    "    \n",
    "    \n",
    "        #set training and testing sets now\n",
    "        x_train = d.iloc[:,:-1].values\n",
    "        y_train = d.iloc[:,-1].values\n",
    "        x_test = d_test.iloc[:,:-1].values\n",
    "        y_test = d_test.iloc[:,-1].values\n",
    "        \n",
    "        prev_port_test = test_data['1_Port'].values\n",
    "        prev_port_test[prev_port_test==-1] = 0\n",
    "    \n",
    "    #if there is no test data, then split up the data into training and testing\n",
    "    else:\n",
    "        #extract features and decisions\n",
    "        x = d.iloc[:,:-1].values\n",
    "        y = d.iloc[:,-1].values\n",
    "\n",
    "        #split into training and testing\n",
    "        n_trials = x.shape[0]\n",
    "        shuf_inds = np.random.permutation(n_trials)\n",
    "        split_ind = int(n_trials*0.7)\n",
    "\n",
    "        x_train = x[shuf_inds[:split_ind],:]\n",
    "        y_train = y[shuf_inds[:split_ind]]\n",
    "\n",
    "        x_test = x[shuf_inds[split_ind:],:]\n",
    "        y_test = y[shuf_inds[split_ind:]]\n",
    "        \n",
    "        #extract previous port decision for test set\n",
    "        #these will be used to calculate switches on the test predictions\n",
    "        prev_port_test = data['1_Port'].values[shuf_inds[split_ind:]]\n",
    "        prev_port_test[prev_port_test==-1] = 0\n",
    "    \n",
    "    '''\n",
    "    Modeling\n",
    "    '''\n",
    "    \n",
    "    #create interaction terms\n",
    "    poly = PolynomialFeatures(degree=interaction_deg,interaction_only=True,include_bias=True)\n",
    "    x_train = poly.fit_transform(x_train)\n",
    "    x_test = poly.fit_transform(x_test)\n",
    "    print('x_train shape: %.0f' % x_train.shape[1])\n",
    "    \n",
    "    \n",
    "    #fit logistic regression\n",
    "    logreg = sklearn.linear_model.LogisticRegressionCV()\n",
    "    logreg.fit(x_train,y_train)\n",
    "    \n",
    "    #predict on testing set\n",
    "    y_predict = logreg.predict(x_test)\n",
    "    y_predict_proba = logreg.predict_proba(x_test)\n",
    "    \n",
    "    #model accuracy\n",
    "    score = logreg.score(x_test,y_test)\n",
    "    \n",
    "    #calculating pseudo-R2 and BIC from statsmodel OLS\n",
    "    model = Logit(y_train,x_train)\n",
    "    rslt  = model.fit()\n",
    "\n",
    "    #switches\n",
    "    y_test_switch = np.abs(y_test - prev_port_test)\n",
    "    y_predict_switch = np.abs(y_predict - prev_port_test)\n",
    "    acc_pos,acc_neg,F1=sf.score_both_and_confuse(y_predict_switch,y_test_switch,confusion=False,disp=False)\n",
    "    \n",
    "    #extract coefficients\n",
    "    coefs = logreg.coef_ #retrieve coefs\n",
    "    coefs = np.append(coefs[0],logreg.intercept_) #add bias coef\n",
    "    \n",
    "    #create stats database to return\n",
    "    d_ = {'pseudo-R2':rslt.prsquared,'stay':acc_pos,'switch':acc_neg,'Accuracy':score,'BIC':rslt.bic,'negative loglikelihood':-1*rslt.llf}\n",
    "    stats = pd.DataFrame(data=d_,index=[0])\n",
    "    features = features[:-1]\n",
    "    features = np.append(features,'Bias')\n",
    "    \n",
    "    #coefs = pd.DataFrame(data=coefs.reshape(1,-1),columns=poly.get_feature_names())\n",
    "    return logreg,stats"
   ]
  },
  {
   "cell_type": "markdown",
   "metadata": {},
   "source": [
    "# Logistic Regression [L2]"
   ]
  },
  {
   "cell_type": "code",
   "execution_count": 15,
   "metadata": {
    "collapsed": false
   },
   "outputs": [
    {
     "name": "stdout",
     "output_type": "stream",
     "text": [
      "['10_Reward' '9_Reward' '8_Reward' '7_Reward' '6_Reward' '5_Reward'\n",
      " '4_Reward' '3_Reward' '2_Reward' '1_Reward' '1_Port']\n",
      "x_train shape: 12\n",
      "Optimization terminated successfully.\n",
      "         Current function value: 0.140460\n",
      "         Iterations 9\n"
     ]
    }
   ],
   "source": [
    "model,stats = logreg_and_eval_withports_and_interactions(data,num_rewards=10,num_ports=1,test_data=False,interaction_deg=1)"
   ]
  },
  {
   "cell_type": "code",
   "execution_count": 16,
   "metadata": {
    "collapsed": false
   },
   "outputs": [
    {
     "data": {
      "text/html": [
       "<div>\n",
       "<table border=\"1\" class=\"dataframe\">\n",
       "  <thead>\n",
       "    <tr style=\"text-align: right;\">\n",
       "      <th></th>\n",
       "      <th>Accuracy</th>\n",
       "      <th>BIC</th>\n",
       "      <th>negative loglikelihood</th>\n",
       "      <th>pseudo-R2</th>\n",
       "      <th>stay</th>\n",
       "      <th>switch</th>\n",
       "    </tr>\n",
       "  </thead>\n",
       "  <tbody>\n",
       "    <tr>\n",
       "      <th>0</th>\n",
       "      <td>0.935307</td>\n",
       "      <td>689.753803</td>\n",
       "      <td>298.899275</td>\n",
       "      <td>0.796234</td>\n",
       "      <td>0.212121</td>\n",
       "      <td>0.991726</td>\n",
       "    </tr>\n",
       "  </tbody>\n",
       "</table>\n",
       "</div>"
      ],
      "text/plain": [
       "   Accuracy         BIC  negative loglikelihood  pseudo-R2      stay    switch\n",
       "0  0.935307  689.753803              298.899275   0.796234  0.212121  0.991726"
      ]
     },
     "execution_count": 16,
     "metadata": {},
     "output_type": "execute_result"
    }
   ],
   "source": [
    "stats"
   ]
  }
 ],
 "metadata": {
  "anaconda-cloud": {},
  "kernelspec": {
   "display_name": "Python [conda env:cagrin]",
   "language": "python",
   "name": "conda-env-cagrin-py"
  },
  "language_info": {
   "codemirror_mode": {
    "name": "ipython",
    "version": 3
   },
   "file_extension": ".py",
   "mimetype": "text/x-python",
   "name": "python",
   "nbconvert_exporter": "python",
   "pygments_lexer": "ipython3",
   "version": "3.5.2"
  }
 },
 "nbformat": 4,
 "nbformat_minor": 1
}

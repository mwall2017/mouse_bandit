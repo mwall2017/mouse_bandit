{
 "cells": [
  {
   "cell_type": "markdown",
   "metadata": {},
   "source": [
    "# Ideas for analysis\n",
    "\n",
    "## Neural data only\n",
    "\n",
    "- raster plot of events\n",
    "- distribution of events/sec (across neurons)\n",
    "- distribution of events/sec (across time)\n",
    "    - chunk into windows? \n",
    "\n",
    "\n",
    "## Neural data + behavior\n",
    "- align neural data to specific behavior switch points\n",
    "\n"
   ]
  }
 ],
 "metadata": {
  "anaconda-cloud": {},
  "kernelspec": {
   "display_name": "Python [conda env:ac209a]",
   "language": "python",
   "name": "conda-env-ac209a-py"
  },
  "language_info": {
   "codemirror_mode": {
    "name": "ipython",
    "version": 2
   },
   "file_extension": ".py",
   "mimetype": "text/x-python",
   "name": "python",
   "nbconvert_exporter": "python",
   "pygments_lexer": "ipython2",
   "version": "2.7.12"
  }
 },
 "nbformat": 4,
 "nbformat_minor": 1
}

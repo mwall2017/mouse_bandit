{
 "cells": [
  {
   "cell_type": "code",
   "execution_count": 1,
   "metadata": {
    "collapsed": false
   },
   "outputs": [
    {
     "name": "stderr",
     "output_type": "stream",
     "text": [
      "/Users/shayneufeld/anaconda/envs/cagrin/lib/python3.5/site-packages/sklearn/cross_validation.py:44: DeprecationWarning: This module was deprecated in version 0.18 in favor of the model_selection module into which all the refactored classes and functions are moved. Also note that the interface of the new CV iterators are different from that of this module. This module will be removed in 0.20.\n",
      "  \"This module will be removed in 0.20.\", DeprecationWarning)\n"
     ]
    }
   ],
   "source": [
    "import sys\n",
    "sys.path.append('/Users/shayneufeld/GitHub/mouse_bandit/data_preprocessing_code')\n",
    "sys.path.append('/Users/shayneufeld/GitHub/mouse_bandit')\n",
    "import support_functions as sf\n",
    "import numpy as np\n",
    "import matplotlib.pyplot as plt\n",
    "import seaborn as sns\n",
    "import pandas as pd\n",
    "import scipy as sp\n",
    "import bandit_preprocessing as bp\n",
    "import sklearn.linear_model\n",
    "from sklearn import discriminant_analysis\n",
    "from sklearn import cross_validation\n",
    "from sklearn import model_selection\n",
    "from sklearn import tree as Tree\n",
    "from sklearn import ensemble\n",
    "from sklearn import preprocessing\n",
    "from IPython.display import Image\n",
    "from sklearn.externals.six import StringIO\n",
    "import pydotplus\n",
    "import sklearn.tree\n",
    "%matplotlib inline "
   ]
  },
  {
   "cell_type": "markdown",
   "metadata": {},
   "source": [
    "## Load in data and one hot encode\n"
   ]
  },
  {
   "cell_type": "code",
   "execution_count": 2,
   "metadata": {
    "collapsed": false
   },
   "outputs": [
    {
     "data": {
      "text/html": [
       "<div>\n",
       "<table border=\"1\" class=\"dataframe\">\n",
       "  <thead>\n",
       "    <tr style=\"text-align: right;\">\n",
       "      <th></th>\n",
       "      <th>Mouse ID</th>\n",
       "      <th>Session ID</th>\n",
       "      <th>Port Streak</th>\n",
       "      <th>Reward Streak</th>\n",
       "      <th>10_Port</th>\n",
       "      <th>10_Reward</th>\n",
       "      <th>10_ITI</th>\n",
       "      <th>10_trialDuration</th>\n",
       "      <th>9_Port</th>\n",
       "      <th>9_Reward</th>\n",
       "      <th>...</th>\n",
       "      <th>2_Reward</th>\n",
       "      <th>2_ITI</th>\n",
       "      <th>2_trialDuration</th>\n",
       "      <th>1_Port</th>\n",
       "      <th>1_Reward</th>\n",
       "      <th>1_ITI</th>\n",
       "      <th>1_trialDuration</th>\n",
       "      <th>0_ITI</th>\n",
       "      <th>Decision</th>\n",
       "      <th>Switch</th>\n",
       "    </tr>\n",
       "  </thead>\n",
       "  <tbody>\n",
       "    <tr>\n",
       "      <th>0</th>\n",
       "      <td>dumble</td>\n",
       "      <td>70716</td>\n",
       "      <td>10.0</td>\n",
       "      <td>-1.0</td>\n",
       "      <td>1.0</td>\n",
       "      <td>1.0</td>\n",
       "      <td>1.801</td>\n",
       "      <td>0.439</td>\n",
       "      <td>1.0</td>\n",
       "      <td>1.0</td>\n",
       "      <td>...</td>\n",
       "      <td>1.0</td>\n",
       "      <td>2.234</td>\n",
       "      <td>0.325</td>\n",
       "      <td>1.0</td>\n",
       "      <td>0.0</td>\n",
       "      <td>2.133</td>\n",
       "      <td>0.482</td>\n",
       "      <td>1.411</td>\n",
       "      <td>1.0</td>\n",
       "      <td>0.0</td>\n",
       "    </tr>\n",
       "    <tr>\n",
       "      <th>1</th>\n",
       "      <td>dumble</td>\n",
       "      <td>70716</td>\n",
       "      <td>10.0</td>\n",
       "      <td>-2.0</td>\n",
       "      <td>1.0</td>\n",
       "      <td>1.0</td>\n",
       "      <td>1.828</td>\n",
       "      <td>0.353</td>\n",
       "      <td>1.0</td>\n",
       "      <td>1.0</td>\n",
       "      <td>...</td>\n",
       "      <td>0.0</td>\n",
       "      <td>2.133</td>\n",
       "      <td>0.482</td>\n",
       "      <td>1.0</td>\n",
       "      <td>0.0</td>\n",
       "      <td>1.411</td>\n",
       "      <td>0.435</td>\n",
       "      <td>2.169</td>\n",
       "      <td>0.0</td>\n",
       "      <td>1.0</td>\n",
       "    </tr>\n",
       "    <tr>\n",
       "      <th>2</th>\n",
       "      <td>dumble</td>\n",
       "      <td>70716</td>\n",
       "      <td>1.0</td>\n",
       "      <td>-3.0</td>\n",
       "      <td>1.0</td>\n",
       "      <td>1.0</td>\n",
       "      <td>1.917</td>\n",
       "      <td>0.416</td>\n",
       "      <td>1.0</td>\n",
       "      <td>1.0</td>\n",
       "      <td>...</td>\n",
       "      <td>0.0</td>\n",
       "      <td>1.411</td>\n",
       "      <td>0.435</td>\n",
       "      <td>0.0</td>\n",
       "      <td>0.0</td>\n",
       "      <td>2.169</td>\n",
       "      <td>0.395</td>\n",
       "      <td>3.838</td>\n",
       "      <td>0.0</td>\n",
       "      <td>0.0</td>\n",
       "    </tr>\n",
       "    <tr>\n",
       "      <th>3</th>\n",
       "      <td>dumble</td>\n",
       "      <td>70716</td>\n",
       "      <td>2.0</td>\n",
       "      <td>-4.0</td>\n",
       "      <td>1.0</td>\n",
       "      <td>1.0</td>\n",
       "      <td>2.160</td>\n",
       "      <td>0.661</td>\n",
       "      <td>1.0</td>\n",
       "      <td>1.0</td>\n",
       "      <td>...</td>\n",
       "      <td>0.0</td>\n",
       "      <td>2.169</td>\n",
       "      <td>0.395</td>\n",
       "      <td>0.0</td>\n",
       "      <td>0.0</td>\n",
       "      <td>3.838</td>\n",
       "      <td>0.469</td>\n",
       "      <td>1.846</td>\n",
       "      <td>1.0</td>\n",
       "      <td>1.0</td>\n",
       "    </tr>\n",
       "    <tr>\n",
       "      <th>4</th>\n",
       "      <td>dumble</td>\n",
       "      <td>70716</td>\n",
       "      <td>1.0</td>\n",
       "      <td>1.0</td>\n",
       "      <td>1.0</td>\n",
       "      <td>1.0</td>\n",
       "      <td>2.411</td>\n",
       "      <td>0.348</td>\n",
       "      <td>1.0</td>\n",
       "      <td>0.0</td>\n",
       "      <td>...</td>\n",
       "      <td>0.0</td>\n",
       "      <td>3.838</td>\n",
       "      <td>0.469</td>\n",
       "      <td>1.0</td>\n",
       "      <td>1.0</td>\n",
       "      <td>1.846</td>\n",
       "      <td>0.378</td>\n",
       "      <td>1.527</td>\n",
       "      <td>1.0</td>\n",
       "      <td>0.0</td>\n",
       "    </tr>\n",
       "  </tbody>\n",
       "</table>\n",
       "<p>5 rows × 47 columns</p>\n",
       "</div>"
      ],
      "text/plain": [
       "  Mouse ID  Session ID  Port Streak  Reward Streak  10_Port  10_Reward  \\\n",
       "0   dumble       70716         10.0           -1.0      1.0        1.0   \n",
       "1   dumble       70716         10.0           -2.0      1.0        1.0   \n",
       "2   dumble       70716          1.0           -3.0      1.0        1.0   \n",
       "3   dumble       70716          2.0           -4.0      1.0        1.0   \n",
       "4   dumble       70716          1.0            1.0      1.0        1.0   \n",
       "\n",
       "   10_ITI  10_trialDuration  9_Port  9_Reward   ...    2_Reward  2_ITI  \\\n",
       "0   1.801             0.439     1.0       1.0   ...         1.0  2.234   \n",
       "1   1.828             0.353     1.0       1.0   ...         0.0  2.133   \n",
       "2   1.917             0.416     1.0       1.0   ...         0.0  1.411   \n",
       "3   2.160             0.661     1.0       1.0   ...         0.0  2.169   \n",
       "4   2.411             0.348     1.0       0.0   ...         0.0  3.838   \n",
       "\n",
       "   2_trialDuration  1_Port  1_Reward  1_ITI  1_trialDuration  0_ITI  Decision  \\\n",
       "0            0.325     1.0       0.0  2.133            0.482  1.411       1.0   \n",
       "1            0.482     1.0       0.0  1.411            0.435  2.169       0.0   \n",
       "2            0.435     0.0       0.0  2.169            0.395  3.838       0.0   \n",
       "3            0.395     0.0       0.0  3.838            0.469  1.846       1.0   \n",
       "4            0.469     1.0       1.0  1.846            0.378  1.527       1.0   \n",
       "\n",
       "   Switch  \n",
       "0     0.0  \n",
       "1     1.0  \n",
       "2     0.0  \n",
       "3     1.0  \n",
       "4     0.0  \n",
       "\n",
       "[5 rows x 47 columns]"
      ]
     },
     "execution_count": 2,
     "metadata": {},
     "output_type": "execute_result"
    }
   ],
   "source": [
    "data = pd.read_csv('/Users/shayneufeld/GitHub/mouse_bandit/data/processed_data/new_master_8020_df.csv',index_col=0)\n",
    "data.head(5)"
   ]
  },
  {
   "cell_type": "markdown",
   "metadata": {},
   "source": [
    "## Drop session ID for now"
   ]
  },
  {
   "cell_type": "code",
   "execution_count": 3,
   "metadata": {
    "collapsed": false,
    "scrolled": true
   },
   "outputs": [
    {
     "data": {
      "text/html": [
       "<div>\n",
       "<table border=\"1\" class=\"dataframe\">\n",
       "  <thead>\n",
       "    <tr style=\"text-align: right;\">\n",
       "      <th></th>\n",
       "      <th>Mouse ID</th>\n",
       "      <th>Port Streak</th>\n",
       "      <th>Reward Streak</th>\n",
       "      <th>10_Port</th>\n",
       "      <th>10_Reward</th>\n",
       "      <th>10_ITI</th>\n",
       "      <th>10_trialDuration</th>\n",
       "      <th>9_Port</th>\n",
       "      <th>9_Reward</th>\n",
       "      <th>9_ITI</th>\n",
       "      <th>...</th>\n",
       "      <th>2_Reward</th>\n",
       "      <th>2_ITI</th>\n",
       "      <th>2_trialDuration</th>\n",
       "      <th>1_Port</th>\n",
       "      <th>1_Reward</th>\n",
       "      <th>1_ITI</th>\n",
       "      <th>1_trialDuration</th>\n",
       "      <th>0_ITI</th>\n",
       "      <th>Decision</th>\n",
       "      <th>Switch</th>\n",
       "    </tr>\n",
       "  </thead>\n",
       "  <tbody>\n",
       "    <tr>\n",
       "      <th>0</th>\n",
       "      <td>dumble</td>\n",
       "      <td>10.0</td>\n",
       "      <td>-1.0</td>\n",
       "      <td>1.0</td>\n",
       "      <td>1.0</td>\n",
       "      <td>1.801</td>\n",
       "      <td>0.439</td>\n",
       "      <td>1.0</td>\n",
       "      <td>1.0</td>\n",
       "      <td>1.828</td>\n",
       "      <td>...</td>\n",
       "      <td>1.0</td>\n",
       "      <td>2.234</td>\n",
       "      <td>0.325</td>\n",
       "      <td>1.0</td>\n",
       "      <td>0.0</td>\n",
       "      <td>2.133</td>\n",
       "      <td>0.482</td>\n",
       "      <td>1.411</td>\n",
       "      <td>1.0</td>\n",
       "      <td>0.0</td>\n",
       "    </tr>\n",
       "    <tr>\n",
       "      <th>1</th>\n",
       "      <td>dumble</td>\n",
       "      <td>10.0</td>\n",
       "      <td>-2.0</td>\n",
       "      <td>1.0</td>\n",
       "      <td>1.0</td>\n",
       "      <td>1.828</td>\n",
       "      <td>0.353</td>\n",
       "      <td>1.0</td>\n",
       "      <td>1.0</td>\n",
       "      <td>1.917</td>\n",
       "      <td>...</td>\n",
       "      <td>0.0</td>\n",
       "      <td>2.133</td>\n",
       "      <td>0.482</td>\n",
       "      <td>1.0</td>\n",
       "      <td>0.0</td>\n",
       "      <td>1.411</td>\n",
       "      <td>0.435</td>\n",
       "      <td>2.169</td>\n",
       "      <td>0.0</td>\n",
       "      <td>1.0</td>\n",
       "    </tr>\n",
       "    <tr>\n",
       "      <th>2</th>\n",
       "      <td>dumble</td>\n",
       "      <td>1.0</td>\n",
       "      <td>-3.0</td>\n",
       "      <td>1.0</td>\n",
       "      <td>1.0</td>\n",
       "      <td>1.917</td>\n",
       "      <td>0.416</td>\n",
       "      <td>1.0</td>\n",
       "      <td>1.0</td>\n",
       "      <td>2.160</td>\n",
       "      <td>...</td>\n",
       "      <td>0.0</td>\n",
       "      <td>1.411</td>\n",
       "      <td>0.435</td>\n",
       "      <td>0.0</td>\n",
       "      <td>0.0</td>\n",
       "      <td>2.169</td>\n",
       "      <td>0.395</td>\n",
       "      <td>3.838</td>\n",
       "      <td>0.0</td>\n",
       "      <td>0.0</td>\n",
       "    </tr>\n",
       "    <tr>\n",
       "      <th>3</th>\n",
       "      <td>dumble</td>\n",
       "      <td>2.0</td>\n",
       "      <td>-4.0</td>\n",
       "      <td>1.0</td>\n",
       "      <td>1.0</td>\n",
       "      <td>2.160</td>\n",
       "      <td>0.661</td>\n",
       "      <td>1.0</td>\n",
       "      <td>1.0</td>\n",
       "      <td>2.411</td>\n",
       "      <td>...</td>\n",
       "      <td>0.0</td>\n",
       "      <td>2.169</td>\n",
       "      <td>0.395</td>\n",
       "      <td>0.0</td>\n",
       "      <td>0.0</td>\n",
       "      <td>3.838</td>\n",
       "      <td>0.469</td>\n",
       "      <td>1.846</td>\n",
       "      <td>1.0</td>\n",
       "      <td>1.0</td>\n",
       "    </tr>\n",
       "    <tr>\n",
       "      <th>4</th>\n",
       "      <td>dumble</td>\n",
       "      <td>1.0</td>\n",
       "      <td>1.0</td>\n",
       "      <td>1.0</td>\n",
       "      <td>1.0</td>\n",
       "      <td>2.411</td>\n",
       "      <td>0.348</td>\n",
       "      <td>1.0</td>\n",
       "      <td>0.0</td>\n",
       "      <td>3.286</td>\n",
       "      <td>...</td>\n",
       "      <td>0.0</td>\n",
       "      <td>3.838</td>\n",
       "      <td>0.469</td>\n",
       "      <td>1.0</td>\n",
       "      <td>1.0</td>\n",
       "      <td>1.846</td>\n",
       "      <td>0.378</td>\n",
       "      <td>1.527</td>\n",
       "      <td>1.0</td>\n",
       "      <td>0.0</td>\n",
       "    </tr>\n",
       "  </tbody>\n",
       "</table>\n",
       "<p>5 rows × 46 columns</p>\n",
       "</div>"
      ],
      "text/plain": [
       "  Mouse ID  Port Streak  Reward Streak  10_Port  10_Reward  10_ITI  \\\n",
       "0   dumble         10.0           -1.0      1.0        1.0   1.801   \n",
       "1   dumble         10.0           -2.0      1.0        1.0   1.828   \n",
       "2   dumble          1.0           -3.0      1.0        1.0   1.917   \n",
       "3   dumble          2.0           -4.0      1.0        1.0   2.160   \n",
       "4   dumble          1.0            1.0      1.0        1.0   2.411   \n",
       "\n",
       "   10_trialDuration  9_Port  9_Reward  9_ITI   ...    2_Reward  2_ITI  \\\n",
       "0             0.439     1.0       1.0  1.828   ...         1.0  2.234   \n",
       "1             0.353     1.0       1.0  1.917   ...         0.0  2.133   \n",
       "2             0.416     1.0       1.0  2.160   ...         0.0  1.411   \n",
       "3             0.661     1.0       1.0  2.411   ...         0.0  2.169   \n",
       "4             0.348     1.0       0.0  3.286   ...         0.0  3.838   \n",
       "\n",
       "   2_trialDuration  1_Port  1_Reward  1_ITI  1_trialDuration  0_ITI  Decision  \\\n",
       "0            0.325     1.0       0.0  2.133            0.482  1.411       1.0   \n",
       "1            0.482     1.0       0.0  1.411            0.435  2.169       0.0   \n",
       "2            0.435     0.0       0.0  2.169            0.395  3.838       0.0   \n",
       "3            0.395     0.0       0.0  3.838            0.469  1.846       1.0   \n",
       "4            0.469     1.0       1.0  1.846            0.378  1.527       1.0   \n",
       "\n",
       "   Switch  \n",
       "0     0.0  \n",
       "1     1.0  \n",
       "2     0.0  \n",
       "3     1.0  \n",
       "4     0.0  \n",
       "\n",
       "[5 rows x 46 columns]"
      ]
     },
     "execution_count": 3,
     "metadata": {},
     "output_type": "execute_result"
    }
   ],
   "source": [
    "data = data.drop('Session ID',axis=1)\n",
    "data.head(5)"
   ]
  },
  {
   "cell_type": "code",
   "execution_count": 4,
   "metadata": {
    "collapsed": false
   },
   "outputs": [
    {
     "ename": "NameError",
     "evalue": "name 'data_encoded' is not defined",
     "output_type": "error",
     "traceback": [
      "\u001b[0;31m---------------------------------------------------------------------------\u001b[0m",
      "\u001b[0;31mNameError\u001b[0m                                 Traceback (most recent call last)",
      "\u001b[0;32m<ipython-input-4-781c28e313a6>\u001b[0m in \u001b[0;36m<module>\u001b[0;34m()\u001b[0m\n\u001b[1;32m      1\u001b[0m \u001b[0;31m#extract features and decisions\u001b[0m\u001b[0;34m\u001b[0m\u001b[0;34m\u001b[0m\u001b[0m\n\u001b[0;32m----> 2\u001b[0;31m \u001b[0mx\u001b[0m \u001b[0;34m=\u001b[0m \u001b[0mdata_encoded\u001b[0m\u001b[0;34m[\u001b[0m\u001b[0;34m:\u001b[0m\u001b[0;34m,\u001b[0m\u001b[0;34m:\u001b[0m\u001b[0;34m-\u001b[0m\u001b[0;36m2\u001b[0m\u001b[0;34m]\u001b[0m\u001b[0;34m\u001b[0m\u001b[0m\n\u001b[0m\u001b[1;32m      3\u001b[0m \u001b[0my\u001b[0m \u001b[0;34m=\u001b[0m \u001b[0mdata_encoded\u001b[0m\u001b[0;34m[\u001b[0m\u001b[0;34m:\u001b[0m\u001b[0;34m,\u001b[0m\u001b[0;34m-\u001b[0m\u001b[0;36m1\u001b[0m\u001b[0;34m]\u001b[0m\u001b[0;34m\u001b[0m\u001b[0m\n\u001b[1;32m      4\u001b[0m \u001b[0;34m\u001b[0m\u001b[0m\n\u001b[1;32m      5\u001b[0m \u001b[0;31m#split into training and testing\u001b[0m\u001b[0;34m\u001b[0m\u001b[0;34m\u001b[0m\u001b[0m\n",
      "\u001b[0;31mNameError\u001b[0m: name 'data_encoded' is not defined"
     ]
    }
   ],
   "source": [
    "#extract features and decisions\n",
    "x = data_encoded[:,:-2]\n",
    "y = data_encoded[:,-1]\n",
    "\n",
    "#split into training and testing\n",
    "n_trials = x.shape[0]\n",
    "shuf_inds = np.random.permutation(n_trials)\n",
    "split_ind = int(n_trials*0.7)\n",
    "\n",
    "x_train = x[shuf_inds[:split_ind],:]\n",
    "y_train = y[shuf_inds[:split_ind]]\n",
    "\n",
    "x_test = x[shuf_inds[split_ind:],:]\n",
    "y_test = y[shuf_inds[split_ind:]]"
   ]
  },
  {
   "cell_type": "code",
   "execution_count": null,
   "metadata": {
    "collapsed": false
   },
   "outputs": [],
   "source": [
    "print('# train trials: %.0f | # switches: %.0f --> %.01f percent' % (y_train.shape[0],np.sum(y_train),np.sum(y_train)*100.0/y_train.shape[0]))\n",
    "print('# test trials: %.0f | # switches: %.0f --> %.01f percent' % (y_test.shape[0],np.sum(y_test),np.sum(y_test)*100.0/y_test.shape[0]))"
   ]
  },
  {
   "cell_type": "code",
   "execution_count": null,
   "metadata": {
    "collapsed": false,
    "scrolled": true
   },
   "outputs": [],
   "source": [
    "plt.figure(figsize=(2,2))\n",
    "plt.pie([num_stays,num_switches],colors=['purple','green'])\n",
    "plt.axis('equal')"
   ]
  },
  {
   "cell_type": "markdown",
   "metadata": {},
   "source": [
    "# Benchmark Models\n",
    "\n",
    "## 1. Predict switch whenever previous reward == 0"
   ]
  },
  {
   "cell_type": "code",
   "execution_count": null,
   "metadata": {
    "collapsed": false
   },
   "outputs": [],
   "source": [
    "y_predict_bench = (x_test[:,-4] == 0).astype('int')\n",
    "acc_pos,acc_neg,F1=sf.score_both_and_confuse(y_predict_bench,y_test,confusion=False)"
   ]
  },
  {
   "cell_type": "markdown",
   "metadata": {},
   "source": [
    "## 2. Randomly guess stay or switch"
   ]
  },
  {
   "cell_type": "code",
   "execution_count": null,
   "metadata": {
    "collapsed": true
   },
   "outputs": [],
   "source": [
    "y_predict_rand = (np.random.uniform(size=y.shape[0]) >= 0.5).astype('int')\n",
    "y_predict_loseswitch = (x[:,22] == 0).astype('int')"
   ]
  },
  {
   "cell_type": "code",
   "execution_count": null,
   "metadata": {
    "collapsed": false
   },
   "outputs": [],
   "source": [
    "acc_pos,acc_neg,F1=sf.score_both_and_confuse(y_predict_rand,y,confusion=False)"
   ]
  },
  {
   "cell_type": "code",
   "execution_count": null,
   "metadata": {
    "collapsed": false
   },
   "outputs": [],
   "source": [
    "sns.set_style('white')\n",
    "plt.figure(figsize=(2,2))\n",
    "plt.plot([0,1,2],[0,0.5,1],color='green',alpha=0.5,linewidth=3)\n",
    "plt.plot([0,1,2],[1,0.5,0],color='purple',alpha=0.5,linewidth=3)\n",
    "plt.scatter(x=[0,1,2],y=[0,0.5,1],label='switching accuracy',color='green',s=70)\n",
    "plt.scatter(x=[0,1,2],y=[1,0.5,0],label='staying accuracy',color='purple',s=70)\n",
    "plt.hlines(y=0.5,xmin=-0.5,xmax=2.5,linestyles='dotted',alpha=0.5)\n",
    "plt.xlim(-0.1,2.1)\n",
    "plt.yticks([0,0.5,1],fontsize=14)\n",
    "plt.ylabel('Model Accuracy',fontsize=14)\n",
    "plt.xticks([0,1,2],['all stays','random','All switches'],fontsize=14,rotation=90)\n",
    "plt.ylim(-0.02,1.02)\n",
    "\n",
    "sns.despine()"
   ]
  },
  {
   "cell_type": "code",
   "execution_count": null,
   "metadata": {
    "collapsed": false
   },
   "outputs": [],
   "source": [
    "plt.figure(figsize=(2,2))\n",
    "plt.scatter(0,0,color='purple',label='all stays',s=100)\n",
    "plt.scatter(1,1,color='green',label='all switches',s=100)\n",
    "plt.scatter(0.5,0.5,color='black',label='random',s=100)\n",
    "plt.plot(np.linspace(0,1),np.linspace(0,1),color='black',linestyle='dotted')\n",
    "plt.legend(bbox_to_anchor = (2,0.5),fontsize=12)\n",
    "plt.xlim(-0.05,1.05)\n",
    "plt.ylim(-0.05,1.05)\n",
    "plt.xticks(fontsize=12)\n",
    "plt.yticks(fontsize=12)\n",
    "plt.ylabel('True switch prediction rate',fontsize=10)\n",
    "plt.xlabel('False switch prediction rate',fontsize=10)"
   ]
  },
  {
   "cell_type": "markdown",
   "metadata": {},
   "source": [
    "# Logistic Regression"
   ]
  },
  {
   "cell_type": "code",
   "execution_count": null,
   "metadata": {
    "collapsed": false
   },
   "outputs": [],
   "source": [
    "'''\n",
    "Logistic Regression\n",
    "'''\n",
    "P = np.arange(0,1,0.1)\n",
    "\n",
    "acc_cv = []\n",
    "\n",
    "for i,p in enumerate(P):\n",
    "    prior = np.array([1.0-p,p])\n",
    "    logreg = sklearn.linear_model.LogisticRegressionCV(class_weight = {0:1.0-p,1:p})\n",
    "    \n",
    "    kf = cross_validation.KFold(x_train.shape[0],n_folds=3)\n",
    "    cum_acc_pos = 0\n",
    "    cum_acc_neg = 0\n",
    "    \n",
    "    for train_index,test_index in kf:\n",
    "        x_train_cv = x_train[train_index,:]\n",
    "        y_train_cv = y_train[train_index]\n",
    "        x_test_cv = x_train[test_index,:]\n",
    "        y_test_cv = y_train[test_index]\n",
    "\n",
    "        logreg.fit(x_train_cv,y_train_cv)\n",
    "        y_predict = logreg.predict(x_test_cv)\n",
    "        \n",
    "        acc_pos,acc_neg,F1 = sf.score_both_and_confuse(y_predict,y_test_cv,confusion=False,disp=False)\n",
    "        \n",
    "        cum_acc_pos += acc_pos\n",
    "        cum_acc_neg += acc_neg\n",
    "\n",
    "    acc_cv.append([cum_acc_pos / 3.0,cum_acc_neg / 3.0])\n",
    "\n",
    "acc_cv = np.asarray(acc_cv)"
   ]
  },
  {
   "cell_type": "code",
   "execution_count": null,
   "metadata": {
    "collapsed": false
   },
   "outputs": [],
   "source": [
    "balanced_weight = 1.0 - np.sum(y_train).astype('float') / y_train.shape[0]\n",
    "\n",
    "plt.figure(figsize=(10,4))\n",
    "plt.plot(P,acc_cv[:,0],color='purple',label='switching accuracy')\n",
    "plt.plot(P,acc_cv[:,1],color='black',label='staying accuracy')\n",
    "plt.hlines(y=0.5,xmin=0,xmax=1,color='black',alpha=0.7,linestyle='dotted')\n",
    "plt.vlines(x=balanced_weight,ymin=0,ymax=1,alpha=0.7,color='orange',label='Balanced classes')\n",
    "plt.legend(loc='lower right',bbox_to_anchor=[0.7,0])\n",
    "plt.xlim(0,1)\n",
    "plt.xlabel('Class weight for switches')\n",
    "plt.ylabel('Model accuracy')\n",
    "plt.title('Logistic Regression')"
   ]
  },
  {
   "cell_type": "code",
   "execution_count": null,
   "metadata": {
    "collapsed": true
   },
   "outputs": [],
   "source": [
    "'''\n",
    "Logistic Regression\n",
    "'''\n",
    "alpha = np.logspace(-10,10,num=50)\n",
    "\n",
    "F1 = []\n",
    "\n",
    "for i,a in enumerate(alpha):\n",
    "    logreg = sklearn.linear_model.LogisticRegression(C = a, class_weight = 'balanced')\n",
    "    \n",
    "    kf = cross_validation.KFold(x_train.shape[0],n_folds=3)\n",
    "    F1_test = 0\n",
    "    F1_train = 0\n",
    "    \n",
    "    for train_index,test_index in kf:\n",
    "        x_train_cv = x_train[train_index,:]\n",
    "        y_train_cv = y_train[train_index]\n",
    "        x_test_cv = x_train[test_index,:]\n",
    "        y_test_cv = y_train[test_index]\n",
    "\n",
    "        logreg.fit(x_train_cv,y_train_cv)\n",
    "        y_predict_test = logreg.predict(x_test_cv)\n",
    "        y_predict_train = logreg.predict(x_train_cv)\n",
    "        \n",
    "        acc_pos,acc_neg,F1_test = sf.score_both_and_confuse(y_predict_test,y_test_cv,confusion=False,disp=False)\n",
    "        acc_pos,acc_neg,F1_train = sf.score_both_and_confuse(y_predict_train,y_train_cv,confusion=False,disp=False)\n",
    "        \n",
    "        F1_test += F1_test\n",
    "        F1_train += F1_train\n",
    "\n",
    "    F1.append([F1_train / 3.0,F1_test / 3.0])\n",
    "\n",
    "F1 = np.asarray(F1)"
   ]
  },
  {
   "cell_type": "code",
   "execution_count": null,
   "metadata": {
    "collapsed": false
   },
   "outputs": [],
   "source": [
    "plt.figure(figsize=(5,5))\n",
    "plt.plot(alpha,F1[:,0],color='black',label='train')\n",
    "plt.plot(alpha,F1[:,1],color='red',label='test')\n",
    "plt.xscale('log')\n",
    "plt.legend(loc='best')"
   ]
  },
  {
   "cell_type": "code",
   "execution_count": null,
   "metadata": {
    "collapsed": false,
    "scrolled": false
   },
   "outputs": [],
   "source": [
    "logreg = sklearn.linear_model.LogisticRegressionCV(Cs=50,penalty='l2',class_weight='balanced')\n",
    "logreg.fit(x_train,y_train)\n",
    "y_predict_logreg = logreg.predict(x_test)\n",
    "acc_pos,acc_neg,F1=sf.score_both_and_confuse(y_predict_logreg,y_test,confusion=False)"
   ]
  },
  {
   "cell_type": "code",
   "execution_count": null,
   "metadata": {
    "collapsed": false,
    "scrolled": false
   },
   "outputs": [],
   "source": [
    "coefs = logreg.coef_\n",
    "plt.figure(figsize=(10,5))\n",
    "plt.scatter(np.arange(coefs[0].shape[0]),coefs[0],color='purple')\n",
    "plt.xticks(np.arange(coefs[0].shape[0]),feature_names,rotation='vertical')\n",
    "plt.ylabel('beta value')\n",
    "plt.xlabel('Feature number')"
   ]
  },
  {
   "cell_type": "code",
   "execution_count": null,
   "metadata": {
    "collapsed": false
   },
   "outputs": [],
   "source": [
    "feature_order = ['1_Reward','2_Reward','3_Reward','4_Reward','5_Reward','Streak','0_ITI','1_ITI']\n",
    "order = []\n",
    "\n",
    "for f in feature_order:\n",
    "    order.append(data.columns.get_loc(f))\n",
    "\n",
    "coefs_lr = logreg.coef_[0]\n",
    "coefs_lr = coefs_lr / np.abs(coefs_lr).max()\n",
    "plt.figure(figsize=(10,8))\n",
    "plt.scatter(np.arange(len(order)),coefs_lr[order],color='black',s=200)\n",
    "plt.xticks(np.arange(len(order)),feature_names[order],rotation='vertical',fontsize=20)\n",
    "plt.yticks(fontsize=20)\n",
    "plt.hlines(y=0,xmin=-0.5,xmax=27,linestyle='dotted')\n",
    "plt.xlim(-0.2,8)\n",
    "plt.ylabel('beta value',fontsize=30)\n",
    "sns.despine()"
   ]
  },
  {
   "cell_type": "code",
   "execution_count": null,
   "metadata": {
    "collapsed": false,
    "scrolled": true
   },
   "outputs": [],
   "source": [
    "logreg."
   ]
  },
  {
   "cell_type": "markdown",
   "metadata": {
    "collapsed": false
   },
   "source": [
    "# LDA"
   ]
  },
  {
   "cell_type": "code",
   "execution_count": null,
   "metadata": {
    "collapsed": false
   },
   "outputs": [],
   "source": [
    "'''\n",
    "LDA\n",
    "'''\n",
    "P = np.arange(0,1,0.01)\n",
    "\n",
    "acc_cv = []\n",
    "\n",
    "for i,p in enumerate(P):\n",
    "    prior = np.array([1.0-p,p])\n",
    "    lda = discriminant_analysis.LinearDiscriminantAnalysis(priors = prior,solver='svd',shrinkage=None)\n",
    "    \n",
    "    kf = cross_validation.KFold(x_train.shape[0],n_folds=3)\n",
    "    cum_acc_pos = 0\n",
    "    cum_acc_neg = 0\n",
    "    \n",
    "    for train_index,test_index in kf:\n",
    "        x_train_cv = x_train[train_index,:]\n",
    "        y_train_cv = y_train[train_index]\n",
    "        x_test_cv = x_train[test_index,:]\n",
    "        y_test_cv = y_train[test_index]\n",
    "\n",
    "        lda.fit(x_train_cv,y_train_cv)\n",
    "        y_predict = lda.predict(x_test_cv)\n",
    "        \n",
    "        acc_pos,acc_neg,F1 = sf.score_both_and_confuse(y_predict,y_test_cv,confusion=False,disp=False)\n",
    "        \n",
    "        cum_acc_pos += acc_pos\n",
    "        cum_acc_neg += acc_neg\n",
    "\n",
    "    acc_cv.append([cum_acc_pos / 3.0,cum_acc_neg / 3.0])\n",
    "\n",
    "acc_cv = np.asarray(acc_cv)"
   ]
  },
  {
   "cell_type": "code",
   "execution_count": null,
   "metadata": {
    "collapsed": false,
    "scrolled": false
   },
   "outputs": [],
   "source": [
    "plt.figure(figsize=(10,4))\n",
    "plt.plot(P,acc_cv[:,0],color='purple',label='switching accuracy')\n",
    "plt.plot(P,acc_cv[:,1],color='black',label='staying accuracy')\n",
    "plt.hlines(y=0.5,xmin=0,xmax=1,color='black',alpha=0.7,linestyle='dotted')\n",
    "plt.legend(loc='lower right',bbox_to_anchor=[0.7,0])\n",
    "plt.xlim(0,1)\n",
    "plt.xlabel('Prior on switching')\n",
    "plt.ylabel('Model accuracy')\n",
    "plt.title('LDA')"
   ]
  },
  {
   "cell_type": "code",
   "execution_count": null,
   "metadata": {
    "collapsed": false,
    "scrolled": true
   },
   "outputs": [],
   "source": [
    "lda = discriminant_analysis.LinearDiscriminantAnalysis(priors=[0.45,0.55])\n",
    "lda.fit(x_train,y_train)\n",
    "y_predict_lda = lda.predict(x_test)\n",
    "acc_pos,acc_neg,F1=sf.score_both_and_confuse(y_predict_lda,y_test,disp=True,confusion=False)"
   ]
  },
  {
   "cell_type": "code",
   "execution_count": null,
   "metadata": {
    "collapsed": false,
    "scrolled": false
   },
   "outputs": [],
   "source": [
    "coefs = lda.coef_\n",
    "plt.figure(figsize=(10,5))\n",
    "plt.scatter(np.arange(coefs[0].shape[0]),coefs[0],color='purple')\n",
    "plt.xticks(np.arange(coefs[0].shape[0]),feature_names,rotation='vertical')\n",
    "plt.ylabel('beta value')\n",
    "plt.xlabel('Feature number')"
   ]
  },
  {
   "cell_type": "code",
   "execution_count": null,
   "metadata": {
    "collapsed": false
   },
   "outputs": [],
   "source": [
    "coefs.max()"
   ]
  },
  {
   "cell_type": "code",
   "execution_count": null,
   "metadata": {
    "collapsed": false
   },
   "outputs": [],
   "source": [
    "feature_order = ['1_Reward','2_Reward','3_Reward','4_Reward','5_Reward','1_trialDuration','2_trialDuration',\n",
    "                '3_trialDuration','0_ITI','1_ITI','Streak']\n",
    "order = []\n",
    "\n",
    "for f in feature_order:\n",
    "    order.append(data.columns.get_loc(f))\n",
    "\n",
    "coefs = lda.coef_[0]\n",
    "coefs = coefs / np.abs(coefs).max()\n",
    "plt.figure(figsize=(15,5))\n",
    "plt.scatter(np.arange(len(order)),coefs_lr[order],color='black',s=400,alpha=0.3,label='logreg')\n",
    "plt.scatter(np.arange(len(order)),coefs[order],color='black',s=400,alpha=0.8,label='LDA')\n",
    "plt.xticks(np.arange(len(order)),feature_names[order],rotation='vertical',fontsize=20)\n",
    "plt.yticks([-1,0,0.5],fontsize=20)\n",
    "plt.hlines(y=0,xmin=-0.5,xmax=27,linestyle='dotted')\n",
    "plt.xlim(-0.2,11)\n",
    "plt.ylabel('beta value',fontsize=30)\n",
    "plt.legend(bbox_to_anchor=(1.05,1.2),fontsize=20)\n",
    "sns.despine()"
   ]
  },
  {
   "cell_type": "markdown",
   "metadata": {},
   "source": [
    "# Decision Tree"
   ]
  },
  {
   "cell_type": "code",
   "execution_count": null,
   "metadata": {
    "collapsed": false
   },
   "outputs": [],
   "source": [
    "D = np.arange(1,17)\n",
    "\n",
    "acc_cv = []\n",
    "\n",
    "for i,d in enumerate(D):\n",
    "    tree = Tree.DecisionTreeClassifier(max_depth=d,class_weight='balanced')\n",
    "\n",
    "    kf = cross_validation.KFold(x_train.shape[0],n_folds=3)\n",
    "    cum_acc_pos = 0\n",
    "    cum_acc_neg = 0\n",
    "\n",
    "    for train_index,test_index in kf:\n",
    "        x_train_cv = x_train[train_index,:]\n",
    "        y_train_cv = y_train[train_index]\n",
    "        x_test_cv = x_train[test_index,:]\n",
    "        y_test_cv = y_train[test_index]\n",
    "\n",
    "        tree.fit(x_train_cv,y_train_cv)\n",
    "        y_predict = tree.predict(x_test_cv)\n",
    "\n",
    "        acc_pos,acc_neg,F1 = sf.score_both_and_confuse(y_predict,y_test_cv,confusion=False,disp=False)\n",
    "\n",
    "        cum_acc_pos += acc_pos\n",
    "        cum_acc_neg += acc_neg\n",
    "\n",
    "    acc_cv.append([cum_acc_pos / 3.0,cum_acc_neg / 3.0])\n",
    "\n",
    "acc_cv = np.asarray(acc_cv)"
   ]
  },
  {
   "cell_type": "code",
   "execution_count": null,
   "metadata": {
    "collapsed": false
   },
   "outputs": [],
   "source": [
    "plt.figure(figsize=(10,4))\n",
    "plt.plot(D,acc_cv[:,0],color='purple',label='switching accuracy')\n",
    "plt.plot(D,acc_cv[:,1],color='black',label='staying accuracy')\n",
    "plt.hlines(y=0.5,xmin=0,xmax=15,color='black',alpha=0.7,linestyle='dotted')\n",
    "plt.legend(loc='lower right',bbox_to_anchor=[0.7,0])\n",
    "plt.xlim(1,15)\n",
    "plt.ylim(0,1)\n",
    "plt.xlabel('Depth')\n",
    "plt.ylabel('Model accuracy')\n",
    "plt.title('Decision Tree')"
   ]
  },
  {
   "cell_type": "code",
   "execution_count": null,
   "metadata": {
    "collapsed": false
   },
   "outputs": [],
   "source": [
    "tree = Tree.DecisionTreeClassifier(max_depth = 3,class_weight='balanced',random_state=20)\n",
    "tree.fit(x_train,y_train)\n",
    "y_predict_tree = tree.predict(x_test)\n",
    "acc_pos,acc_neg,F1=sf.score_both_and_confuse(y_predict_tree,y_test,disp=True,confusion=False)"
   ]
  },
  {
   "cell_type": "code",
   "execution_count": null,
   "metadata": {
    "collapsed": false
   },
   "outputs": [],
   "source": [
    "dot_data = Tree.export_graphviz(tree,out_file=None,\n",
    "                     feature_names=data.columns.values[:-1],\n",
    "                     class_names = ['Stay','Switch'],\n",
    "                     filled=True,rounded=True,special_characters=True)\n",
    "\n",
    "graph = pydotplus.graph_from_dot_data(dot_data)\n",
    "\n",
    "Image(graph.create_png())"
   ]
  },
  {
   "cell_type": "code",
   "execution_count": null,
   "metadata": {
    "collapsed": false,
    "scrolled": false
   },
   "outputs": [],
   "source": [
    "tree_f_impt = tree.feature_importances_\n",
    "plt.figure(figsize=(10,5))\n",
    "plt.scatter(np.arange(coefs[0].shape[0]),tree_f_impt,color='purple')\n",
    "plt.xticks(np.arange(coefs[0].shape[0]),feature_names,rotation='vertical')\n",
    "plt.ylabel('Feature Importance')\n",
    "plt.xlabel('Feature number')"
   ]
  },
  {
   "cell_type": "markdown",
   "metadata": {},
   "source": [
    "## ROC graph"
   ]
  },
  {
   "cell_type": "code",
   "execution_count": null,
   "metadata": {
    "collapsed": true
   },
   "outputs": [],
   "source": [
    "from matplotlib import colors"
   ]
  },
  {
   "cell_type": "code",
   "execution_count": null,
   "metadata": {
    "collapsed": true
   },
   "outputs": [],
   "source": [
    "greys = plt.cm.get_cmap('Greys')"
   ]
  },
  {
   "cell_type": "code",
   "execution_count": null,
   "metadata": {
    "collapsed": false
   },
   "outputs": [],
   "source": [
    "sns.set_style('white')\n",
    "rocs = np.array([[.76,0.24],[0.81,0.18],[0.73,0.15],[0.88,0.24]])\n",
    "#rocs_untuned = np.array([[0.01,0],[0,0],[0.16,0.02]])\n",
    "plt.figure(figsize=(8,5))\n",
    "plt.scatter(rocs[0,1],rocs[0,0],color=greys(0.1),label='logreg',s=400)\n",
    "plt.scatter(rocs[1,1],rocs[1,0],color=greys(0.4),label='lda',s=400)\n",
    "plt.scatter(rocs[2,1],rocs[2,0],color=greys(0.75),label='decision tree',s=400)\n",
    "plt.scatter(rocs[3,1],rocs[3,0],color='red',label='win-stay lose-switch',s=400)\n",
    "plt.scatter(0.02,0.18,color='blue',label='Boosting',s=400)\n",
    "plt.scatter(0.11,0.65,color='blue',label='Random Forest',s=400,alpha=0.2)\n",
    "plt.plot(np.linspace(0,1),np.linspace(0,1),color='black',linestyle='dotted')\n",
    "plt.legend(bbox_to_anchor=(1.0,0.55),fontsize=15)\n",
    "plt.xlim(-0.02,1)\n",
    "plt.ylim(0,1)\n",
    "plt.xticks(fontsize=20)\n",
    "plt.yticks(fontsize=20)\n",
    "plt.ylabel('True switch prediction rate',fontsize=30)\n",
    "plt.xlabel('False switch prediction rate',fontsize=30)"
   ]
  },
  {
   "cell_type": "markdown",
   "metadata": {},
   "source": [
    "# Model accuracy graph"
   ]
  },
  {
   "cell_type": "code",
   "execution_count": null,
   "metadata": {
    "collapsed": false,
    "scrolled": false
   },
   "outputs": [],
   "source": [
    "true_switches = np.array([229,216,216])\n",
    "false_switches = np.array([746,581,778])\n",
    "ind = np.arange(3)\n",
    "plt.figure(figsize=(7,7))\n",
    "plt.hlines(y=260,xmin=-0.1,xmax=3,linestyle='dotted',alpha=0.5,linewidth=3,label='# actual switches')\n",
    "p1 = plt.bar(ind,true_switches,width=0.4,color='green',label='# correctly predicted switches',alpha=0.9)\n",
    "p2 = plt.bar(ind,false_switches,width=0.4,color='green',bottom=true_switches,label='# incorrectly predicted switches',alpha=0.4)\n",
    "plt.xlim(-0.1,2.5)\n",
    "plt.legend(bbox_to_anchor=(1.0,1.35),fontsize=25)\n",
    "plt.ylabel('# of trials (test data)',fontsize=30)\n",
    "plt.xticks(ind,['LogReg','LDA','Decision Tree'],rotation=75,fontsize=30)\n",
    "plt.yticks(fontsize=20)"
   ]
  },
  {
   "cell_type": "code",
   "execution_count": null,
   "metadata": {
    "collapsed": false
   },
   "outputs": [],
   "source": [
    "sns.set_style('white')\n",
    "plt.figure(figsize=(7,7))\n",
    "plt.plot([0,1,2],[0,0.5,1],color='green',alpha=0.5,linewidth=3,linestyle='dotted')\n",
    "plt.plot([0,1,2],[1,0.5,0],color='purple',alpha=0.5,linewidth=3,linestyle='dotted')\n",
    "#plt.scatter(x=[0,1,2],y=[0,0.5,1],label='switching accuracy',color='green',s=70)\n",
    "#plt.scatter(x=[0,1,2],y=[1,0.5,0],label='staying accuracy',color='purple',s=70)\n",
    "#plt.hlines(y=0.5,xmin=-0.5,xmax=2.5,linestyles='dotted',alpha=0.5)\n",
    "plt.scatter(x=0,y=0.76,color='purple')\n",
    "plt.scatter(x=0,y=0.88,color='green')\n",
    "plt.xlim(-0.1,2.1)\n",
    "plt.yticks([0,0.5,1],fontsize=20)\n",
    "plt.ylabel('Model Accuracy',fontsize=20)\n",
    "plt.xticks([0,1,2],['all stays','random','All switches'],fontsize=20)\n",
    "plt.ylim(-0.02,1.02)\n",
    "\n",
    "sns.despine()"
   ]
  },
  {
   "cell_type": "code",
   "execution_count": null,
   "metadata": {
    "collapsed": false
   },
   "outputs": [],
   "source": [
    "greens = plt.get_cmap('Greens')\n",
    "plt.figure(figsize=(10,10))\n",
    "plt.bar(left=1,height=y_predict_logreg[x_test[:,22]==0].mean(),width=0.7,color=greens(0.2),label='logreg')\n",
    "plt.bar(left=2,height=y_predict_lda[x_test[:,22]==0].mean(),width=0.7,color=greens(0.5),label='LDA')\n",
    "plt.bar(left=3,height=y_predict_tree[x_test[:,22]==0].mean(),width=0.7,color=greens(0.75),label='Tree')\n",
    "plt.bar(left=0,height=y_test[x_test[:,22]==0].mean(),width=0.7,color='black')\n",
    "plt.ylabel('p(switch | last reward == 0)',fontsize=30)\n",
    "plt.legend(loc='upper right',fontsize=20)\n",
    "plt.xticks([0.3,1.3,2.3,3.3],['Mouse','LogReg','LDA','Tree'],rotation=75,fontsize=30)\n",
    "plt.yticks(fontsize=20)\n",
    "plt.xlim(-0.1,3.8)\n"
   ]
  },
  {
   "cell_type": "markdown",
   "metadata": {},
   "source": [
    "# Weights idea\n",
    "assign weights propto negative streak value. IE the more you've gotten wrong in a row, the more likely you should be to switch. Actually - let's see if that's true first"
   ]
  },
  {
   "cell_type": "code",
   "execution_count": null,
   "metadata": {
    "collapsed": false
   },
   "outputs": [],
   "source": [
    "streaks = np.unique(data['Streak'].values)\n",
    "p_switch = np.zeros_like(streaks)\n",
    "\n",
    "for i,s in enumerate(streaks):\n",
    "    p_switch[i] = np.sum(data[data['Streak']== s]['Switch'].values).astype('float') / data[data['Streak']== s].shape[0]"
   ]
  },
  {
   "cell_type": "code",
   "execution_count": null,
   "metadata": {
    "collapsed": false,
    "scrolled": false
   },
   "outputs": [],
   "source": [
    "plt.scatter(streaks,p_switch,color='black')\n",
    "plt.title('Probability of switching vs # of consecutive non-rewarded trials in past',x=0.5,y=1.1)\n",
    "plt.ylabel('p(switch)')\n",
    "plt.xlabel('Streak')"
   ]
  },
  {
   "cell_type": "code",
   "execution_count": null,
   "metadata": {
    "collapsed": false
   },
   "outputs": [],
   "source": [
    "streaks = np.unique(data['Streak'].values)\n",
    "p_switch_true = np.zeros_like(streaks)\n",
    "p_switch_logreg = np.zeros_like(streaks)\n",
    "p_switch_lda = np.zeros_like(streaks)\n",
    "p_switch_tree = np.zeros_like(streaks)\n",
    "p_switch_bench = np.zeros_like(streaks)\n",
    "\n",
    "for i,s in enumerate(streaks):\n",
    "    p_switch_true[i] = np.sum(data[data['Streak']== s]['Switch'].values).astype('float') / data[data['Streak']== s].shape[0]\n",
    "    p_switch_logreg[i] = np.sum(y_predict_logreg[x_test[:,4] == s]).astype('float') / np.sum(x_test[:,4] == s)\n",
    "    p_switch_lda[i] = np.sum(y_predict_lda[x_test[:,4] == s]).astype('float') / np.sum(x_test[:,4] == s)\n",
    "    p_switch_tree[i] = np.sum(y_predict_tree[x_test[:,4] == s]).astype('float') / np.sum(x_test[:,4] == s)\n",
    "    p_switch_bench[i] = np.sum(y_predict_bench[x_test[:,4] == s]).astype('float') / np.sum(x_test[:,4] == s)"
   ]
  },
  {
   "cell_type": "code",
   "execution_count": null,
   "metadata": {
    "collapsed": false
   },
   "outputs": [],
   "source": [
    "plt.figure(figsize=(14,4))\n",
    "plt.plot(streaks,p_switch_true,color='black',label='true',alpha=0.7,linewidth=5)\n",
    "plt.plot(streaks,p_switch_logreg-0.02,color=greys(0.3),label = 'logreg',alpha=0.7,linewidth=5)\n",
    "plt.plot(streaks,p_switch_lda-0.04,color=greys(0.5),label='lda',alpha=0.5,linewidth=5)\n",
    "plt.plot(streaks,p_switch_tree-0.06,color=greys(0.7),label='tree',alpha=0.5,linewidth=5)\n",
    "plt.plot(streaks,p_switch_bench,color='red',label='win-stay lose-switch',alpha=0.5,linewidth=5)\n",
    "plt.legend(bbox_to_anchor=(1.0,1),fontsize=20)\n",
    "plt.title('Probability of switching vs current streak',x=0.5,y=1.1,fontsize=30)\n",
    "plt.ylabel('p(switch)',fontsize=30)\n",
    "plt.xlabel('Streak',fontsize=30)\n",
    "plt.xticks(np.arange(-10,10,1),fontsize=20)\n",
    "plt.yticks([0,0.5,1.0],fontsize=20)\n",
    "plt.ylim(-0.1,1.1)\n",
    "plt.xlim(-5,5)\n",
    "sns.despine()"
   ]
  },
  {
   "cell_type": "code",
   "execution_count": null,
   "metadata": {
    "collapsed": false
   },
   "outputs": [],
   "source": [
    "p_switch_true"
   ]
  },
  {
   "cell_type": "code",
   "execution_count": null,
   "metadata": {
    "collapsed": false
   },
   "outputs": [],
   "source": [
    "data.shape[0]*.01"
   ]
  },
  {
   "cell_type": "markdown",
   "metadata": {},
   "source": [
    "Should compare this graph with 90-10, 70-30 conditions.\n",
    "\n",
    "This is where all of the false positives are coming!"
   ]
  },
  {
   "cell_type": "markdown",
   "metadata": {},
   "source": [
    "# Try weighting training samples more if they have a negative streak value"
   ]
  },
  {
   "cell_type": "code",
   "execution_count": null,
   "metadata": {
    "collapsed": false
   },
   "outputs": [],
   "source": [
    "data.columns.get_loc('2_Reward')"
   ]
  },
  {
   "cell_type": "code",
   "execution_count": null,
   "metadata": {
    "collapsed": false
   },
   "outputs": [],
   "source": [
    "sample_weights = np.zeros_like(y_train)\n",
    "sample_weights[x_train[:,18] == 1] += 0.01\n",
    "sample_weights[x_train[:,14] == 1] += 0.5\n",
    "sample_weights[x_train[:,10] == 1] += 0.3"
   ]
  },
  {
   "cell_type": "markdown",
   "metadata": {},
   "source": [
    "### Decision Tree"
   ]
  },
  {
   "cell_type": "code",
   "execution_count": null,
   "metadata": {
    "collapsed": false,
    "scrolled": true
   },
   "outputs": [],
   "source": [
    "weighted_tree = Tree.DecisionTreeClassifier(max_depth = 4,class_weight='balanced')\n",
    "weighted_tree.fit(x_train,y_train,sample_weight=sample_weights)\n",
    "y_predict = weighted_tree.predict(x_test)\n",
    "acc_pos,acc_neg,F1=sf.score_both_and_confuse(y_predict,y_test,disp=True,confusion=False)"
   ]
  },
  {
   "cell_type": "markdown",
   "metadata": {},
   "source": [
    "### Logistic Regression"
   ]
  },
  {
   "cell_type": "code",
   "execution_count": null,
   "metadata": {
    "collapsed": false
   },
   "outputs": [],
   "source": [
    "weighted_logreg = sklearn.linear_model.LogisticRegressionCV(Cs=10,penalty='l2',class_weight='balanced')\n",
    "weighted_logreg.fit(x_train,y_train,sample_weight=sample_weights)\n",
    "y_predict = weighted_logreg.predict(x_test)\n",
    "acc_pos,acc_neg,F1=sf.score_both_and_confuse(y_predict,y_test,confusion=False)"
   ]
  },
  {
   "cell_type": "markdown",
   "metadata": {},
   "source": [
    "Well that doesn't seem to do much. "
   ]
  },
  {
   "cell_type": "markdown",
   "metadata": {},
   "source": [
    "## Models are having trouble predicting 'stay' when previous reward == 0. What do those trials look like?"
   ]
  },
  {
   "cell_type": "code",
   "execution_count": null,
   "metadata": {
    "collapsed": true
   },
   "outputs": [],
   "source": [
    "data_noR_stay = data[data['1_Reward'] == 0]"
   ]
  },
  {
   "cell_type": "code",
   "execution_count": null,
   "metadata": {
    "collapsed": false
   },
   "outputs": [],
   "source": [
    "p_switch_no2R = np.sum(data_noR_stay[data_noR_stay['2_Reward'] == 0]['Decision'].values).astype('float') / data_noR_stay[data_noR_stay['2_Reward'] == 0].shape[0]\n",
    "p_switch_no3R = np.sum(data_noR_stay[data_noR_stay['3_Reward'] == 0]['Decision'].values).astype('float') / data_noR_stay[data_noR_stay['3_Reward'] == 0].shape[0]\n",
    "p_switch_no4R = np.sum(data_noR_stay[data_noR_stay['4_Reward'] == 0]['Decision'].values).astype('float') / data_noR_stay[data_noR_stay['4_Reward'] == 0].shape[0]\n",
    "\n",
    "p_switch_2R = np.sum(data_noR_stay[data_noR_stay['2_Reward'] == 1]['Decision'].values).astype('float') / data_noR_stay[data_noR_stay['2_Reward'] == 1].shape[0]\n",
    "p_switch_3R = np.sum(data_noR_stay[data_noR_stay['3_Reward'] == 1]['Decision'].values).astype('float') / data_noR_stay[data_noR_stay['3_Reward'] == 1].shape[0]\n",
    "p_switch_4R = np.sum(data_noR_stay[data_noR_stay['4_Reward'] == 1]['Decision'].values).astype('float') / data_noR_stay[data_noR_stay['4_Reward'] == 1].shape[0]\n",
    "\n",
    "p_switch_noR = np.array([p_switch_no2R,p_switch_no3R,p_switch_no4R])\n",
    "p_switch_R = np.array([p_switch_2R,p_switch_3R,p_switch_4R])"
   ]
  },
  {
   "cell_type": "code",
   "execution_count": null,
   "metadata": {
    "collapsed": false
   },
   "outputs": [],
   "source": [
    "plt.figure(figsize=(10,4))\n",
    "plt.scatter([2,3,4],p_switch_noR,color='red',label='No Reward',s=50)\n",
    "plt.scatter([2,3,4],p_switch_R,color='grey',label = 'Reward',s=50)\n",
    "plt.xticks([2,3,4],['t - 2','t - 3','t - 4'])\n",
    "plt.xlabel('trial')\n",
    "plt.ylabel('p(switch)')\n",
    "plt.legend(loc='best')\n",
    "plt.title('p(switching) given t-1 trial was unrewarded')\n",
    "plt.ylim(0,1)"
   ]
  },
  {
   "cell_type": "code",
   "execution_count": null,
   "metadata": {
    "collapsed": false
   },
   "outputs": [],
   "source": [
    "p_switch_R"
   ]
  },
  {
   "cell_type": "markdown",
   "metadata": {},
   "source": [
    "So here the t-2 no reward is a true streak of -2. But the rest aren't neccesarily - for t-3 to be unrewarded, the t-2 could have been rewarded. But remember this graph is *only for the case where t-1 was unrewarded*.\n",
    "\n",
    "So what does this tell us. I'm struggling to take away a clear, coherent interpretation. My intuition is that we need to combine the 'reward streak' with some sort of 'port streak' metric. "
   ]
  },
  {
   "cell_type": "markdown",
   "metadata": {},
   "source": [
    "# Logistic Regression with interaction terms"
   ]
  },
  {
   "cell_type": "code",
   "execution_count": null,
   "metadata": {
    "collapsed": true
   },
   "outputs": [],
   "source": [
    "poly = preprocessing.PolynomialFeatures(degree=2,interaction_only=True)\n",
    "x_train_poly = poly.fit_transform(x_train)\n",
    "x_test_poly = poly.transform(x_test)"
   ]
  },
  {
   "cell_type": "code",
   "execution_count": null,
   "metadata": {
    "collapsed": false
   },
   "outputs": [],
   "source": [
    "poly_logreg = sklearn.linear_model.LogisticRegressionCV(Cs=10,penalty='l2',class_weight='balanced')\n",
    "poly_logreg.fit(x_train_poly,y_train)\n",
    "y_predict = poly_logreg.predict(x_test_poly)\n",
    "acc_pos,acc_neg,F1=sf.score_both_and_confuse(y_predict,y_test,confusion=False)"
   ]
  },
  {
   "cell_type": "markdown",
   "metadata": {},
   "source": [
    "But the interaction terms aren't really want we want: if we multiply 1_Reward = 0 with 2_Reward = 1 we just get 0. That's not very informative.\n",
    "\n",
    "What if we instead calculate the fraction of rewarded trials in the last 5?"
   ]
  },
  {
   "cell_type": "code",
   "execution_count": null,
   "metadata": {
    "collapsed": false,
    "scrolled": true
   },
   "outputs": [],
   "source": [
    "reward_outcomes = data[['1_Reward','2_Reward','3_Reward','4_Reward','5_Reward']].copy()\n",
    "frac_reward = reward_outcomes.mean(axis=1)\n",
    "frac_reward.shape\n",
    "\n",
    "new_data = data.iloc[:,:-2].copy()\n",
    "new_data['frac_reward'] = frac_reward\n",
    "new_data['Decision'] = data['Decision'].values\n",
    "new_data['Switch'] = data['Switch'].values\n",
    "new_data.head(5)"
   ]
  },
  {
   "cell_type": "markdown",
   "metadata": {},
   "source": [
    "## Take a look at mouse behavior vs frac_reward"
   ]
  },
  {
   "cell_type": "code",
   "execution_count": null,
   "metadata": {
    "collapsed": true
   },
   "outputs": [],
   "source": [
    "reward_fractions = np.unique(new_data['frac_reward'].values)\n",
    "p_switch_true = np.zeros_like(reward_fractions)\n",
    "\n",
    "for i,s in enumerate(reward_fractions):\n",
    "    p_switch_true[i] = np.sum(new_data[new_data['frac_reward']== s]['Switch'].values).astype('float') / new_data[new_data['frac_reward']== s].shape[0]"
   ]
  },
  {
   "cell_type": "code",
   "execution_count": null,
   "metadata": {
    "collapsed": false
   },
   "outputs": [],
   "source": [
    "plt.figure(figsize=(7,4))\n",
    "plt.scatter(reward_fractions,p_switch_true,color='black',label='true',s=50,alpha=0.7)\n",
    "plt.ylabel('p(switching)')\n",
    "plt.xlabel('Fraction of rewards given in last 5 trials')"
   ]
  },
  {
   "cell_type": "markdown",
   "metadata": {},
   "source": [
    "*Note here fraction = 0.0 should be exactly equivalent to a streak of -5*"
   ]
  },
  {
   "cell_type": "markdown",
   "metadata": {},
   "source": [
    "# Looking at p(switch) for each combination of last 3 reward outcomes"
   ]
  },
  {
   "cell_type": "code",
   "execution_count": null,
   "metadata": {
    "collapsed": true
   },
   "outputs": [],
   "source": [
    "combinations = ['000','001','010','100','101','110','011','111']\n",
    "data_3R = data[['1_Reward','2_Reward','3_Reward']]\n",
    "row_str = []\n",
    "for row in range(data_3R.shape[0]):\n",
    "    row_str.append(np.array_str(data_3R.iloc[row,:].values.astype('int')))"
   ]
  },
  {
   "cell_type": "code",
   "execution_count": null,
   "metadata": {
    "collapsed": false
   },
   "outputs": [],
   "source": [
    "combo = np.zeros((len(row_str),len(set(row_str))))\n",
    "for j,s in enumerate(set(row_str)): \n",
    "    for i,row in enumerate(row_str):\n",
    "        combo[i,j] = s == row"
   ]
  },
  {
   "cell_type": "code",
   "execution_count": null,
   "metadata": {
    "collapsed": false,
    "scrolled": true
   },
   "outputs": [],
   "source": [
    "num_combo = np.zeros(len(set(row_str)))\n",
    "num_switch = np.zeros(len(set(row_str)))\n",
    "p_switch_combo = np.zeros(len(set(row_str)))\n",
    "\n",
    "for c in range(combo.shape[1]):\n",
    "    num_combo[c] = np.sum(combo[:,c])\n",
    "    num_switch[c] = np.sum(data.iloc[np.where(combo[:,c] == 1)]['Switch'].values)\n",
    "    p_switch_combo[c] = num_switch[c]/num_combo[c].astype('float')"
   ]
  },
  {
   "cell_type": "code",
   "execution_count": null,
   "metadata": {
    "collapsed": false
   },
   "outputs": [],
   "source": [
    "combinations = []\n",
    "for s in set(row_str):\n",
    "    combinations.append(s)\n",
    "combinations = np.asarray(combinations)"
   ]
  },
  {
   "cell_type": "code",
   "execution_count": null,
   "metadata": {
    "collapsed": false,
    "scrolled": false
   },
   "outputs": [],
   "source": [
    "plt.figure(figsize=(10,4))\n",
    "plt.scatter(np.arange(p_switch_combo.shape[0]),np.sort(p_switch_combo),color='black',s=25,alpha=0.5)\n",
    "\n",
    "#0 rewards\n",
    "plt.scatter([7],np.sort(p_switch_combo)[7],color='red',s=70,label='0 rewards')\n",
    "#1 reward\n",
    "plt.scatter([1,5,6],np.sort(p_switch_combo)[[3,5,6]],color='orange',s=70,label='1 reward')\n",
    "#2 rewards\n",
    "plt.scatter([2,3,4],np.sort(p_switch_combo)[[0,2,4]],color='yellow',s=70,label='2 rewards')\n",
    "#3 rewards\n",
    "plt.scatter([0],np.sort(p_switch_combo)[1],color='green',s=70,label='3 rewards')\n",
    "\n",
    "plt.legend(loc='upper left')\n",
    "plt.xticks(np.arange(p_switch_combo.shape[0]),combinations[np.argsort(p_switch_combo)])\n",
    "plt.title('p(switch) vs last 3 trial outcome permutation')\n",
    "plt.ylabel('p(switch)')\n",
    "plt.xlabel('Last three trial outcomes\\n(most recent first)')"
   ]
  },
  {
   "cell_type": "code",
   "execution_count": null,
   "metadata": {
    "collapsed": false
   },
   "outputs": [],
   "source": [
    "#extract features and decisions\n",
    "x = new_data.iloc[:,:-2].values\n",
    "y = new_data.iloc[:,-1].values\n",
    "\n",
    "#split into training and testing\n",
    "n_trials = x.shape[0]\n",
    "shuf_inds = np.random.permutation(n_trials)\n",
    "split_ind = int(n_trials*0.7)\n",
    "\n",
    "x_train = x[shuf_inds[:split_ind],:]\n",
    "y_train = y[shuf_inds[:split_ind]]\n",
    "\n",
    "x_test_ = x[shuf_inds[split_ind:],:]\n",
    "y_test_ = y[shuf_inds[split_ind:]]"
   ]
  },
  {
   "cell_type": "code",
   "execution_count": null,
   "metadata": {
    "collapsed": false
   },
   "outputs": [],
   "source": [
    "logreg = sklearn.linear_model.LogisticRegressionCV(Cs=10,penalty='l2',class_weight='balanced')\n",
    "logreg.fit(x_train_,y_train)\n",
    "y_predict = logreg.predict(x_test_)\n",
    "acc_pos,acc_neg,F1=sf.score_both_and_confuse(y_predict,y_test_,confusion=False)"
   ]
  },
  {
   "cell_type": "code",
   "execution_count": null,
   "metadata": {
    "collapsed": false
   },
   "outputs": [],
   "source": [
    "coefs = logreg.coef_\n",
    "plt.figure(figsize=(10,5))\n",
    "plt.scatter(np.arange(coefs[0].shape[0]),coefs[0],color='purple')\n",
    "plt.xticks(np.arange(coefs[0].shape[0]),new_data.columns.values[:-2],rotation='vertical')\n",
    "plt.ylabel('beta value')\n",
    "plt.xlabel('Feature number')"
   ]
  },
  {
   "cell_type": "code",
   "execution_count": null,
   "metadata": {
    "collapsed": false,
    "scrolled": true
   },
   "outputs": [],
   "source": [
    "lda = discriminant_analysis.LinearDiscriminantAnalysis(priors=[0.6,0.4])\n",
    "lda.fit(x_train,y_train)\n",
    "y_predict = lda.predict(x_test)\n",
    "acc_pos,acc_neg,F1=sf.score_both_and_confuse(y_predict,y_test,disp=True,confusion=False)"
   ]
  },
  {
   "cell_type": "code",
   "execution_count": null,
   "metadata": {
    "collapsed": false
   },
   "outputs": [],
   "source": [
    "coefs = lda.coef_\n",
    "plt.figure(figsize=(10,5))\n",
    "plt.scatter(np.arange(coefs[0].shape[0]),coefs[0],color='purple')\n",
    "plt.xticks(np.arange(coefs[0].shape[0]),new_data.columns.values[:-2],rotation='vertical')\n",
    "plt.ylabel('beta value')\n",
    "plt.xlabel('Feature number')"
   ]
  },
  {
   "cell_type": "markdown",
   "metadata": {},
   "source": [
    "# Single feature decision trees"
   ]
  },
  {
   "cell_type": "code",
   "execution_count": null,
   "metadata": {
    "collapsed": false
   },
   "outputs": [],
   "source": [
    "features = new_data.columns.values[:-2]\n",
    "P = np.arange(0.8,1.0,0.01)\n",
    "F1 = np.zeros(x.shape[1])\n",
    "w = np.zeros(x.shape[1])\n",
    "\n",
    "for i in range(x.shape[1]):\n",
    "    \n",
    "    for p in P:\n",
    "        prior = np.array([1.0-p,p])\n",
    "        tree = Tree.DecisionTreeClassifier(max_depth=1,class_weight={0:prior[0],1:prior[1]})\n",
    "\n",
    "        kf = model_selection.KFold(n_splits=3)\n",
    "        cum_F1 = 0.0\n",
    "\n",
    "        for train_index,test_index in kf.split(x_train):\n",
    "            x_train_cv = x_train[train_index,i].reshape(x_train[train_index].shape[0],1)\n",
    "            y_train_cv = y_train[train_index]\n",
    "            x_test_cv = x_train[test_index,i].reshape(x_train[test_index].shape[0],1)\n",
    "            y_test_cv = y_train[test_index]\n",
    "\n",
    "            tree.fit(x_train_cv,y_train_cv)\n",
    "            y_predict = tree.predict(x_test_cv)\n",
    "\n",
    "            acc_pos,acc_neg,F1_k = sf.score_both_and_confuse(y_predict,y_test_cv,confusion=False,disp=False)\n",
    "\n",
    "            cum_F1 += F1_k\n",
    "\n",
    "        F1_cv = cum_F1 / 3.0\n",
    "\n",
    "        if F1_cv > F1[i]:\n",
    "            F1[i] = F1_cv\n",
    "            w[i] = p"
   ]
  },
  {
   "cell_type": "code",
   "execution_count": null,
   "metadata": {
    "collapsed": false
   },
   "outputs": [],
   "source": [
    "plt.figure(figsize=(10,3))\n",
    "fig,ax1 = plt.subplots()\n",
    "ax1.scatter(np.arange(x.shape[1]),F1,color='black')\n",
    "plt.xticks(np.arange(x.shape[1]),new_data.columns.values[:-2],rotation = 90)\n",
    "ax1.set_ylim(0,0.4)\n",
    "#ax1.set_yticklabels(['','',0.10,0.15,0.20,0.25,0.30])\n",
    "ax1.set_ylabel('F1 score')\n",
    "ax1.yaxis.set_label_coords(-0.1,.65)\n",
    "\n",
    "ax2 = ax1.twinx()\n",
    "ax2.scatter(np.arange(x.shape[1]),w,color='red')\n",
    "ax2.set_ylim(0.8,1.5)\n",
    "ax2.set_yticks([0.7,0.8,0.9,1.0])\n",
    "ax2.set_ylabel('Class Weight',color='r',)\n",
    "ax2.yaxis.set_label_coords(1.1,0.15)\n",
    "ax2.grid('off')\n",
    "for tl in ax2.get_yticklabels():\n",
    "    tl.set_color('r')\n",
    "plt.title('Single feature trees tuned for class weights')"
   ]
  },
  {
   "cell_type": "markdown",
   "metadata": {},
   "source": [
    "# Gaussian Mixture Model"
   ]
  },
  {
   "cell_type": "code",
   "execution_count": null,
   "metadata": {
    "collapsed": true
   },
   "outputs": [],
   "source": [
    "from sklearn import mixture"
   ]
  },
  {
   "cell_type": "code",
   "execution_count": null,
   "metadata": {
    "collapsed": false
   },
   "outputs": [],
   "source": [
    "gmm = mixture.GaussianMixture(n_components=2,n_init=5)\n",
    "gmm.fit(x_train,y_train)"
   ]
  },
  {
   "cell_type": "code",
   "execution_count": null,
   "metadata": {
    "collapsed": true
   },
   "outputs": [],
   "source": [
    "y_predict = gmm.predict(x_test)"
   ]
  },
  {
   "cell_type": "code",
   "execution_count": null,
   "metadata": {
    "collapsed": false,
    "scrolled": true
   },
   "outputs": [],
   "source": [
    "acc_pos,acc_neg,F1=sf.score_both_and_confuse(y_predict,y_test,disp=True,confusion=False)"
   ]
  },
  {
   "cell_type": "markdown",
   "metadata": {},
   "source": [
    "this is the exact same as LDA"
   ]
  },
  {
   "cell_type": "code",
   "execution_count": null,
   "metadata": {
    "collapsed": false,
    "scrolled": true
   },
   "outputs": [],
   "source": [
    "plt.scatter(np.arange(27),gmm.means_[0],color='purple')\n",
    "plt.scatter(np.arange(27),gmm.means_[1],color='green')"
   ]
  },
  {
   "cell_type": "code",
   "execution_count": null,
   "metadata": {
    "collapsed": true
   },
   "outputs": [],
   "source": []
  },
  {
   "cell_type": "code",
   "execution_count": null,
   "metadata": {
    "collapsed": false,
    "scrolled": true
   },
   "outputs": [],
   "source": [
    "qda = discriminant_analysis.QuadraticDiscriminantAnalysis(priors=[0.05,0.95])\n",
    "qda.fit(x_train,y_train)\n",
    "y_predict_qda = qda.predict(x_test)\n",
    "acc_pos,acc_neg,F1=sf.score_both_and_confuse(y_predict_qda,y_test,disp=True,confusion=False)"
   ]
  },
  {
   "cell_type": "code",
   "execution_count": null,
   "metadata": {
    "collapsed": false
   },
   "outputs": [],
   "source": [
    "coefs = lda.coef_\n",
    "plt.figure(figsize=(10,5))\n",
    "plt.scatter(np.arange(coefs[0].shape[0]),coefs[0],color='purple')\n",
    "plt.xticks(np.arange(coefs[0].shape[0]),feature_names,rotation='vertical')\n",
    "plt.ylabel('beta value')\n",
    "plt.xlabel('Feature number')"
   ]
  },
  {
   "cell_type": "code",
   "execution_count": null,
   "metadata": {
    "collapsed": false,
    "scrolled": false
   },
   "outputs": [],
   "source": [
    "data.iloc[0,:]"
   ]
  },
  {
   "cell_type": "code",
   "execution_count": null,
   "metadata": {
    "collapsed": true
   },
   "outputs": [],
   "source": []
  }
 ],
 "metadata": {
  "anaconda-cloud": {},
  "kernelspec": {
   "display_name": "Python [conda env:cagrin]",
   "language": "python",
   "name": "conda-env-cagrin-py"
  },
  "language_info": {
   "codemirror_mode": {
    "name": "ipython",
    "version": 3
   },
   "file_extension": ".py",
   "mimetype": "text/x-python",
   "name": "python",
   "nbconvert_exporter": "python",
   "pygments_lexer": "ipython3",
   "version": "3.5.2"
  }
 },
 "nbformat": 4,
 "nbformat_minor": 1
}

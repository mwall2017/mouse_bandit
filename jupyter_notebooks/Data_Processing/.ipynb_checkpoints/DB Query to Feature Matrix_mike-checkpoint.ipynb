{
 "cells": [
  {
   "cell_type": "markdown",
   "metadata": {},
   "source": [
    "# Creating a feature matrix from a DB Query"
   ]
  },
  {
   "cell_type": "code",
   "execution_count": 27,
   "metadata": {
    "collapsed": true
   },
   "outputs": [],
   "source": [
    "import sys\n",
    "sys.path.append('/Users/Sabatini Lab/GitHub/mouse_bandit/data_preprocessing_code')\n",
    "sys.path.append('/Users/Sabatini Lab/GitHub/mouse_bandit')\n",
    "import support_functions as sf\n",
    "import numpy as np\n",
    "import pandas as pd\n",
    "import scipy as sp\n",
    "import bandit_preprocessing as bp\n",
    "from sklearn import preprocessing\n",
    "import sys\n",
    "import os\n",
    "%matplotlib inline "
   ]
  },
  {
   "cell_type": "markdown",
   "metadata": {},
   "source": [
    "## Retrieve names of sessions you want from the DB"
   ]
  },
  {
   "cell_type": "code",
   "execution_count": 28,
   "metadata": {
    "collapsed": true
   },
   "outputs": [],
   "source": [
    "#load in data base\n",
    "db = pd.read_csv('/Users/Sabatini Lab/GitHub/mouse_bandit/mike_session_record.csv',index_col=0)"
   ]
  },
  {
   "cell_type": "markdown",
   "metadata": {},
   "source": [
    "### Query all 90-10 sessions where performance > 0.7 block structure was 50 and had no laser trials"
   ]
  },
  {
   "cell_type": "code",
   "execution_count": 29,
   "metadata": {
    "collapsed": true
   },
   "outputs": [],
   "source": [
    "r = db[((db['Left Reward Prob'] == 0.7) |  (db['Right Reward Prob'] == 0.7))].copy()\n",
    "r = r[r['p(high Port)'] > 0.6].copy()\n",
    "r = r[r['Block Range Min'] == 50].copy()\n",
    "r = r[r['Laser Stim Prob'] == 0].copy()\n",
    "\n",
    "session_names = r['Session ID'].values "
   ]
  },
  {
   "cell_type": "code",
   "execution_count": 30,
   "metadata": {
    "scrolled": false
   },
   "outputs": [
    {
     "data": {
      "text/html": [
       "<div>\n",
       "<style>\n",
       "    .dataframe thead tr:only-child th {\n",
       "        text-align: right;\n",
       "    }\n",
       "\n",
       "    .dataframe thead th {\n",
       "        text-align: left;\n",
       "    }\n",
       "\n",
       "    .dataframe tbody tr th {\n",
       "        vertical-align: top;\n",
       "    }\n",
       "</style>\n",
       "<table border=\"1\" class=\"dataframe\">\n",
       "  <thead>\n",
       "    <tr style=\"text-align: right;\">\n",
       "      <th></th>\n",
       "      <th>Owner</th>\n",
       "      <th>Session ID</th>\n",
       "      <th>Mouse ID</th>\n",
       "      <th>Date</th>\n",
       "      <th>Phase</th>\n",
       "      <th>Laser Stim Prob</th>\n",
       "      <th>Left Reward Prob</th>\n",
       "      <th>Right Reward Prob</th>\n",
       "      <th>Block Range Min</th>\n",
       "      <th>Block Range Max</th>\n",
       "      <th>No. Trials</th>\n",
       "      <th>No. Blocks</th>\n",
       "      <th>No. Rewards</th>\n",
       "      <th>p(high Port)</th>\n",
       "      <th>Decision Window Duration</th>\n",
       "      <th>Min Inter-trial-interval</th>\n",
       "      <th>Left Solenoid Duration</th>\n",
       "      <th>Right Solenoid Duration</th>\n",
       "    </tr>\n",
       "  </thead>\n",
       "  <tbody>\n",
       "    <tr>\n",
       "      <th>1184</th>\n",
       "      <td>mike</td>\n",
       "      <td>08232017_SOM41</td>\n",
       "      <td>SOM41</td>\n",
       "      <td>2017-08-23 00:00:00</td>\n",
       "      <td>2</td>\n",
       "      <td>0.0</td>\n",
       "      <td>0.3</td>\n",
       "      <td>0.7</td>\n",
       "      <td>50</td>\n",
       "      <td>50</td>\n",
       "      <td>527</td>\n",
       "      <td>5</td>\n",
       "      <td>297</td>\n",
       "      <td>0.67</td>\n",
       "      <td>2</td>\n",
       "      <td>1.0</td>\n",
       "      <td>40</td>\n",
       "      <td>40</td>\n",
       "    </tr>\n",
       "    <tr>\n",
       "      <th>1185</th>\n",
       "      <td>mike</td>\n",
       "      <td>08232017_SOM44</td>\n",
       "      <td>SOM44</td>\n",
       "      <td>2017-08-23 00:00:00</td>\n",
       "      <td>2</td>\n",
       "      <td>0.0</td>\n",
       "      <td>0.3</td>\n",
       "      <td>0.7</td>\n",
       "      <td>50</td>\n",
       "      <td>50</td>\n",
       "      <td>357</td>\n",
       "      <td>4</td>\n",
       "      <td>212</td>\n",
       "      <td>0.79</td>\n",
       "      <td>2</td>\n",
       "      <td>1.0</td>\n",
       "      <td>40</td>\n",
       "      <td>40</td>\n",
       "    </tr>\n",
       "    <tr>\n",
       "      <th>1186</th>\n",
       "      <td>mike</td>\n",
       "      <td>08232017_SOM45</td>\n",
       "      <td>SOM45</td>\n",
       "      <td>2017-08-23 00:00:00</td>\n",
       "      <td>2</td>\n",
       "      <td>0.0</td>\n",
       "      <td>0.3</td>\n",
       "      <td>0.7</td>\n",
       "      <td>50</td>\n",
       "      <td>50</td>\n",
       "      <td>716</td>\n",
       "      <td>7</td>\n",
       "      <td>390</td>\n",
       "      <td>0.71</td>\n",
       "      <td>2</td>\n",
       "      <td>1.0</td>\n",
       "      <td>40</td>\n",
       "      <td>40</td>\n",
       "    </tr>\n",
       "    <tr>\n",
       "      <th>1190</th>\n",
       "      <td>mike</td>\n",
       "      <td>08242017_SOM41</td>\n",
       "      <td>SOM41</td>\n",
       "      <td>2017-08-24 00:00:00</td>\n",
       "      <td>2</td>\n",
       "      <td>0.0</td>\n",
       "      <td>0.3</td>\n",
       "      <td>0.7</td>\n",
       "      <td>50</td>\n",
       "      <td>50</td>\n",
       "      <td>532</td>\n",
       "      <td>6</td>\n",
       "      <td>303</td>\n",
       "      <td>0.71</td>\n",
       "      <td>2</td>\n",
       "      <td>1.0</td>\n",
       "      <td>40</td>\n",
       "      <td>40</td>\n",
       "    </tr>\n",
       "    <tr>\n",
       "      <th>1191</th>\n",
       "      <td>mike</td>\n",
       "      <td>08242017_SOM44</td>\n",
       "      <td>SOM44</td>\n",
       "      <td>2017-08-24 00:00:00</td>\n",
       "      <td>2</td>\n",
       "      <td>0.0</td>\n",
       "      <td>0.7</td>\n",
       "      <td>0.3</td>\n",
       "      <td>50</td>\n",
       "      <td>50</td>\n",
       "      <td>449</td>\n",
       "      <td>5</td>\n",
       "      <td>275</td>\n",
       "      <td>0.73</td>\n",
       "      <td>2</td>\n",
       "      <td>1.0</td>\n",
       "      <td>40</td>\n",
       "      <td>40</td>\n",
       "    </tr>\n",
       "    <tr>\n",
       "      <th>1192</th>\n",
       "      <td>mike</td>\n",
       "      <td>08242017_SOM45</td>\n",
       "      <td>SOM45</td>\n",
       "      <td>2017-08-24 00:00:00</td>\n",
       "      <td>2</td>\n",
       "      <td>0.0</td>\n",
       "      <td>0.3</td>\n",
       "      <td>0.7</td>\n",
       "      <td>50</td>\n",
       "      <td>50</td>\n",
       "      <td>814</td>\n",
       "      <td>10</td>\n",
       "      <td>499</td>\n",
       "      <td>0.74</td>\n",
       "      <td>2</td>\n",
       "      <td>1.0</td>\n",
       "      <td>40</td>\n",
       "      <td>40</td>\n",
       "    </tr>\n",
       "  </tbody>\n",
       "</table>\n",
       "</div>"
      ],
      "text/plain": [
       "     Owner      Session ID Mouse ID                 Date  Phase  \\\n",
       "1184  mike  08232017_SOM41    SOM41  2017-08-23 00:00:00      2   \n",
       "1185  mike  08232017_SOM44    SOM44  2017-08-23 00:00:00      2   \n",
       "1186  mike  08232017_SOM45    SOM45  2017-08-23 00:00:00      2   \n",
       "1190  mike  08242017_SOM41    SOM41  2017-08-24 00:00:00      2   \n",
       "1191  mike  08242017_SOM44    SOM44  2017-08-24 00:00:00      2   \n",
       "1192  mike  08242017_SOM45    SOM45  2017-08-24 00:00:00      2   \n",
       "\n",
       "      Laser Stim Prob  Left Reward Prob  Right Reward Prob  Block Range Min  \\\n",
       "1184              0.0               0.3                0.7               50   \n",
       "1185              0.0               0.3                0.7               50   \n",
       "1186              0.0               0.3                0.7               50   \n",
       "1190              0.0               0.3                0.7               50   \n",
       "1191              0.0               0.7                0.3               50   \n",
       "1192              0.0               0.3                0.7               50   \n",
       "\n",
       "      Block Range Max  No. Trials  No. Blocks  No. Rewards  p(high Port)  \\\n",
       "1184               50         527           5          297          0.67   \n",
       "1185               50         357           4          212          0.79   \n",
       "1186               50         716           7          390          0.71   \n",
       "1190               50         532           6          303          0.71   \n",
       "1191               50         449           5          275          0.73   \n",
       "1192               50         814          10          499          0.74   \n",
       "\n",
       "      Decision Window Duration  Min Inter-trial-interval  \\\n",
       "1184                         2                       1.0   \n",
       "1185                         2                       1.0   \n",
       "1186                         2                       1.0   \n",
       "1190                         2                       1.0   \n",
       "1191                         2                       1.0   \n",
       "1192                         2                       1.0   \n",
       "\n",
       "      Left Solenoid Duration  Right Solenoid Duration  \n",
       "1184                      40                       40  \n",
       "1185                      40                       40  \n",
       "1186                      40                       40  \n",
       "1190                      40                       40  \n",
       "1191                      40                       40  \n",
       "1192                      40                       40  "
      ]
     },
     "execution_count": 30,
     "metadata": {},
     "output_type": "execute_result"
    }
   ],
   "source": [
    "r.tail(10)"
   ]
  },
  {
   "cell_type": "code",
   "execution_count": 31,
   "metadata": {},
   "outputs": [
    {
     "data": {
      "text/plain": [
       "(6, 18)"
      ]
     },
     "execution_count": 31,
     "metadata": {},
     "output_type": "execute_result"
    }
   ],
   "source": [
    "r.shape"
   ]
  },
  {
   "cell_type": "markdown",
   "metadata": {},
   "source": [
    "## load in csv files (from running exportTrials.m) added in 'Laser Given' column in trials for new data format following opto changes"
   ]
  },
  {
   "cell_type": "code",
   "execution_count": 32,
   "metadata": {
    "collapsed": true
   },
   "outputs": [],
   "source": [
    "'''\n",
    "load in trial data\n",
    "'''\n",
    "columns = ['Elapsed Time (s)','Since last trial (s)','Trial Duration (s)','Port Poked','Right Reward Prob','Left Reward Prob','Reward Given', 'Laser Given']\n",
    "\n",
    "root_dir = '/Users/Sabatini Lab/GitHub/mouse_bandit/data/mike_data/trial_data'\n",
    "\n",
    "trial_df = []\n",
    "\n",
    "for session in session_names:\n",
    "    full_name = session + '_trials.csv'\n",
    "    \n",
    "    path_name = os.path.join(root_dir,full_name)\n",
    "    \n",
    "    trial_df.append(pd.read_csv(path_name,names=columns))\n",
    "\n",
    "mouse_ids = r['Mouse ID'].values"
   ]
  },
  {
   "cell_type": "code",
   "execution_count": 33,
   "metadata": {},
   "outputs": [
    {
     "data": {
      "text/plain": [
       "6"
      ]
     },
     "execution_count": 33,
     "metadata": {},
     "output_type": "execute_result"
    }
   ],
   "source": [
    "len(trial_df)"
   ]
  },
  {
   "cell_type": "markdown",
   "metadata": {},
   "source": [
    "## convert into 1 feature matrix"
   ]
  },
  {
   "cell_type": "code",
   "execution_count": 34,
   "metadata": {
    "collapsed": true
   },
   "outputs": [],
   "source": [
    "for i,df in enumerate(trial_df):\n",
    "    \n",
    "    curr_feature_matrix = bp.create_feature_matrix(df,10,mouse_ids[i],session_names[i],feature_names='Default')\n",
    "    \n",
    "    if i == 0:\n",
    "        master_matrix = curr_feature_matrix.copy()\n",
    "    else:\n",
    "        master_matrix = master_matrix.append(curr_feature_matrix)\n",
    "    "
   ]
  },
  {
   "cell_type": "code",
   "execution_count": 35,
   "metadata": {
    "scrolled": true
   },
   "outputs": [
    {
     "data": {
      "text/plain": [
       "(3335, 53)"
      ]
     },
     "execution_count": 35,
     "metadata": {},
     "output_type": "execute_result"
    }
   ],
   "source": [
    "master_matrix.shape"
   ]
  },
  {
   "cell_type": "code",
   "execution_count": 36,
   "metadata": {},
   "outputs": [
    {
     "data": {
      "text/plain": [
       "0.72503748125937029"
      ]
     },
     "execution_count": 36,
     "metadata": {},
     "output_type": "execute_result"
    }
   ],
   "source": [
    "master_matrix['Higher p port'].mean()"
   ]
  },
  {
   "cell_type": "markdown",
   "metadata": {},
   "source": [
    "## Stephenson et al acquired ~6500 trials per animal"
   ]
  },
  {
   "cell_type": "code",
   "execution_count": 37,
   "metadata": {
    "scrolled": true
   },
   "outputs": [
    {
     "data": {
      "text/plain": [
       "array(['08232017_SOM41', '08232017_SOM44', '08232017_SOM45',\n",
       "       '08242017_SOM41', '08242017_SOM44', '08242017_SOM45'], dtype=object)"
      ]
     },
     "execution_count": 37,
     "metadata": {},
     "output_type": "execute_result"
    }
   ],
   "source": [
    "master_matrix['Session ID'].unique()"
   ]
  },
  {
   "cell_type": "code",
   "execution_count": 38,
   "metadata": {
    "scrolled": false
   },
   "outputs": [
    {
     "data": {
      "text/html": [
       "<div>\n",
       "<style>\n",
       "    .dataframe thead tr:only-child th {\n",
       "        text-align: right;\n",
       "    }\n",
       "\n",
       "    .dataframe thead th {\n",
       "        text-align: left;\n",
       "    }\n",
       "\n",
       "    .dataframe tbody tr th {\n",
       "        vertical-align: top;\n",
       "    }\n",
       "</style>\n",
       "<table border=\"1\" class=\"dataframe\">\n",
       "  <thead>\n",
       "    <tr style=\"text-align: right;\">\n",
       "      <th></th>\n",
       "      <th>Mouse ID</th>\n",
       "      <th>Session ID</th>\n",
       "      <th>Trial</th>\n",
       "      <th>Block Trial</th>\n",
       "      <th>Block Reward</th>\n",
       "      <th>Port Streak</th>\n",
       "      <th>Reward Streak</th>\n",
       "      <th>10_Port</th>\n",
       "      <th>10_Reward</th>\n",
       "      <th>10_ITI</th>\n",
       "      <th>...</th>\n",
       "      <th>1_Port</th>\n",
       "      <th>1_Reward</th>\n",
       "      <th>1_ITI</th>\n",
       "      <th>1_trialDuration</th>\n",
       "      <th>0_ITI</th>\n",
       "      <th>0_trialDuration</th>\n",
       "      <th>Decision</th>\n",
       "      <th>Switch</th>\n",
       "      <th>Higher p port</th>\n",
       "      <th>Reward</th>\n",
       "    </tr>\n",
       "  </thead>\n",
       "  <tbody>\n",
       "    <tr>\n",
       "      <th>794</th>\n",
       "      <td>SOM45</td>\n",
       "      <td>08242017_SOM45</td>\n",
       "      <td>805.0</td>\n",
       "      <td>68.0</td>\n",
       "      <td>47.0</td>\n",
       "      <td>38.0</td>\n",
       "      <td>-1.0</td>\n",
       "      <td>0.567</td>\n",
       "      <td>1.0</td>\n",
       "      <td>0.0</td>\n",
       "      <td>...</td>\n",
       "      <td>0.525</td>\n",
       "      <td>1.0</td>\n",
       "      <td>0.0</td>\n",
       "      <td>1.434</td>\n",
       "      <td>0.346</td>\n",
       "      <td>1.918</td>\n",
       "      <td>1.0</td>\n",
       "      <td>0.0</td>\n",
       "      <td>1.0</td>\n",
       "      <td>0.0</td>\n",
       "    </tr>\n",
       "    <tr>\n",
       "      <th>795</th>\n",
       "      <td>SOM45</td>\n",
       "      <td>08242017_SOM45</td>\n",
       "      <td>806.0</td>\n",
       "      <td>69.0</td>\n",
       "      <td>47.0</td>\n",
       "      <td>39.0</td>\n",
       "      <td>-2.0</td>\n",
       "      <td>0.542</td>\n",
       "      <td>1.0</td>\n",
       "      <td>1.0</td>\n",
       "      <td>...</td>\n",
       "      <td>0.346</td>\n",
       "      <td>1.0</td>\n",
       "      <td>0.0</td>\n",
       "      <td>1.918</td>\n",
       "      <td>0.567</td>\n",
       "      <td>1.771</td>\n",
       "      <td>1.0</td>\n",
       "      <td>0.0</td>\n",
       "      <td>1.0</td>\n",
       "      <td>1.0</td>\n",
       "    </tr>\n",
       "    <tr>\n",
       "      <th>796</th>\n",
       "      <td>SOM45</td>\n",
       "      <td>08242017_SOM45</td>\n",
       "      <td>807.0</td>\n",
       "      <td>70.0</td>\n",
       "      <td>48.0</td>\n",
       "      <td>40.0</td>\n",
       "      <td>1.0</td>\n",
       "      <td>0.606</td>\n",
       "      <td>1.0</td>\n",
       "      <td>0.0</td>\n",
       "      <td>...</td>\n",
       "      <td>0.567</td>\n",
       "      <td>1.0</td>\n",
       "      <td>1.0</td>\n",
       "      <td>1.771</td>\n",
       "      <td>0.542</td>\n",
       "      <td>1.586</td>\n",
       "      <td>1.0</td>\n",
       "      <td>0.0</td>\n",
       "      <td>1.0</td>\n",
       "      <td>0.0</td>\n",
       "    </tr>\n",
       "    <tr>\n",
       "      <th>797</th>\n",
       "      <td>SOM45</td>\n",
       "      <td>08242017_SOM45</td>\n",
       "      <td>808.0</td>\n",
       "      <td>71.0</td>\n",
       "      <td>48.0</td>\n",
       "      <td>41.0</td>\n",
       "      <td>-1.0</td>\n",
       "      <td>0.580</td>\n",
       "      <td>1.0</td>\n",
       "      <td>1.0</td>\n",
       "      <td>...</td>\n",
       "      <td>0.542</td>\n",
       "      <td>1.0</td>\n",
       "      <td>0.0</td>\n",
       "      <td>1.586</td>\n",
       "      <td>0.606</td>\n",
       "      <td>1.664</td>\n",
       "      <td>1.0</td>\n",
       "      <td>0.0</td>\n",
       "      <td>1.0</td>\n",
       "      <td>1.0</td>\n",
       "    </tr>\n",
       "    <tr>\n",
       "      <th>798</th>\n",
       "      <td>SOM45</td>\n",
       "      <td>08242017_SOM45</td>\n",
       "      <td>809.0</td>\n",
       "      <td>72.0</td>\n",
       "      <td>49.0</td>\n",
       "      <td>42.0</td>\n",
       "      <td>1.0</td>\n",
       "      <td>0.487</td>\n",
       "      <td>1.0</td>\n",
       "      <td>1.0</td>\n",
       "      <td>...</td>\n",
       "      <td>0.606</td>\n",
       "      <td>1.0</td>\n",
       "      <td>1.0</td>\n",
       "      <td>1.664</td>\n",
       "      <td>0.580</td>\n",
       "      <td>1.350</td>\n",
       "      <td>1.0</td>\n",
       "      <td>0.0</td>\n",
       "      <td>1.0</td>\n",
       "      <td>0.0</td>\n",
       "    </tr>\n",
       "    <tr>\n",
       "      <th>799</th>\n",
       "      <td>SOM45</td>\n",
       "      <td>08242017_SOM45</td>\n",
       "      <td>810.0</td>\n",
       "      <td>73.0</td>\n",
       "      <td>49.0</td>\n",
       "      <td>43.0</td>\n",
       "      <td>-1.0</td>\n",
       "      <td>0.617</td>\n",
       "      <td>1.0</td>\n",
       "      <td>1.0</td>\n",
       "      <td>...</td>\n",
       "      <td>0.580</td>\n",
       "      <td>1.0</td>\n",
       "      <td>0.0</td>\n",
       "      <td>1.350</td>\n",
       "      <td>0.487</td>\n",
       "      <td>1.800</td>\n",
       "      <td>0.0</td>\n",
       "      <td>1.0</td>\n",
       "      <td>0.0</td>\n",
       "      <td>0.0</td>\n",
       "    </tr>\n",
       "    <tr>\n",
       "      <th>800</th>\n",
       "      <td>SOM45</td>\n",
       "      <td>08242017_SOM45</td>\n",
       "      <td>811.0</td>\n",
       "      <td>74.0</td>\n",
       "      <td>49.0</td>\n",
       "      <td>1.0</td>\n",
       "      <td>-2.0</td>\n",
       "      <td>0.464</td>\n",
       "      <td>1.0</td>\n",
       "      <td>1.0</td>\n",
       "      <td>...</td>\n",
       "      <td>0.487</td>\n",
       "      <td>0.0</td>\n",
       "      <td>0.0</td>\n",
       "      <td>1.800</td>\n",
       "      <td>0.617</td>\n",
       "      <td>1.350</td>\n",
       "      <td>1.0</td>\n",
       "      <td>1.0</td>\n",
       "      <td>1.0</td>\n",
       "      <td>1.0</td>\n",
       "    </tr>\n",
       "    <tr>\n",
       "      <th>801</th>\n",
       "      <td>SOM45</td>\n",
       "      <td>08242017_SOM45</td>\n",
       "      <td>812.0</td>\n",
       "      <td>0.0</td>\n",
       "      <td>50.0</td>\n",
       "      <td>1.0</td>\n",
       "      <td>1.0</td>\n",
       "      <td>0.478</td>\n",
       "      <td>1.0</td>\n",
       "      <td>1.0</td>\n",
       "      <td>...</td>\n",
       "      <td>0.617</td>\n",
       "      <td>1.0</td>\n",
       "      <td>1.0</td>\n",
       "      <td>1.350</td>\n",
       "      <td>0.464</td>\n",
       "      <td>1.648</td>\n",
       "      <td>1.0</td>\n",
       "      <td>0.0</td>\n",
       "      <td>0.0</td>\n",
       "      <td>0.0</td>\n",
       "    </tr>\n",
       "    <tr>\n",
       "      <th>802</th>\n",
       "      <td>SOM45</td>\n",
       "      <td>08242017_SOM45</td>\n",
       "      <td>813.0</td>\n",
       "      <td>1.0</td>\n",
       "      <td>0.0</td>\n",
       "      <td>2.0</td>\n",
       "      <td>-1.0</td>\n",
       "      <td>0.472</td>\n",
       "      <td>1.0</td>\n",
       "      <td>1.0</td>\n",
       "      <td>...</td>\n",
       "      <td>0.464</td>\n",
       "      <td>1.0</td>\n",
       "      <td>0.0</td>\n",
       "      <td>1.648</td>\n",
       "      <td>0.478</td>\n",
       "      <td>2.212</td>\n",
       "      <td>1.0</td>\n",
       "      <td>0.0</td>\n",
       "      <td>0.0</td>\n",
       "      <td>0.0</td>\n",
       "    </tr>\n",
       "    <tr>\n",
       "      <th>803</th>\n",
       "      <td>SOM45</td>\n",
       "      <td>08242017_SOM45</td>\n",
       "      <td>814.0</td>\n",
       "      <td>2.0</td>\n",
       "      <td>0.0</td>\n",
       "      <td>3.0</td>\n",
       "      <td>-2.0</td>\n",
       "      <td>0.544</td>\n",
       "      <td>1.0</td>\n",
       "      <td>0.0</td>\n",
       "      <td>...</td>\n",
       "      <td>0.478</td>\n",
       "      <td>1.0</td>\n",
       "      <td>0.0</td>\n",
       "      <td>2.212</td>\n",
       "      <td>0.472</td>\n",
       "      <td>1.162</td>\n",
       "      <td>1.0</td>\n",
       "      <td>0.0</td>\n",
       "      <td>0.0</td>\n",
       "      <td>0.0</td>\n",
       "    </tr>\n",
       "  </tbody>\n",
       "</table>\n",
       "<p>10 rows × 53 columns</p>\n",
       "</div>"
      ],
      "text/plain": [
       "    Mouse ID      Session ID  Trial  Block Trial  Block Reward  Port Streak  \\\n",
       "794    SOM45  08242017_SOM45  805.0         68.0          47.0         38.0   \n",
       "795    SOM45  08242017_SOM45  806.0         69.0          47.0         39.0   \n",
       "796    SOM45  08242017_SOM45  807.0         70.0          48.0         40.0   \n",
       "797    SOM45  08242017_SOM45  808.0         71.0          48.0         41.0   \n",
       "798    SOM45  08242017_SOM45  809.0         72.0          49.0         42.0   \n",
       "799    SOM45  08242017_SOM45  810.0         73.0          49.0         43.0   \n",
       "800    SOM45  08242017_SOM45  811.0         74.0          49.0          1.0   \n",
       "801    SOM45  08242017_SOM45  812.0          0.0          50.0          1.0   \n",
       "802    SOM45  08242017_SOM45  813.0          1.0           0.0          2.0   \n",
       "803    SOM45  08242017_SOM45  814.0          2.0           0.0          3.0   \n",
       "\n",
       "     Reward Streak  10_Port  10_Reward  10_ITI   ...    1_Port  1_Reward  \\\n",
       "794           -1.0    0.567        1.0     0.0   ...     0.525       1.0   \n",
       "795           -2.0    0.542        1.0     1.0   ...     0.346       1.0   \n",
       "796            1.0    0.606        1.0     0.0   ...     0.567       1.0   \n",
       "797           -1.0    0.580        1.0     1.0   ...     0.542       1.0   \n",
       "798            1.0    0.487        1.0     1.0   ...     0.606       1.0   \n",
       "799           -1.0    0.617        1.0     1.0   ...     0.580       1.0   \n",
       "800           -2.0    0.464        1.0     1.0   ...     0.487       0.0   \n",
       "801            1.0    0.478        1.0     1.0   ...     0.617       1.0   \n",
       "802           -1.0    0.472        1.0     1.0   ...     0.464       1.0   \n",
       "803           -2.0    0.544        1.0     0.0   ...     0.478       1.0   \n",
       "\n",
       "     1_ITI  1_trialDuration  0_ITI  0_trialDuration  Decision  Switch  \\\n",
       "794    0.0            1.434  0.346            1.918       1.0     0.0   \n",
       "795    0.0            1.918  0.567            1.771       1.0     0.0   \n",
       "796    1.0            1.771  0.542            1.586       1.0     0.0   \n",
       "797    0.0            1.586  0.606            1.664       1.0     0.0   \n",
       "798    1.0            1.664  0.580            1.350       1.0     0.0   \n",
       "799    0.0            1.350  0.487            1.800       0.0     1.0   \n",
       "800    0.0            1.800  0.617            1.350       1.0     1.0   \n",
       "801    1.0            1.350  0.464            1.648       1.0     0.0   \n",
       "802    0.0            1.648  0.478            2.212       1.0     0.0   \n",
       "803    0.0            2.212  0.472            1.162       1.0     0.0   \n",
       "\n",
       "     Higher p port  Reward  \n",
       "794            1.0     0.0  \n",
       "795            1.0     1.0  \n",
       "796            1.0     0.0  \n",
       "797            1.0     1.0  \n",
       "798            1.0     0.0  \n",
       "799            0.0     0.0  \n",
       "800            1.0     1.0  \n",
       "801            0.0     0.0  \n",
       "802            0.0     0.0  \n",
       "803            0.0     0.0  \n",
       "\n",
       "[10 rows x 53 columns]"
      ]
     },
     "execution_count": 38,
     "metadata": {},
     "output_type": "execute_result"
    }
   ],
   "source": [
    "master_matrix.tail(10)"
   ]
  },
  {
   "cell_type": "markdown",
   "metadata": {},
   "source": [
    "## Save combined feature matrix  "
   ]
  },
  {
   "cell_type": "code",
   "execution_count": 13,
   "metadata": {
    "collapsed": true
   },
   "outputs": [],
   "source": [
    "#master_matrix.to_csv(os.path.join(root_dir,'all_9010_high.csv'))"
   ]
  },
  {
   "cell_type": "code",
   "execution_count": 124,
   "metadata": {
    "collapsed": true
   },
   "outputs": [],
   "source": [
    "#master_matrix.to_csv(os.path.join(root_dir,'all_8020_high.csv'))"
   ]
  },
  {
   "cell_type": "code",
   "execution_count": 39,
   "metadata": {
    "collapsed": true
   },
   "outputs": [],
   "source": [
    "master_matrix.to_csv(os.path.join(root_dir,'all_7030_high.csv'))"
   ]
  }
 ],
 "metadata": {
  "anaconda-cloud": {},
  "kernelspec": {
   "display_name": "Python 3",
   "language": "python",
   "name": "python3"
  },
  "language_info": {
   "codemirror_mode": {
    "name": "ipython",
    "version": 3
   },
   "file_extension": ".py",
   "mimetype": "text/x-python",
   "name": "python",
   "nbconvert_exporter": "python",
   "pygments_lexer": "ipython3",
   "version": "3.5.3"
  }
 },
 "nbformat": 4,
 "nbformat_minor": 1
}

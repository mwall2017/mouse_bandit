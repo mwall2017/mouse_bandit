{
 "cells": [
  {
   "cell_type": "code",
   "execution_count": 1,
   "metadata": {
    "collapsed": true
   },
   "outputs": [],
   "source": [
    "import numpy as np\n",
    "import pandas as pd\n",
    "import os"
   ]
  },
  {
   "cell_type": "code",
   "execution_count": 3,
   "metadata": {
    "collapsed": true
   },
   "outputs": [],
   "source": [
    "record_df = pd.read_csv('/Users/Sabatini Lab/GitHub/mouse_bandit/session_record.csv',index_col=0)"
   ]
  },
  {
   "cell_type": "code",
   "execution_count": 9,
   "metadata": {
    "collapsed": true
   },
   "outputs": [],
   "source": [
    "owner_id = 'mike'"
   ]
  },
  {
   "cell_type": "code",
   "execution_count": 10,
   "metadata": {
    "collapsed": true
   },
   "outputs": [],
   "source": [
    "root_dir = 'Users/Sabatini Lab/Dropbox (HMS)/07142017/test2'"
   ]
  },
  {
   "cell_type": "code",
   "execution_count": 4,
   "metadata": {},
   "outputs": [],
   "source": [
    "output_df = record_df.copy()"
   ]
  },
  {
   "cell_type": "code",
   "execution_count": 5,
   "metadata": {
    "collapsed": true
   },
   "outputs": [],
   "source": [
    "names = [\n",
    "        'Owner',\n",
    "        'Session ID',\n",
    "        'Mouse ID',\n",
    "        'Date',\n",
    "        'Phase',\n",
    "        'Left Reward Prob',\n",
    "        'Right Reward Prob',\n",
    "        'Block Range Min',\n",
    "        'Block Range Max',\n",
    "        'No. Trials',\n",
    "        'No. Blocks',\n",
    "        'No. Rewards',\n",
    "        'p(high Port)',\n",
    "        'Decision Window Duration',\n",
    "        'Min Inter-trial-interval',\n",
    "        'Left Solenoid Duration',\n",
    "        'Right Solenoid Duration'\n",
    "    ]\n"
   ]
  },
  {
   "cell_type": "code",
   "execution_count": 13,
   "metadata": {},
   "outputs": [
    {
     "ename": "SyntaxError",
     "evalue": "unexpected EOF while parsing (<ipython-input-13-3a291d7b0d67>, line 13)",
     "output_type": "error",
     "traceback": [
      "\u001b[1;36m  File \u001b[1;32m\"<ipython-input-13-3a291d7b0d67>\"\u001b[1;36m, line \u001b[1;32m13\u001b[0m\n\u001b[1;33m    \u001b[0m\n\u001b[1;37m    ^\u001b[0m\n\u001b[1;31mSyntaxError\u001b[0m\u001b[1;31m:\u001b[0m unexpected EOF while parsing\n"
     ]
    }
   ],
   "source": [
    "try:  \n",
    "        for file in os.listdir(root_dir):\n",
    "            if not file[0] == '.':\n",
    "                file_name = os.path.join(root_dir,file)\n",
    "                \n",
    "                if 'trials.csv' in file:\n",
    "                    trials = pd.read_csv(file_name,names=columns)\n",
    "                    session_id = file[:file.index('_',9)]\n",
    "                    \n",
    "                elif 'parameters.csv' in file:\n",
    "                    params = pd.read_csv(file_name)\n",
    "\n",
    "            else:\n",
    "                raise ValueError('In a hidden folder')\n",
    "                    "
   ]
  }
 ],
 "metadata": {
  "kernelspec": {
   "display_name": "Python 3",
   "language": "python",
   "name": "python3"
  },
  "language_info": {
   "codemirror_mode": {
    "name": "ipython",
    "version": 3
   },
   "file_extension": ".py",
   "mimetype": "text/x-python",
   "name": "python",
   "nbconvert_exporter": "python",
   "pygments_lexer": "ipython3",
   "version": "3.5.3"
  }
 },
 "nbformat": 4,
 "nbformat_minor": 2
}

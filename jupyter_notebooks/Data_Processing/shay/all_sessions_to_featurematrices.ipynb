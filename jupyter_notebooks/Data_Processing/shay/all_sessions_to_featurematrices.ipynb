{
 "cells": [
  {
   "cell_type": "markdown",
   "metadata": {},
   "source": [
    "# Creating a feature matrix for each session\n",
    "\n",
    "This is useful to a number of things. In general, easier to create a folder where each session has a feature matrix. Then we can append different feature matrices (by mouse / date etc...) "
   ]
  },
  {
   "cell_type": "code",
   "execution_count": 15,
   "metadata": {
    "collapsed": false
   },
   "outputs": [],
   "source": [
    "import sys\n",
    "sys.path.append('/Users/shayneufeld/GitHub/mouse_bandit/data_preprocessing_code')\n",
    "sys.path.append('/Users/shayneufeld/GitHub/mouse_bandit')\n",
    "import support_functions as sf\n",
    "import numpy as np\n",
    "import pandas as pd\n",
    "import scipy as sp\n",
    "import bandit_preprocessing as bp\n",
    "from sklearn import preprocessing\n",
    "import sys\n",
    "import os\n",
    "%matplotlib inline "
   ]
  },
  {
   "cell_type": "markdown",
   "metadata": {},
   "source": [
    "## Load in record & and get names of each session"
   ]
  },
  {
   "cell_type": "code",
   "execution_count": 16,
   "metadata": {
    "collapsed": false
   },
   "outputs": [],
   "source": [
    "#load in data base\n",
    "db = pd.read_csv('/Users/shayneufeld/GitHub/mouse_bandit/session_record.csv',index_col=0)\n",
    "session_names = db['Session ID'].values\n",
    "mouse_ids = db['Mouse ID'].values\n",
    "session_ids = db['Session ID'].values"
   ]
  },
  {
   "cell_type": "markdown",
   "metadata": {},
   "source": [
    "## load in trial csv files (from running exportTrials.m)"
   ]
  },
  {
   "cell_type": "code",
   "execution_count": 17,
   "metadata": {
    "collapsed": false
   },
   "outputs": [],
   "source": [
    "'''\n",
    "load in trial data\n",
    "'''\n",
    "columns = ['Elapsed Time (s)','Since last trial (s)','Trial Duration (s)','Port Poked','Right Reward Prob','Left Reward Prob','Reward Given']\n",
    "\n",
    "root_dir = '/Users/shayneufeld/GitHub/mouse_bandit/data/trial_data'\n",
    "save_dir = '/Users/shayneufeld/GitHub/mouse_bandit/data/feature_data'\n",
    "\n",
    "for i,session in enumerate(session_names):\n",
    "    #get name of trial csv\n",
    "    full_name = session + '_trials.csv'\n",
    "    #get name of full patch to trial data\n",
    "    path_name = os.path.join(root_dir,full_name)\n",
    "    #read in trial csv file\n",
    "    trial_df = pd.read_csv(path_name,names=columns)\n",
    "    #create reduced feature matrix\n",
    "    feature_matrix = bp.create_reduced_feature_matrix(trial_df,mouse_ids[i],session_ids[i],feature_names='Default')\n",
    "    #create file name to be saved\n",
    "    save_name = session + '_features.csv'\n",
    "    #save feature matrix for this session\n",
    "    feature_matrix.to_csv(os.path.join(save_dir,save_name))"
   ]
  }
 ],
 "metadata": {
  "anaconda-cloud": {},
  "kernelspec": {
   "display_name": "Python [conda env:CaGRIN]",
   "language": "python",
   "name": "conda-env-CaGRIN-py"
  },
  "language_info": {
   "codemirror_mode": {
    "name": "ipython",
    "version": 3
   },
   "file_extension": ".py",
   "mimetype": "text/x-python",
   "name": "python",
   "nbconvert_exporter": "python",
   "pygments_lexer": "ipython3",
   "version": "3.5.2"
  }
 },
 "nbformat": 4,
 "nbformat_minor": 1
}

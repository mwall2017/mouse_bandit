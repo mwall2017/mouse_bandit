{
 "cells": [
  {
   "cell_type": "markdown",
   "metadata": {},
   "source": [
    "# Creating a feature matrix from a DB Query"
   ]
  },
  {
   "cell_type": "code",
   "execution_count": 1,
   "metadata": {
    "collapsed": false
   },
   "outputs": [],
   "source": [
    "import sys\n",
    "sys.path.append('/Users/shayneufeld/GitHub/mouse_bandit/data_preprocessing_code')\n",
    "sys.path.append('/Users/shayneufeld/GitHub/mouse_bandit')\n",
    "import support_functions as sf\n",
    "import numpy as np\n",
    "import pandas as pd\n",
    "import scipy as sp\n",
    "import bandit_preprocessing as bp\n",
    "from sklearn import preprocessing\n",
    "import sys\n",
    "import os\n",
    "%matplotlib inline "
   ]
  },
  {
   "cell_type": "markdown",
   "metadata": {},
   "source": [
    "## Retrieve names of sessions you want from the DB"
   ]
  },
  {
   "cell_type": "code",
   "execution_count": 2,
   "metadata": {
    "collapsed": true
   },
   "outputs": [],
   "source": [
    "#load in data base\n",
    "db = pd.read_csv('/Users/shayneufeld/GitHub/mouse_bandit/session_record.csv',index_col=0)"
   ]
  },
  {
   "cell_type": "code",
   "execution_count": 27,
   "metadata": {
    "collapsed": false
   },
   "outputs": [
    {
     "data": {
      "text/html": [
       "<div>\n",
       "<table border=\"1\" class=\"dataframe\">\n",
       "  <thead>\n",
       "    <tr style=\"text-align: right;\">\n",
       "      <th></th>\n",
       "      <th>Session ID</th>\n",
       "      <th>Mouse ID</th>\n",
       "      <th>Date</th>\n",
       "      <th>Phase</th>\n",
       "      <th>Left Reward Prob</th>\n",
       "      <th>Right Reward Prob</th>\n",
       "      <th>Block Range Min</th>\n",
       "      <th>Block Range Max</th>\n",
       "      <th>No. Trials</th>\n",
       "      <th>No. Blocks</th>\n",
       "      <th>No. Rewards</th>\n",
       "      <th>p(high Port)</th>\n",
       "      <th>Decision Window Duration</th>\n",
       "      <th>Min Inter-trial-interval</th>\n",
       "      <th>Left Solenoid Duration</th>\n",
       "      <th>Right Solenoid Duration</th>\n",
       "    </tr>\n",
       "  </thead>\n",
       "  <tbody>\n",
       "  </tbody>\n",
       "</table>\n",
       "</div>"
      ],
      "text/plain": [
       "Empty DataFrame\n",
       "Columns: [Session ID, Mouse ID, Date, Phase, Left Reward Prob, Right Reward Prob, Block Range Min, Block Range Max, No. Trials, No. Blocks, No. Rewards, p(high Port), Decision Window Duration, Min Inter-trial-interval, Left Solenoid Duration, Right Solenoid Duration]\n",
       "Index: []"
      ]
     },
     "execution_count": 27,
     "metadata": {},
     "output_type": "execute_result"
    }
   ],
   "source": [
    "db[db['Session ID']=='03262017_K13']"
   ]
  },
  {
   "cell_type": "markdown",
   "metadata": {},
   "source": [
    "### Query all 80-20 sessions where performance > 0.7 and block structure was 50"
   ]
  },
  {
   "cell_type": "code",
   "execution_count": 3,
   "metadata": {
    "collapsed": false
   },
   "outputs": [
    {
     "name": "stdout",
     "output_type": "stream",
     "text": [
      "100-0\n",
      "1\n",
      "90-10\n",
      "0.9\n",
      "80-20\n",
      "0.8\n",
      "70-30\n",
      "0.7\n"
     ]
    }
   ],
   "source": [
    "conditions = ['100-0','90-10','80-20','70-30']\n",
    "probs = [1,0.9,0.8,0.7]\n",
    "\n",
    "for condition,prob in zip(conditions,probs):\n",
    "    print(condition)\n",
    "    print(prob)"
   ]
  },
  {
   "cell_type": "code",
   "execution_count": 6,
   "metadata": {
    "collapsed": false,
    "scrolled": false
   },
   "outputs": [],
   "source": [
    "master_matrix = np.zeros(1)\n",
    "\n",
    "conditions = ['100-0','90-10','80-20','70-30']\n",
    "probs = [1,0.9,0.8,0.7]\n",
    "\n",
    "for condition,prob in zip(conditions,probs):\n",
    "    r = db[((db['Left Reward Prob'] == prob) |  (db['Right Reward Prob'] == prob))].copy()\n",
    "    r = r[r['p(high Port)'] > prob-0.1].copy()\n",
    "    r = r[r['Block Range Min'] == 50].copy()\n",
    "    r['Condition'] = condition\n",
    "    session_names = r['Session ID'].values\n",
    "    conditions_ = r['Condition'].values\n",
    "    \n",
    "    '''\n",
    "    load in trial data\n",
    "    '''\n",
    "    columns = ['Elapsed Time (s)','Since last trial (s)','Trial Duration (s)','Port Poked','Right Reward Prob','Left Reward Prob','Reward Given']\n",
    "\n",
    "    root_dir = '/Users/shayneufeld/GitHub/mouse_bandit/data/trial_data'\n",
    "\n",
    "    trial_df = []\n",
    "\n",
    "    #load in trials\n",
    "    for session in session_names:\n",
    "        full_name = session + '_trials.csv'\n",
    "\n",
    "        path_name = os.path.join(root_dir,full_name)\n",
    "\n",
    "        trial_df.append(pd.read_csv(path_name,names=columns))\n",
    "\n",
    "    mouse_ids = r['Mouse ID'].values\n",
    "    \n",
    "    \n",
    "    #create feature matrix\n",
    "    for i,df in enumerate(trial_df):\n",
    "    \n",
    "        curr_feature_matrix = bp.create_feature_matrix(df,10,mouse_ids[i],session_names[i],feature_names='Default')\n",
    "        curr_feature_matrix['Condition'] = condition\n",
    "\n",
    "        if master_matrix.shape[0]==1:\n",
    "            master_matrix = curr_feature_matrix.copy()\n",
    "        else:\n",
    "            master_matrix = master_matrix.append(curr_feature_matrix)\n"
   ]
  },
  {
   "cell_type": "code",
   "execution_count": 17,
   "metadata": {
    "collapsed": false
   },
   "outputs": [
    {
     "data": {
      "text/plain": [
       "array([158570, 158571, 158572, 158573, 158574, 158575, 158576, 158577,\n",
       "       158578, 158579, 158580, 158581, 158582, 158583, 158584, 158585,\n",
       "       158586, 158587, 158588, 158589, 158590, 158591, 158592, 158593,\n",
       "       158594, 158595, 158596, 158597, 158598, 158599, 158600, 158601,\n",
       "       158602, 158603, 158604, 158605, 158606, 158607, 158608, 158609,\n",
       "       158610, 158611, 158612, 158613, 158614, 158615, 158616, 158617,\n",
       "       158618, 158619, 158620, 158621, 158622, 158623, 158624, 158625,\n",
       "       158626, 158627, 158628, 158629, 158630, 158631, 158632, 158633,\n",
       "       158634, 158635, 158636, 158637, 158638, 158639, 158640, 158641,\n",
       "       158642, 158643, 158644, 158645, 158646, 158647, 158648, 158649,\n",
       "       158650, 158651, 158652, 158653, 158654, 158655, 158656, 158657,\n",
       "       158658, 158659, 158660, 158661, 158662, 158663, 158664, 158665,\n",
       "       158666, 158667, 158668, 158669, 158670, 158671, 158672, 158673,\n",
       "       158674, 158675, 158676, 158677, 158678, 158679, 158680, 158681,\n",
       "       158682, 158683, 158684, 158685, 158686, 158687, 158688, 158689,\n",
       "       158690, 158691, 158692, 158693, 158694, 158695, 158696, 158697,\n",
       "       158698, 158699, 158700, 158701, 158702, 158703, 158704, 158705,\n",
       "       158706, 158707, 158708, 158709, 158710, 158711, 158712, 158713,\n",
       "       158714, 158715, 158716, 158717, 158718, 158719, 158720, 158721,\n",
       "       158722, 158723, 158724, 158725, 158726, 158727, 158728, 158729,\n",
       "       158730, 158731, 158732, 158733, 158734, 158735, 158736, 158737,\n",
       "       158738, 158739, 158740, 158741, 158742, 158743, 158744, 158745,\n",
       "       158746, 158747, 158748, 158749, 158750, 158751, 158752, 158753,\n",
       "       158754, 158755, 158756, 158757, 158758, 158759, 158760, 158761,\n",
       "       158762, 158763, 158764, 158765, 158766, 158767, 158768, 158769,\n",
       "       158770, 158771, 158772, 158773, 158774, 158775, 158776, 158777,\n",
       "       158778, 158779, 158780, 158781, 158782, 158783, 158784, 158785,\n",
       "       158786, 158787, 158788, 158789, 158790, 158791, 158792, 158793,\n",
       "       158794, 158795, 158796, 158797, 158798, 158799, 158800, 158801,\n",
       "       158802, 158803, 158804, 158805, 158806, 158807, 158808, 158809,\n",
       "       158810, 158811, 158812, 158813, 158814, 158815, 158816, 158817,\n",
       "       158818, 158819, 158820, 158821, 158822, 158823, 158824, 158825,\n",
       "       158826, 158827, 158828, 158829, 158830, 158831, 158832, 158833,\n",
       "       158834, 158835, 158836, 158837, 158838, 158839, 158840, 158841,\n",
       "       158842, 158843, 158844, 158845, 158846, 158847, 158848, 158849,\n",
       "       158850, 158851, 158852, 158853, 158854, 158855, 158856, 158857,\n",
       "       158858, 158859, 158860, 158861, 158862, 158863, 158864, 158865,\n",
       "       158866, 158867, 158868, 158869, 158870, 158871, 158872, 158873,\n",
       "       158874, 158875, 158876, 158877, 158878, 158879, 158880, 158881,\n",
       "       158882, 158883, 158884, 158885, 158886, 158887, 158888, 158889,\n",
       "       158890, 158891, 158892, 158893, 158894, 158895, 158896, 158897,\n",
       "       158898, 158899, 158900, 158901, 158902, 158903, 158904, 158905,\n",
       "       158906, 158907, 158908, 158909, 158910, 158911, 158912, 158913,\n",
       "       158914, 158915, 158916, 158917, 158918, 158919, 158920, 158921,\n",
       "       158922, 158923, 158924, 158925, 158926, 158927, 158928, 158929,\n",
       "       158930, 158931, 158932, 158933, 158934, 158935, 158936, 158937,\n",
       "       158938, 158939, 158940, 158941, 158942, 158943, 158944, 158945,\n",
       "       158946, 158947, 158948, 158949, 158950, 158951, 158952, 158953,\n",
       "       158954, 158955, 158956, 158957, 158958, 158959, 158960])"
      ]
     },
     "execution_count": 17,
     "metadata": {},
     "output_type": "execute_result"
    }
   ],
   "source": [
    "master_matrix.index = np.arange(master_matrix.shape[0])\n",
    "\n",
    "master_matrix[master_matrix['Session ID']=='03242017_K13'].index.values"
   ]
  },
  {
   "cell_type": "code",
   "execution_count": 19,
   "metadata": {
    "collapsed": true
   },
   "outputs": [],
   "source": [
    "m=master_matrix.copy()"
   ]
  },
  {
   "cell_type": "code",
   "execution_count": null,
   "metadata": {
    "collapsed": true
   },
   "outputs": [],
   "source": [
    "m = m.drop(master_matrix[master_matrix['Session ID']=='03242017_K13'].index.values)"
   ]
  },
  {
   "cell_type": "code",
   "execution_count": 28,
   "metadata": {
    "collapsed": false
   },
   "outputs": [],
   "source": [
    "master_matrix = m.copy()"
   ]
  },
  {
   "cell_type": "markdown",
   "metadata": {},
   "source": [
    "## Save combined feature matrix  "
   ]
  },
  {
   "cell_type": "code",
   "execution_count": 29,
   "metadata": {
    "collapsed": false
   },
   "outputs": [],
   "source": [
    "master_matrix.to_csv(os.path.join(root_dir,'master_data.csv'))"
   ]
  },
  {
   "cell_type": "code",
   "execution_count": 9,
   "metadata": {
    "collapsed": false
   },
   "outputs": [
    {
     "data": {
      "text/plain": [
       "'/Users/shayneufeld/GitHub/mouse_bandit/data/trial_data'"
      ]
     },
     "execution_count": 9,
     "metadata": {},
     "output_type": "execute_result"
    }
   ],
   "source": [
    "root_dir"
   ]
  }
 ],
 "metadata": {
  "anaconda-cloud": {},
  "kernelspec": {
   "display_name": "Python [conda env:cagrin]",
   "language": "python",
   "name": "conda-env-cagrin-py"
  },
  "language_info": {
   "codemirror_mode": {
    "name": "ipython",
    "version": 3
   },
   "file_extension": ".py",
   "mimetype": "text/x-python",
   "name": "python",
   "nbconvert_exporter": "python",
   "pygments_lexer": "ipython3",
   "version": "3.5.2"
  }
 },
 "nbformat": 4,
 "nbformat_minor": 1
}

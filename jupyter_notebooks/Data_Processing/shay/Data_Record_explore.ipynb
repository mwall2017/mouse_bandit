{
 "cells": [
  {
   "cell_type": "code",
   "execution_count": 1,
   "metadata": {
    "collapsed": true
   },
   "outputs": [],
   "source": [
    "import sys\n",
    "sys.path.append('/Users/shayneufeld/GitHub/mouse_bandit/data_preprocessing_code')\n",
    "sys.path.append('/Users/shayneufeld/GitHub/mouse_bandit')\n",
    "import support_functions as sf\n",
    "import numpy as np\n",
    "import pandas as pd\n",
    "import scipy as sp\n",
    "import bandit_preprocessing as bp\n",
    "import sys\n",
    "import os\n",
    "import matplotlib.pyplot as plt\n",
    "%matplotlib inline"
   ]
  },
  {
   "cell_type": "code",
   "execution_count": 2,
   "metadata": {
    "collapsed": false
   },
   "outputs": [],
   "source": [
    "record = pd.read_csv('/Users/shayneufeld/GitHub/mouse_bandit/session_record.csv',index_col=0)"
   ]
  },
  {
   "cell_type": "code",
   "execution_count": 3,
   "metadata": {
    "collapsed": false
   },
   "outputs": [
    {
     "data": {
      "text/plain": [
       "(656, 16)"
      ]
     },
     "execution_count": 3,
     "metadata": {},
     "output_type": "execute_result"
    }
   ],
   "source": [
    "record.shape"
   ]
  },
  {
   "cell_type": "code",
   "execution_count": 5,
   "metadata": {
    "collapsed": false
   },
   "outputs": [],
   "source": [
    "r_8020 = record[((record['Left Reward Prob'] == 0.8) |  (record['Right Reward Prob'] == 0.8))].copy()\n",
    "r_8020 = r_8020[r_8020['p(high Port)'] > 0.7].copy()\n",
    "r_8020 = r_8020[r_8020['Block Range Min'] == 50].copy()"
   ]
  },
  {
   "cell_type": "code",
   "execution_count": 6,
   "metadata": {
    "collapsed": false
   },
   "outputs": [],
   "source": [
    "r_9010 = record[((record['Left Reward Prob'] == 0.9) |  (record['Right Reward Prob'] == 0.9))].copy()\n",
    "r_9010 = r_9010[r_9010['p(high Port)'] > 0.5].copy()\n",
    "r_9010 = r_9010[r_9010['Block Range Min'] == 50].copy()"
   ]
  },
  {
   "cell_type": "code",
   "execution_count": 16,
   "metadata": {
    "collapsed": false
   },
   "outputs": [
    {
     "data": {
      "text/html": [
       "<div>\n",
       "<table border=\"1\" class=\"dataframe\">\n",
       "  <thead>\n",
       "    <tr style=\"text-align: right;\">\n",
       "      <th></th>\n",
       "      <th>Session ID</th>\n",
       "      <th>Mouse ID</th>\n",
       "      <th>Date</th>\n",
       "      <th>Phase</th>\n",
       "      <th>Left Reward Prob</th>\n",
       "      <th>Right Reward Prob</th>\n",
       "      <th>Block Range Min</th>\n",
       "      <th>Block Range Max</th>\n",
       "      <th>No. Trials</th>\n",
       "      <th>No. Blocks</th>\n",
       "      <th>No. Rewards</th>\n",
       "      <th>p(high Port)</th>\n",
       "      <th>Decision Window Duration</th>\n",
       "      <th>Min Inter-trial-interval</th>\n",
       "      <th>Left Solenoid Duration</th>\n",
       "      <th>Right Solenoid Duration</th>\n",
       "    </tr>\n",
       "  </thead>\n",
       "  <tbody>\n",
       "    <tr>\n",
       "      <th>0</th>\n",
       "      <td>11012016_K1</td>\n",
       "      <td>K1</td>\n",
       "      <td>11012016</td>\n",
       "      <td>1.0</td>\n",
       "      <td>1.0</td>\n",
       "      <td>1.0</td>\n",
       "      <td>1000.0</td>\n",
       "      <td>1000.0</td>\n",
       "      <td>8.0</td>\n",
       "      <td>0.0</td>\n",
       "      <td>8.0</td>\n",
       "      <td>0.0</td>\n",
       "      <td>10.0</td>\n",
       "      <td>0.5</td>\n",
       "      <td>35.0</td>\n",
       "      <td>35.0</td>\n",
       "    </tr>\n",
       "    <tr>\n",
       "      <th>1</th>\n",
       "      <td>11022016_K1</td>\n",
       "      <td>K1</td>\n",
       "      <td>11022016</td>\n",
       "      <td>1.0</td>\n",
       "      <td>1.0</td>\n",
       "      <td>1.0</td>\n",
       "      <td>1000.0</td>\n",
       "      <td>1000.0</td>\n",
       "      <td>85.0</td>\n",
       "      <td>0.0</td>\n",
       "      <td>85.0</td>\n",
       "      <td>0.0</td>\n",
       "      <td>10.0</td>\n",
       "      <td>0.5</td>\n",
       "      <td>35.0</td>\n",
       "      <td>35.0</td>\n",
       "    </tr>\n",
       "  </tbody>\n",
       "</table>\n",
       "</div>"
      ],
      "text/plain": [
       "    Session ID Mouse ID      Date  Phase  Left Reward Prob  Right Reward Prob  \\\n",
       "0  11012016_K1       K1  11012016    1.0               1.0                1.0   \n",
       "1  11022016_K1       K1  11022016    1.0               1.0                1.0   \n",
       "\n",
       "   Block Range Min  Block Range Max  No. Trials  No. Blocks  No. Rewards  \\\n",
       "0           1000.0           1000.0         8.0         0.0          8.0   \n",
       "1           1000.0           1000.0        85.0         0.0         85.0   \n",
       "\n",
       "   p(high Port)  Decision Window Duration  Min Inter-trial-interval  \\\n",
       "0           0.0                      10.0                       0.5   \n",
       "1           0.0                      10.0                       0.5   \n",
       "\n",
       "   Left Solenoid Duration  Right Solenoid Duration  \n",
       "0                    35.0                     35.0  \n",
       "1                    35.0                     35.0  "
      ]
     },
     "execution_count": 16,
     "metadata": {},
     "output_type": "execute_result"
    }
   ],
   "source": [
    "record.head(2)"
   ]
  },
  {
   "cell_type": "markdown",
   "metadata": {
    "collapsed": false,
    "scrolled": false
   },
   "source": [
    "# Changes the 'Date' field to a datetime variable"
   ]
  },
  {
   "cell_type": "code",
   "execution_count": 45,
   "metadata": {
    "collapsed": false
   },
   "outputs": [],
   "source": [
    "tostring = lambda x:str(x)\n",
    "todate = lambda x:pd.to_datetime(x,format='%m%d%Y')"
   ]
  },
  {
   "cell_type": "code",
   "execution_count": 53,
   "metadata": {
    "collapsed": false
   },
   "outputs": [],
   "source": [
    "dates = []\n",
    "for i in range(record.shape[0]):\n",
    "    dates.append(todate(tostring(record.iloc[i]['Date'])))"
   ]
  },
  {
   "cell_type": "code",
   "execution_count": 55,
   "metadata": {
    "collapsed": false
   },
   "outputs": [],
   "source": [
    "record['Date'] = dates"
   ]
  },
  {
   "cell_type": "code",
   "execution_count": null,
   "metadata": {
    "collapsed": true
   },
   "outputs": [],
   "source": []
  }
 ],
 "metadata": {
  "anaconda-cloud": {},
  "kernelspec": {
   "display_name": "Python [conda env:CaGRIN]",
   "language": "python",
   "name": "conda-env-CaGRIN-py"
  },
  "language_info": {
   "codemirror_mode": {
    "name": "ipython",
    "version": 3
   },
   "file_extension": ".py",
   "mimetype": "text/x-python",
   "name": "python",
   "nbconvert_exporter": "python",
   "pygments_lexer": "ipython3",
   "version": "3.5.2"
  }
 },
 "nbformat": 4,
 "nbformat_minor": 1
}
